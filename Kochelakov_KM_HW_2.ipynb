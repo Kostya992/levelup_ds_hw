{
 "cells": [
  {
   "cell_type": "markdown",
   "metadata": {},
   "source": [
    "## Класс человека\n",
    "Моделирование человека — классическое упражнение для людей, которые пытаются научиться писать классы. Мы все знакомы с характеристиками и поведением людей, поэтому стоит попробовать это упражнение.\n",
    "* Определите класс Person().\n",
    "* В функции __init()__ определите несколько атрибутов человека. Хорошими атрибутами, которые следует учитывать, являются имя, возраст, место рождения и все, что вам нужно знать о людях в вашей жизни. Не менее 3 атрибутов.\n",
    "* Напишите один метод. Это может быть просто introduce_yourself(). Этот метод выводит такое утверждение, как «Здравствуйте, меня зовут Эрик».\n",
    "* Вы также можете создать такой метод, как age_person(). Простая версия этого метода просто добавит 1 к возрасту человека.\n",
    "* Создайте человека, установите соответствующие значения атрибутов и выведите информацию о человеке.\n",
    "* Вызовите свой метод для человека, которого вы создали. Убедитесь, что ваш метод выполняется правильно; если метод ничего не выводит напрямую, напечатайте что-нибудь до и после вызова метода, чтобы убедиться, что он сделал то, что предполагалось."
   ]
  },
  {
   "cell_type": "code",
   "execution_count": 12,
   "metadata": {},
   "outputs": [],
   "source": [
    "# Определите класс Person()\n",
    "class Person:\n",
    "    \n",
    "# В функции init() определите несколько атрибутов человека. Хорошими \n",
    "# атрибутами, которые следует учитывать, являются имя, возраст, место рождения\n",
    "# и все, что вам нужно знать о людях в вашей жизни. Не менее 3 атрибутов.\n",
    "    def __init__(self, name = 'Имя', age = 0, place_of_birth = 'N'):\n",
    "        self.name = name\n",
    "        self.age = age\n",
    "        self.place_of_birth = place_of_birth\n",
    "        \n",
    "# Напишите один метод. Это может быть просто introduce_yourself(). \n",
    "# Этот метод выводит такое утверждение, как «Здравствуйте, меня зовут Эрик».    \n",
    "    def introduce_yourself(self):\n",
    "        print(\"Здравствуйте, меня зовут \" + self.name)\n",
    "        \n",
    "# Вы также можете создать такой метод, как age_person(). Простая версия \n",
    "# этого метода просто добавит 1 к возрасту человека.    \n",
    "    def age_person(self):\n",
    "        self.age += 1\n",
    "       # print(self.age)"
   ]
  },
  {
   "cell_type": "code",
   "execution_count": 13,
   "metadata": {},
   "outputs": [
    {
     "name": "stdout",
     "output_type": "stream",
     "text": [
      "Имя            Константин\n",
      "Возрост        30\n",
      "Город рождения Красноярск\n"
     ]
    }
   ],
   "source": [
    "# Создайте человека, установите соответствующие значения атрибутов и \n",
    "# выведите информацию о человеке.\n",
    "human =Person()\n",
    "human.name = 'Константин'\n",
    "human.age = 30\n",
    "human.place_of_birth = 'Красноярск'\n",
    "print('Имя            ' + human.name)\n",
    "print('Возрост        ' + str(human.age))\n",
    "print('Город рождения ' + human.place_of_birth)"
   ]
  },
  {
   "cell_type": "code",
   "execution_count": 14,
   "metadata": {},
   "outputs": [
    {
     "name": "stdout",
     "output_type": "stream",
     "text": [
      "Здравствуйте, меня зовут Константин\n"
     ]
    }
   ],
   "source": [
    "human.introduce_yourself()"
   ]
  },
  {
   "cell_type": "code",
   "execution_count": 15,
   "metadata": {},
   "outputs": [
    {
     "data": {
      "text/plain": [
       "31"
      ]
     },
     "execution_count": 15,
     "metadata": {},
     "output_type": "execute_result"
    }
   ],
   "source": [
    "human.age_person()\n",
    "human.age"
   ]
  },
  {
   "cell_type": "code",
   "execution_count": 16,
   "metadata": {},
   "outputs": [
    {
     "name": "stdout",
     "output_type": "stream",
     "text": [
      "____________________\n",
      "<__main__.Person object at 0x0000023DA2CFC198>\n",
      "--------------------\n"
     ]
    },
    {
     "data": {
      "text/plain": [
       "<__main__.Person at 0x23da2cfc198>"
      ]
     },
     "execution_count": 16,
     "metadata": {},
     "output_type": "execute_result"
    }
   ],
   "source": [
    "# Вызовите свой метод для человека, которого вы создали. Убедитесь, \n",
    "# что ваш метод выполняется правильно; если метод ничего не выводит напрямую, \n",
    "# напечатайте что-нибудь до и после вызова метода, чтобы убедиться, \n",
    "# что он сделал то, что предполагалось.\n",
    "print('__'*10)\n",
    "print(human)\n",
    "print('--'*10)\n",
    "human"
   ]
  },
  {
   "cell_type": "markdown",
   "metadata": {},
   "source": [
    "## Студенческий класс\n",
    "\n",
    "* Начните с вашей программы из класса Person.\n",
    "* Создайте новый класс под названием Student, который наследуется от Person.\n",
    "* Определите некоторые качества, которые есть у учащегося, которых нет у других людей.\n",
    "    У учащегося есть школа, с которой он связан, год выпуска, средний балл и другие особые атрибуты.\n",
    "* Создайте объект Student и докажите, что вы правильно использовали наследование.\n",
    "* Установите некоторые значения атрибутов для учащегося, которые закодированы только в классе Person.\n",
    "* Установите некоторые значения атрибутов для учащегося, которые закодированы только в классе учащегося.\n",
    "* Выведите значения для всех этих атрибутов."
   ]
  },
  {
   "cell_type": "code",
   "execution_count": 17,
   "metadata": {},
   "outputs": [],
   "source": [
    "# Создайте новый класс под названием Student, который наследуется от Person.\n",
    "class Student(Person):\n",
    "    def __init__(self, name='name', age=0, place_of_birth='NN', school = 0,\n",
    "                 year_of_release = 0, average_score = 1):\n",
    "        super().__init__(name, age, place_of_birth)\n",
    "# Определите некоторые качества, которые есть у учащегося, которых нет у других\n",
    "# людей. У учащегося есть школа, с которой он связан, год выпуска, средний балл\n",
    "# и другие особые атрибуты.\n",
    "        self.school = school\n",
    "        self.year_of_release = year_of_release\n",
    "        self.average_score = average_score"
   ]
  },
  {
   "cell_type": "code",
   "execution_count": 18,
   "metadata": {},
   "outputs": [],
   "source": [
    "human = Student()"
   ]
  },
  {
   "cell_type": "code",
   "execution_count": 19,
   "metadata": {},
   "outputs": [
    {
     "name": "stdout",
     "output_type": "stream",
     "text": [
      "Здравствуйте, меня зовут name\n",
      "0\n",
      "1\n"
     ]
    }
   ],
   "source": [
    "# Создайте объект Student и докажите, что вы правильно использовали\n",
    "# наследование.\n",
    "human.introduce_yourself()\n",
    "print(human.age)\n",
    "human.age_person()\n",
    "print(human.age)"
   ]
  },
  {
   "cell_type": "code",
   "execution_count": 20,
   "metadata": {},
   "outputs": [],
   "source": [
    "# Установите некоторые значения атрибутов для учащегося, которые закодированы\n",
    "# только в классе Person\n",
    "human.name = 'Константин'\n",
    "human.age = 30\n",
    "human.place_of_birth = 'Красноярск'"
   ]
  },
  {
   "cell_type": "code",
   "execution_count": 21,
   "metadata": {},
   "outputs": [],
   "source": [
    "# Установите некоторые значения атрибутов для учащегося, которые закодированы\n",
    "# только в классе учащегося\n",
    "human.school = 31\n",
    "human.year_of_release = 2010\n",
    "human.average_score = 4"
   ]
  },
  {
   "cell_type": "code",
   "execution_count": 22,
   "metadata": {},
   "outputs": [
    {
     "name": "stdout",
     "output_type": "stream",
     "text": [
      "Имя            Константин\n",
      "Возрост        30\n",
      "Город рождения Красноярск\n",
      "Школа          №31\n",
      "Год выпуска    2010\n",
      "Средний бал    4\n"
     ]
    }
   ],
   "source": [
    "# Выведите значения для всех этих атрибутов.\n",
    "print('Имя            ' + human.name)\n",
    "print('Возрост        ' + str(human.age))\n",
    "print('Город рождения ' + human.place_of_birth)\n",
    "print('Школа          №' + str(human.school))\n",
    "print('Год выпуска    ' + str(human.year_of_release))\n",
    "print('Средний бал    ' + str(human.average_score))"
   ]
  }
 ],
 "metadata": {
  "kernelspec": {
   "display_name": "Python 3",
   "language": "python",
   "name": "python3"
  },
  "language_info": {
   "codemirror_mode": {
    "name": "ipython",
    "version": 3
   },
   "file_extension": ".py",
   "mimetype": "text/x-python",
   "name": "python",
   "nbconvert_exporter": "python",
   "pygments_lexer": "ipython3",
   "version": "3.7.0"
  }
 },
 "nbformat": 4,
 "nbformat_minor": 5
}
