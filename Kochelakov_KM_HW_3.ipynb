{
 "cells": [
  {
   "cell_type": "markdown",
   "metadata": {},
   "source": [
    "## Задание 1\n",
    "Создайте numpy array с элементами от числа N до 0 (например, для N = 10 это будет array([9, 8, 7, 6, 5, 4, 3, 2, 1, 0]))."
   ]
  },
  {
   "cell_type": "code",
   "execution_count": 1,
   "metadata": {},
   "outputs": [],
   "source": [
    "import numpy as np"
   ]
  },
  {
   "cell_type": "code",
   "execution_count": 25,
   "metadata": {},
   "outputs": [
    {
     "name": "stdout",
     "output_type": "stream",
     "text": [
      "Введите положительное число.2\n"
     ]
    },
    {
     "data": {
      "text/plain": [
       "array([1, 0])"
      ]
     },
     "execution_count": 25,
     "metadata": {},
     "output_type": "execute_result"
    }
   ],
   "source": [
    "N = int(input('Введите положительное число.'))\n",
    "if N >= 0:\n",
    "    A = np.array([n for n in range(N-1,-1,-1)])\n",
    "A"
   ]
  },
  {
   "cell_type": "markdown",
   "metadata": {},
   "source": [
    "## Задание 2\n",
    "Создайте диагональную матрицу с элементами от N до 0. Посчитайте сумму ее значений на диагонали."
   ]
  },
  {
   "cell_type": "code",
   "execution_count": 50,
   "metadata": {},
   "outputs": [
    {
     "name": "stdout",
     "output_type": "stream",
     "text": [
      "Введите положительное число.6\n",
      "\n",
      "Матрица x:\n",
      " [[6 6 6 6 6 6 6]\n",
      " [5 5 5 5 5 5 5]\n",
      " [4 4 4 4 4 4 4]\n",
      " [3 3 3 3 3 3 3]\n",
      " [2 2 2 2 2 2 2]\n",
      " [1 1 1 1 1 1 1]\n",
      " [0 0 0 0 0 0 0]]\n",
      "\n",
      "Диагональная матрица:\n",
      " [6 5 4 3 2 1 0]\n"
     ]
    }
   ],
   "source": [
    "N = int(input('Введите положительное число.'))\n",
    "x, y = np.mgrid[0:N+1, 0:N+1]\n",
    "x = x[::-1]\n",
    "print(\"\\nМатрица x:\\n\",x)\n",
    "print(\"\\nДиагональная матрица:\\n\",x.diagonal())"
   ]
  },
  {
   "cell_type": "code",
   "execution_count": 42,
   "metadata": {},
   "outputs": [
    {
     "name": "stdout",
     "output_type": "stream",
     "text": [
      "Сумма x:                    224\n"
     ]
    }
   ],
   "source": [
    "print('Сумма x:                   ',x.sum())"
   ]
  },
  {
   "cell_type": "code",
   "execution_count": 38,
   "metadata": {},
   "outputs": [
    {
     "name": "stdout",
     "output_type": "stream",
     "text": [
      "Сумма диагональной матрицы: 28\n"
     ]
    }
   ],
   "source": [
    "print('Сумма диагональной матрицы:',x.diagonal().sum())"
   ]
  },
  {
   "cell_type": "markdown",
   "metadata": {},
   "source": [
    "## Задание 3\n",
    "Решите систему уравнений:\n",
    "* 4x + 2y + z = 4\n",
    "* x + 3y = 12\n",
    "* 5y + 4z = -3"
   ]
  },
  {
   "cell_type": "code",
   "execution_count": 2,
   "metadata": {},
   "outputs": [],
   "source": [
    "from numpy import linalg"
   ]
  },
  {
   "cell_type": "code",
   "execution_count": 8,
   "metadata": {},
   "outputs": [
    {
     "name": "stdout",
     "output_type": "stream",
     "text": [
      "x=0.4666666666666668; y=3.844444444444444; z=-5.555555555555555\n"
     ]
    }
   ],
   "source": [
    "a = np.array([[4, 2, 1], [1, 3, 0], [0, 5, 4]])\n",
    "b = np.array([4, 12, -3])\n",
    "x = np.linalg.solve(a, b)\n",
    "print('x='+str(x[0])+';','y='+str(x[1])+';','z='+str(x[2]))"
   ]
  },
  {
   "cell_type": "code",
   "execution_count": 16,
   "metadata": {},
   "outputs": [
    {
     "name": "stdout",
     "output_type": "stream",
     "text": [
      "4x + 2y + z = 4.0\n",
      "     x + 3y = 11.999999999999998\n",
      "    5y + 4z = -3.0\n"
     ]
    }
   ],
   "source": [
    "print('4x + 2y + z =',4*x[0]+2*x[1]+x[2])\n",
    "print('     x + 3y =',x[0]+3*x[1])\n",
    "print('    5y + 4z =',5*x[1]+4*x[2])"
   ]
  },
  {
   "cell_type": "markdown",
   "metadata": {},
   "source": [
    "## Задание 4\n",
    "Вам подаются на вход два вектора a и b в трехмерном пространстве.Заполните их случайными числами. Реализуйте их скалярное произведение с помощью NumPy."
   ]
  },
  {
   "cell_type": "code",
   "execution_count": 78,
   "metadata": {
    "scrolled": false
   },
   "outputs": [
    {
     "name": "stdout",
     "output_type": "stream",
     "text": [
      "____________________ \n",
      "Cкалярное произведение:\n",
      " 2857\n",
      "____________________ \n",
      "[75 22 18]\n",
      "____________________ \n",
      "[19  7 71]\n"
     ]
    }
   ],
   "source": [
    "a = np.random.randint(0, 99, 3)\n",
    "b = np.random.randint(0, 99, 3)\n",
    "print('__'*10,'\\nCкалярное произведение:\\n',np.dot(a, b))\n",
    "print('__'*10,'\\n'+str(a))\n",
    "print('__'*10,'\\n'+str(b))"
   ]
  },
  {
   "cell_type": "markdown",
   "metadata": {},
   "source": [
    "##### "
   ]
  }
 ],
 "metadata": {
  "kernelspec": {
   "display_name": "Python 3",
   "language": "python",
   "name": "python3"
  },
  "language_info": {
   "codemirror_mode": {
    "name": "ipython",
    "version": 3
   },
   "file_extension": ".py",
   "mimetype": "text/x-python",
   "name": "python",
   "nbconvert_exporter": "python",
   "pygments_lexer": "ipython3",
   "version": "3.7.0"
  }
 },
 "nbformat": 4,
 "nbformat_minor": 4
}
