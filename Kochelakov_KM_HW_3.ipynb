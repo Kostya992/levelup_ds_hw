{
 "cells": [
  {
   "cell_type": "markdown",
   "metadata": {},
   "source": [
    "## Задание 1\n",
    "Создайте numpy array с элементами от числа N до 0 (например, для N = 10 это будет array([9, 8, 7, 6, 5, 4, 3, 2, 1, 0]))."
   ]
  },
  {
   "cell_type": "code",
   "execution_count": 23,
   "metadata": {},
   "outputs": [],
   "source": [
    "import numpy as np"
   ]
  },
  {
   "cell_type": "code",
   "execution_count": 25,
   "metadata": {},
   "outputs": [
    {
     "name": "stdout",
     "output_type": "stream",
     "text": [
      "Введите положительное число.2\n"
     ]
    },
    {
     "data": {
      "text/plain": [
       "array([1, 0])"
      ]
     },
     "execution_count": 25,
     "metadata": {},
     "output_type": "execute_result"
    }
   ],
   "source": [
    "N = int(input('Введите положительное число.'))\n",
    "if N >= 0:\n",
    "    A = np.array([n for n in range(N-1,-1,-1)])\n",
    "A"
   ]
  },
  {
   "cell_type": "markdown",
   "metadata": {},
   "source": [
    "## Задание 2\n",
    "Создайте диагональную матрицу с элементами от N до 0. Посчитайте сумму ее значений на диагонали."
   ]
  },
  {
   "cell_type": "code",
   "execution_count": 37,
   "metadata": {},
   "outputs": [
    {
     "name": "stdout",
     "output_type": "stream",
     "text": [
      "Введите положительное число.9\n"
     ]
    },
    {
     "data": {
      "text/plain": [
       "matrix([[8],\n",
       "        [7],\n",
       "        [6],\n",
       "        [5],\n",
       "        [4],\n",
       "        [3],\n",
       "        [2],\n",
       "        [1],\n",
       "        [0]])"
      ]
     },
     "execution_count": 37,
     "metadata": {},
     "output_type": "execute_result"
    }
   ],
   "source": [
    "N = int(input('Введите положительное число.'))\n",
    "if N >= 0:\n",
    "    A = np.array([n for n in range(N-1,-1,-1)])\n",
    "A_tr = np.matrix(A).T\n",
    "A_tr"
   ]
  },
  {
   "cell_type": "code",
   "execution_count": 38,
   "metadata": {},
   "outputs": [
    {
     "name": "stdout",
     "output_type": "stream",
     "text": [
      "Сумма: 36\n"
     ]
    }
   ],
   "source": [
    "print('Сумма:',A_tr.sum())"
   ]
  },
  {
   "cell_type": "markdown",
   "metadata": {},
   "source": [
    "## Задание 3\n",
    "Решите систему уравнений:\n",
    "* 4x + 2y + z = 4\n",
    "* x + 3y = 12\n",
    "* 5y + 4z = -3"
   ]
  },
  {
   "cell_type": "code",
   "execution_count": 2,
   "metadata": {},
   "outputs": [],
   "source": [
    "from numpy import linalg"
   ]
  },
  {
   "cell_type": "code",
   "execution_count": 8,
   "metadata": {},
   "outputs": [
    {
     "name": "stdout",
     "output_type": "stream",
     "text": [
      "x=0.4666666666666668; y=3.844444444444444; z=-5.555555555555555\n"
     ]
    }
   ],
   "source": [
    "a = np.array([[4, 2, 1], [1, 3, 0], [0, 5, 4]])\n",
    "b = np.array([4, 12, -3])\n",
    "x = np.linalg.solve(a, b)\n",
    "print('x='+str(x[0])+';','y='+str(x[1])+';','z='+str(x[2]))"
   ]
  },
  {
   "cell_type": "code",
   "execution_count": 16,
   "metadata": {},
   "outputs": [
    {
     "name": "stdout",
     "output_type": "stream",
     "text": [
      "4x + 2y + z = 4.0\n",
      "     x + 3y = 11.999999999999998\n",
      "    5y + 4z = -3.0\n"
     ]
    }
   ],
   "source": [
    "print('4x + 2y + z =',4*x[0]+2*x[1]+x[2])\n",
    "print('     x + 3y =',x[0]+3*x[1])\n",
    "print('    5y + 4z =',5*x[1]+4*x[2])"
   ]
  },
  {
   "cell_type": "markdown",
   "metadata": {},
   "source": [
    "## Задание 4\n",
    "Вам подаются на вход два вектора a и b в трехмерном пространстве.Заполните их случайными числами. Реализуйте их скалярное произведение с помощью NumPy."
   ]
  },
  {
   "cell_type": "code",
   "execution_count": 90,
   "metadata": {
    "scrolled": false
   },
   "outputs": [
    {
     "name": "stdout",
     "output_type": "stream",
     "text": [
      "____________________\n",
      "Cкалярное произведение:\n",
      "[[[[0.95584625 0.83084822]\n",
      "   [1.22004757 0.31141408]]\n",
      "\n",
      "  [[0.66284786 0.4845737 ]\n",
      "   [0.78516259 0.22834896]]]\n",
      "\n",
      "\n",
      " [[[0.19625573 0.26275318]\n",
      "   [0.31178115 0.05146929]]\n",
      "\n",
      "  [[0.90975392 0.686656  ]\n",
      "   [1.09198008 0.31048698]]]]\n",
      "____________________\n",
      "[[[0.97010838 0.72250961]\n",
      "  [0.36431708 0.63597801]]\n",
      "\n",
      " [[0.50952479 0.0125654 ]\n",
      "  [0.57269662 0.84107866]]]\n",
      "____________________\n",
      "[[[0.3646221  0.5040129 ]\n",
      "  [0.83337755 0.47321319]]\n",
      "\n",
      " [[0.58979183 0.0934803 ]\n",
      "  [0.89671552 0.3055019 ]]]\n"
     ]
    }
   ],
   "source": [
    "a = np.random.rand(2, 2, 2)\n",
    "b = np.random.rand(2, 2, 2)\n",
    "print('__'*10)\n",
    "print('Cкалярное произведение:')\n",
    "print(np.dot(a, b))\n",
    "print('__'*10)\n",
    "print(a)\n",
    "print('__'*10)\n",
    "print(b)"
   ]
  },
  {
   "cell_type": "code",
   "execution_count": 91,
   "metadata": {},
   "outputs": [
    {
     "name": "stdout",
     "output_type": "stream",
     "text": [
      "[2, 2, 2]\n",
      "____________________\n",
      "Cкалярное произведение: [[[[0.67415216 0.67384026]\n",
      "   [1.02308298 0.94733381]]\n",
      "\n",
      "  [[0.3756668  0.37901826]\n",
      "   [0.57128295 0.533597  ]]]\n",
      "\n",
      "\n",
      " [[[0.6038936  0.40079234]\n",
      "   [0.84875557 0.52057293]]\n",
      "\n",
      "  [[0.67169868 0.61505537]\n",
      "   [1.00055522 0.85277723]]]]\n",
      "____________________\n",
      "[[[0.62726195 0.78920311]\n",
      "  [0.35907921 0.43575268]]\n",
      "\n",
      " [[0.0129212  0.93855672]\n",
      "  [0.47250631 0.85065712]]]\n",
      "____________________\n",
      "[[[0.26988591 0.54644412]\n",
      "  [0.63971237 0.41950754]]\n",
      "\n",
      " [[0.50193447 0.82674043]\n",
      "  [0.89740978 0.54327078]]]\n"
     ]
    }
   ],
   "source": [
    "n = [2,2,2]\n",
    "\n",
    "print(n)\n",
    "a = np.random.rand(int(n[0]),int(n[1]),int(n[2]))\n",
    "b = np.random.rand(int(n[0]),int(n[1]),int(n[2]))\n",
    "print('__'*10)\n",
    "print('Cкалярное произведение:',np.dot(a, b))\n",
    "print('__'*10)\n",
    "print(a)\n",
    "print('__'*10)\n",
    "print(b)"
   ]
  },
  {
   "cell_type": "code",
   "execution_count": null,
   "metadata": {},
   "outputs": [],
   "source": []
  },
  {
   "cell_type": "markdown",
   "metadata": {},
   "source": [
    "##### "
   ]
  }
 ],
 "metadata": {
  "kernelspec": {
   "display_name": "Python 3",
   "language": "python",
   "name": "python3"
  },
  "language_info": {
   "codemirror_mode": {
    "name": "ipython",
    "version": 3
   },
   "file_extension": ".py",
   "mimetype": "text/x-python",
   "name": "python",
   "nbconvert_exporter": "python",
   "pygments_lexer": "ipython3",
   "version": "3.7.0"
  }
 },
 "nbformat": 4,
 "nbformat_minor": 4
}
