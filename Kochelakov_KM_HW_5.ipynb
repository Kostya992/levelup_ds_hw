{
 "cells": [
  {
   "cell_type": "markdown",
   "id": "4065b5bc",
   "metadata": {},
   "source": [
    "# Загрузка библиотек"
   ]
  },
  {
   "cell_type": "code",
   "execution_count": 1,
   "id": "d5846880",
   "metadata": {},
   "outputs": [],
   "source": [
    "import pandas as pd\n",
    "import numpy as np\n",
    "import matplotlib.pyplot as plt\n",
    "import seaborn as sns\n",
    "plt.style.use('fivethirtyeight')\n",
    "import warnings\n",
    "warnings.filterwarnings('ignore')\n",
    "%matplotlib inline"
   ]
  },
  {
   "cell_type": "markdown",
   "id": "546342f3",
   "metadata": {},
   "source": [
    "# Загрузка данных"
   ]
  },
  {
   "cell_type": "code",
   "execution_count": 379,
   "id": "8e8265e4",
   "metadata": {
    "scrolled": true
   },
   "outputs": [
    {
     "data": {
      "text/html": [
       "<div>\n",
       "<style scoped>\n",
       "    .dataframe tbody tr th:only-of-type {\n",
       "        vertical-align: middle;\n",
       "    }\n",
       "\n",
       "    .dataframe tbody tr th {\n",
       "        vertical-align: top;\n",
       "    }\n",
       "\n",
       "    .dataframe thead th {\n",
       "        text-align: right;\n",
       "    }\n",
       "</style>\n",
       "<table border=\"1\" class=\"dataframe\">\n",
       "  <thead>\n",
       "    <tr style=\"text-align: right;\">\n",
       "      <th></th>\n",
       "      <th>id</th>\n",
       "      <th>name</th>\n",
       "      <th>date</th>\n",
       "      <th>manner_of_death</th>\n",
       "      <th>armed</th>\n",
       "      <th>age</th>\n",
       "      <th>gender</th>\n",
       "      <th>race</th>\n",
       "      <th>city</th>\n",
       "      <th>state</th>\n",
       "      <th>signs_of_mental_illness</th>\n",
       "      <th>threat_level</th>\n",
       "      <th>flee</th>\n",
       "      <th>body_camera</th>\n",
       "      <th>longitude</th>\n",
       "      <th>latitude</th>\n",
       "      <th>is_geocoding_exact</th>\n",
       "    </tr>\n",
       "  </thead>\n",
       "  <tbody>\n",
       "    <tr>\n",
       "      <th>0</th>\n",
       "      <td>1</td>\n",
       "      <td>Tim Elliot</td>\n",
       "      <td>2015-01-02</td>\n",
       "      <td>shot</td>\n",
       "      <td>gun</td>\n",
       "      <td>53.0</td>\n",
       "      <td>M</td>\n",
       "      <td>A</td>\n",
       "      <td>Shelton</td>\n",
       "      <td>WA</td>\n",
       "      <td>True</td>\n",
       "      <td>attack</td>\n",
       "      <td>Not fleeing</td>\n",
       "      <td>False</td>\n",
       "      <td>-123.122</td>\n",
       "      <td>47.247</td>\n",
       "      <td>True</td>\n",
       "    </tr>\n",
       "    <tr>\n",
       "      <th>1</th>\n",
       "      <td>2</td>\n",
       "      <td>Lewis Lee Lembke</td>\n",
       "      <td>2015-01-02</td>\n",
       "      <td>shot</td>\n",
       "      <td>gun</td>\n",
       "      <td>47.0</td>\n",
       "      <td>M</td>\n",
       "      <td>W</td>\n",
       "      <td>Aloha</td>\n",
       "      <td>OR</td>\n",
       "      <td>False</td>\n",
       "      <td>attack</td>\n",
       "      <td>Not fleeing</td>\n",
       "      <td>False</td>\n",
       "      <td>-122.892</td>\n",
       "      <td>45.487</td>\n",
       "      <td>True</td>\n",
       "    </tr>\n",
       "    <tr>\n",
       "      <th>2</th>\n",
       "      <td>3</td>\n",
       "      <td>John Paul Quintero</td>\n",
       "      <td>2015-01-03</td>\n",
       "      <td>shot and Tasered</td>\n",
       "      <td>unarmed</td>\n",
       "      <td>23.0</td>\n",
       "      <td>M</td>\n",
       "      <td>H</td>\n",
       "      <td>Wichita</td>\n",
       "      <td>KS</td>\n",
       "      <td>False</td>\n",
       "      <td>other</td>\n",
       "      <td>Not fleeing</td>\n",
       "      <td>False</td>\n",
       "      <td>-97.281</td>\n",
       "      <td>37.695</td>\n",
       "      <td>True</td>\n",
       "    </tr>\n",
       "    <tr>\n",
       "      <th>3</th>\n",
       "      <td>4</td>\n",
       "      <td>Matthew Hoffman</td>\n",
       "      <td>2015-01-04</td>\n",
       "      <td>shot</td>\n",
       "      <td>toy weapon</td>\n",
       "      <td>32.0</td>\n",
       "      <td>M</td>\n",
       "      <td>W</td>\n",
       "      <td>San Francisco</td>\n",
       "      <td>CA</td>\n",
       "      <td>True</td>\n",
       "      <td>attack</td>\n",
       "      <td>Not fleeing</td>\n",
       "      <td>False</td>\n",
       "      <td>-122.422</td>\n",
       "      <td>37.763</td>\n",
       "      <td>True</td>\n",
       "    </tr>\n",
       "    <tr>\n",
       "      <th>4</th>\n",
       "      <td>5</td>\n",
       "      <td>Michael Rodriguez</td>\n",
       "      <td>2015-01-04</td>\n",
       "      <td>shot</td>\n",
       "      <td>nail gun</td>\n",
       "      <td>39.0</td>\n",
       "      <td>M</td>\n",
       "      <td>H</td>\n",
       "      <td>Evans</td>\n",
       "      <td>CO</td>\n",
       "      <td>False</td>\n",
       "      <td>attack</td>\n",
       "      <td>Not fleeing</td>\n",
       "      <td>False</td>\n",
       "      <td>-104.692</td>\n",
       "      <td>40.384</td>\n",
       "      <td>True</td>\n",
       "    </tr>\n",
       "  </tbody>\n",
       "</table>\n",
       "</div>"
      ],
      "text/plain": [
       "   id                name        date   manner_of_death       armed   age  \\\n",
       "0   1          Tim Elliot  2015-01-02              shot         gun  53.0   \n",
       "1   2    Lewis Lee Lembke  2015-01-02              shot         gun  47.0   \n",
       "2   3  John Paul Quintero  2015-01-03  shot and Tasered     unarmed  23.0   \n",
       "3   4     Matthew Hoffman  2015-01-04              shot  toy weapon  32.0   \n",
       "4   5   Michael Rodriguez  2015-01-04              shot    nail gun  39.0   \n",
       "\n",
       "  gender race           city state  signs_of_mental_illness threat_level  \\\n",
       "0      M    A        Shelton    WA                     True       attack   \n",
       "1      M    W          Aloha    OR                    False       attack   \n",
       "2      M    H        Wichita    KS                    False        other   \n",
       "3      M    W  San Francisco    CA                     True       attack   \n",
       "4      M    H          Evans    CO                    False       attack   \n",
       "\n",
       "          flee  body_camera  longitude  latitude  is_geocoding_exact  \n",
       "0  Not fleeing        False   -123.122    47.247                True  \n",
       "1  Not fleeing        False   -122.892    45.487                True  \n",
       "2  Not fleeing        False    -97.281    37.695                True  \n",
       "3  Not fleeing        False   -122.422    37.763                True  \n",
       "4  Not fleeing        False   -104.692    40.384                True  "
      ]
     },
     "execution_count": 379,
     "metadata": {},
     "output_type": "execute_result"
    }
   ],
   "source": [
    "df = pd.read_csv('police shootings.csv')\n",
    "df.head()"
   ]
  },
  {
   "cell_type": "markdown",
   "id": "1b3e653a",
   "metadata": {},
   "source": [
    "# Описание значений!"
   ]
  },
  {
   "cell_type": "markdown",
   "id": "ddca4ea8",
   "metadata": {},
   "source": [
    "id                      - индеск\n",
    "\n",
    "name                    - имя\n",
    "\n",
    "date                    - дата \n",
    "\n",
    "manner of death         - способ смерти\n",
    "\n",
    "armed                   -  вооружение\n",
    "\n",
    "age                     - возрост\n",
    "\n",
    "gender                  - пол\n",
    "\n",
    "race                    - раса\n",
    "\n",
    "city                    - город\n",
    "\n",
    "state                   - штат\n",
    "\n",
    "signs of mental illness - признаки психологического заболивания\n",
    "\n",
    "threat level            - уровень угрозы\n",
    "\n",
    "flee                    - скрыться\n",
    "\n",
    "body camera             - камера\n",
    "\n",
    "longitude               - наблюдения долгота\n",
    "\n",
    "latitude                - широта\n",
    "\n",
    "is geocoding exact      - точные геокодирование"
   ]
  },
  {
   "cell_type": "markdown",
   "id": "411dedba",
   "metadata": {},
   "source": [
    "# Проверка пустых значений!"
   ]
  },
  {
   "cell_type": "code",
   "execution_count": 415,
   "id": "2cd247a3",
   "metadata": {
    "scrolled": false
   },
   "outputs": [
    {
     "name": "stdout",
     "output_type": "stream",
     "text": [
      "7709\n"
     ]
    },
    {
     "data": {
      "text/plain": [
       "armed                         0\n",
       "age                           0\n",
       "race                       1442\n",
       "city                          0\n",
       "state                         0\n",
       "signs_of_mental_illness       0\n",
       "threat_level                  0\n",
       "flee                          0\n",
       "body_camera                   0\n",
       "longitude                   833\n",
       "latitude                    833\n",
       "is_geocoding_exact            0\n",
       "week                          0\n",
       "year                          0\n",
       "month                         0\n",
       "dtype: int64"
      ]
     },
     "execution_count": 415,
     "metadata": {},
     "output_type": "execute_result"
    }
   ],
   "source": [
    "print(len(df))\n",
    "df.isnull().sum() #проверка пустых значений в данных"
   ]
  },
  {
   "cell_type": "markdown",
   "id": "5bd45452",
   "metadata": {},
   "source": [
    "# Количество уникальнх значений в столбцах!"
   ]
  },
  {
   "cell_type": "code",
   "execution_count": 381,
   "id": "825145cf",
   "metadata": {},
   "outputs": [
    {
     "name": "stdout",
     "output_type": "stream",
     "text": [
      "id 7729\n",
      "name 7280\n",
      "date 2620\n",
      "manner_of_death 2\n",
      "armed 104\n",
      "age 81\n",
      "gender 2\n",
      "race 6\n",
      "city 3148\n",
      "state 51\n",
      "signs_of_mental_illness 2\n",
      "threat_level 3\n",
      "flee 4\n",
      "body_camera 2\n",
      "longitude 6031\n",
      "latitude 5330\n",
      "is_geocoding_exact 2\n"
     ]
    }
   ],
   "source": [
    "columns_list = ['id','name','date','manner_of_death','armed','age','gender','race','city','state',\n",
    "                'signs_of_mental_illness','threat_level','flee','body_camera','longitude','latitude',\n",
    "                'is_geocoding_exact']\n",
    "for i in columns_list:\n",
    "    print(i, len(df[i].value_counts()))"
   ]
  },
  {
   "cell_type": "markdown",
   "id": "f7768799",
   "metadata": {},
   "source": [
    "# Проверяем гендор"
   ]
  },
  {
   "cell_type": "code",
   "execution_count": 382,
   "id": "5a6e7983",
   "metadata": {},
   "outputs": [
    {
     "data": {
      "text/html": [
       "<div>\n",
       "<style scoped>\n",
       "    .dataframe tbody tr th:only-of-type {\n",
       "        vertical-align: middle;\n",
       "    }\n",
       "\n",
       "    .dataframe tbody tr th {\n",
       "        vertical-align: top;\n",
       "    }\n",
       "\n",
       "    .dataframe thead th {\n",
       "        text-align: right;\n",
       "    }\n",
       "</style>\n",
       "<table border=\"1\" class=\"dataframe\">\n",
       "  <thead>\n",
       "    <tr style=\"text-align: right;\">\n",
       "      <th></th>\n",
       "      <th>name</th>\n",
       "      <th>age</th>\n",
       "      <th>gender</th>\n",
       "      <th>race</th>\n",
       "      <th>manner_of_death</th>\n",
       "      <th>armed</th>\n",
       "      <th>threat_level</th>\n",
       "      <th>flee</th>\n",
       "    </tr>\n",
       "  </thead>\n",
       "  <tbody>\n",
       "    <tr>\n",
       "      <th>2652</th>\n",
       "      <td>Scout Schultz</td>\n",
       "      <td>21.0</td>\n",
       "      <td>NaN</td>\n",
       "      <td>W</td>\n",
       "      <td>shot</td>\n",
       "      <td>knife</td>\n",
       "      <td>other</td>\n",
       "      <td>Not fleeing</td>\n",
       "    </tr>\n",
       "    <tr>\n",
       "      <th>6504</th>\n",
       "      <td>NaN</td>\n",
       "      <td>NaN</td>\n",
       "      <td>NaN</td>\n",
       "      <td>NaN</td>\n",
       "      <td>shot</td>\n",
       "      <td>undetermined</td>\n",
       "      <td>undetermined</td>\n",
       "      <td>NaN</td>\n",
       "    </tr>\n",
       "    <tr>\n",
       "      <th>6882</th>\n",
       "      <td>NaN</td>\n",
       "      <td>NaN</td>\n",
       "      <td>NaN</td>\n",
       "      <td>NaN</td>\n",
       "      <td>shot</td>\n",
       "      <td>gun and vehicle</td>\n",
       "      <td>attack</td>\n",
       "      <td>NaN</td>\n",
       "    </tr>\n",
       "    <tr>\n",
       "      <th>6907</th>\n",
       "      <td>NaN</td>\n",
       "      <td>NaN</td>\n",
       "      <td>NaN</td>\n",
       "      <td>NaN</td>\n",
       "      <td>shot</td>\n",
       "      <td>gun</td>\n",
       "      <td>attack</td>\n",
       "      <td>Not fleeing</td>\n",
       "    </tr>\n",
       "    <tr>\n",
       "      <th>7039</th>\n",
       "      <td>NaN</td>\n",
       "      <td>NaN</td>\n",
       "      <td>NaN</td>\n",
       "      <td>NaN</td>\n",
       "      <td>shot</td>\n",
       "      <td>gun</td>\n",
       "      <td>undetermined</td>\n",
       "      <td>Foot</td>\n",
       "    </tr>\n",
       "    <tr>\n",
       "      <th>7181</th>\n",
       "      <td>NaN</td>\n",
       "      <td>NaN</td>\n",
       "      <td>NaN</td>\n",
       "      <td>NaN</td>\n",
       "      <td>shot</td>\n",
       "      <td>gun</td>\n",
       "      <td>attack</td>\n",
       "      <td>Car</td>\n",
       "    </tr>\n",
       "    <tr>\n",
       "      <th>7281</th>\n",
       "      <td>NaN</td>\n",
       "      <td>NaN</td>\n",
       "      <td>NaN</td>\n",
       "      <td>NaN</td>\n",
       "      <td>shot</td>\n",
       "      <td>gun</td>\n",
       "      <td>attack</td>\n",
       "      <td>Foot</td>\n",
       "    </tr>\n",
       "    <tr>\n",
       "      <th>7286</th>\n",
       "      <td>NaN</td>\n",
       "      <td>NaN</td>\n",
       "      <td>NaN</td>\n",
       "      <td>NaN</td>\n",
       "      <td>shot</td>\n",
       "      <td>gun</td>\n",
       "      <td>attack</td>\n",
       "      <td>Foot</td>\n",
       "    </tr>\n",
       "    <tr>\n",
       "      <th>7313</th>\n",
       "      <td>Aerie Sadler</td>\n",
       "      <td>25.0</td>\n",
       "      <td>NaN</td>\n",
       "      <td>NaN</td>\n",
       "      <td>shot</td>\n",
       "      <td>undetermined</td>\n",
       "      <td>undetermined</td>\n",
       "      <td>NaN</td>\n",
       "    </tr>\n",
       "    <tr>\n",
       "      <th>7321</th>\n",
       "      <td>Larry Marquail Mixon</td>\n",
       "      <td>19.0</td>\n",
       "      <td>NaN</td>\n",
       "      <td>NaN</td>\n",
       "      <td>shot</td>\n",
       "      <td>gun</td>\n",
       "      <td>attack</td>\n",
       "      <td>NaN</td>\n",
       "    </tr>\n",
       "    <tr>\n",
       "      <th>7340</th>\n",
       "      <td>NaN</td>\n",
       "      <td>NaN</td>\n",
       "      <td>NaN</td>\n",
       "      <td>NaN</td>\n",
       "      <td>shot</td>\n",
       "      <td>unknown weapon</td>\n",
       "      <td>other</td>\n",
       "      <td>NaN</td>\n",
       "    </tr>\n",
       "    <tr>\n",
       "      <th>7342</th>\n",
       "      <td>NaN</td>\n",
       "      <td>NaN</td>\n",
       "      <td>NaN</td>\n",
       "      <td>NaN</td>\n",
       "      <td>shot</td>\n",
       "      <td>undetermined</td>\n",
       "      <td>other</td>\n",
       "      <td>NaN</td>\n",
       "    </tr>\n",
       "    <tr>\n",
       "      <th>7352</th>\n",
       "      <td>NaN</td>\n",
       "      <td>NaN</td>\n",
       "      <td>NaN</td>\n",
       "      <td>NaN</td>\n",
       "      <td>shot</td>\n",
       "      <td>unknown weapon</td>\n",
       "      <td>undetermined</td>\n",
       "      <td>NaN</td>\n",
       "    </tr>\n",
       "    <tr>\n",
       "      <th>7454</th>\n",
       "      <td>Kevin Colindres</td>\n",
       "      <td>32.0</td>\n",
       "      <td>NaN</td>\n",
       "      <td>NaN</td>\n",
       "      <td>shot</td>\n",
       "      <td>gun</td>\n",
       "      <td>attack</td>\n",
       "      <td>NaN</td>\n",
       "    </tr>\n",
       "    <tr>\n",
       "      <th>7461</th>\n",
       "      <td>Joseph Robert Henry Thompson</td>\n",
       "      <td>66.0</td>\n",
       "      <td>NaN</td>\n",
       "      <td>B</td>\n",
       "      <td>shot</td>\n",
       "      <td>gun</td>\n",
       "      <td>attack</td>\n",
       "      <td>NaN</td>\n",
       "    </tr>\n",
       "    <tr>\n",
       "      <th>7469</th>\n",
       "      <td>NaN</td>\n",
       "      <td>NaN</td>\n",
       "      <td>NaN</td>\n",
       "      <td>NaN</td>\n",
       "      <td>shot</td>\n",
       "      <td>knife</td>\n",
       "      <td>other</td>\n",
       "      <td>NaN</td>\n",
       "    </tr>\n",
       "    <tr>\n",
       "      <th>7494</th>\n",
       "      <td>NaN</td>\n",
       "      <td>NaN</td>\n",
       "      <td>NaN</td>\n",
       "      <td>NaN</td>\n",
       "      <td>shot</td>\n",
       "      <td>undetermined</td>\n",
       "      <td>undetermined</td>\n",
       "      <td>NaN</td>\n",
       "    </tr>\n",
       "    <tr>\n",
       "      <th>7651</th>\n",
       "      <td>NaN</td>\n",
       "      <td>NaN</td>\n",
       "      <td>NaN</td>\n",
       "      <td>NaN</td>\n",
       "      <td>shot</td>\n",
       "      <td>gun</td>\n",
       "      <td>attack</td>\n",
       "      <td>NaN</td>\n",
       "    </tr>\n",
       "    <tr>\n",
       "      <th>7673</th>\n",
       "      <td>NaN</td>\n",
       "      <td>17.0</td>\n",
       "      <td>NaN</td>\n",
       "      <td>NaN</td>\n",
       "      <td>shot</td>\n",
       "      <td>vehicle</td>\n",
       "      <td>attack</td>\n",
       "      <td>Car</td>\n",
       "    </tr>\n",
       "    <tr>\n",
       "      <th>7695</th>\n",
       "      <td>NaN</td>\n",
       "      <td>NaN</td>\n",
       "      <td>NaN</td>\n",
       "      <td>NaN</td>\n",
       "      <td>shot</td>\n",
       "      <td>gun</td>\n",
       "      <td>attack</td>\n",
       "      <td>Not fleeing</td>\n",
       "    </tr>\n",
       "  </tbody>\n",
       "</table>\n",
       "</div>"
      ],
      "text/plain": [
       "                              name   age gender race manner_of_death  \\\n",
       "2652                 Scout Schultz  21.0    NaN    W            shot   \n",
       "6504                           NaN   NaN    NaN  NaN            shot   \n",
       "6882                           NaN   NaN    NaN  NaN            shot   \n",
       "6907                           NaN   NaN    NaN  NaN            shot   \n",
       "7039                           NaN   NaN    NaN  NaN            shot   \n",
       "7181                           NaN   NaN    NaN  NaN            shot   \n",
       "7281                           NaN   NaN    NaN  NaN            shot   \n",
       "7286                           NaN   NaN    NaN  NaN            shot   \n",
       "7313                  Aerie Sadler  25.0    NaN  NaN            shot   \n",
       "7321          Larry Marquail Mixon  19.0    NaN  NaN            shot   \n",
       "7340                           NaN   NaN    NaN  NaN            shot   \n",
       "7342                           NaN   NaN    NaN  NaN            shot   \n",
       "7352                           NaN   NaN    NaN  NaN            shot   \n",
       "7454               Kevin Colindres  32.0    NaN  NaN            shot   \n",
       "7461  Joseph Robert Henry Thompson  66.0    NaN    B            shot   \n",
       "7469                           NaN   NaN    NaN  NaN            shot   \n",
       "7494                           NaN   NaN    NaN  NaN            shot   \n",
       "7651                           NaN   NaN    NaN  NaN            shot   \n",
       "7673                           NaN  17.0    NaN  NaN            shot   \n",
       "7695                           NaN   NaN    NaN  NaN            shot   \n",
       "\n",
       "                armed  threat_level         flee  \n",
       "2652            knife         other  Not fleeing  \n",
       "6504     undetermined  undetermined          NaN  \n",
       "6882  gun and vehicle        attack          NaN  \n",
       "6907              gun        attack  Not fleeing  \n",
       "7039              gun  undetermined         Foot  \n",
       "7181              gun        attack          Car  \n",
       "7281              gun        attack         Foot  \n",
       "7286              gun        attack         Foot  \n",
       "7313     undetermined  undetermined          NaN  \n",
       "7321              gun        attack          NaN  \n",
       "7340   unknown weapon         other          NaN  \n",
       "7342     undetermined         other          NaN  \n",
       "7352   unknown weapon  undetermined          NaN  \n",
       "7454              gun        attack          NaN  \n",
       "7461              gun        attack          NaN  \n",
       "7469            knife         other          NaN  \n",
       "7494     undetermined  undetermined          NaN  \n",
       "7651              gun        attack          NaN  \n",
       "7673          vehicle        attack          Car  \n",
       "7695              gun        attack  Not fleeing  "
      ]
     },
     "execution_count": 382,
     "metadata": {},
     "output_type": "execute_result"
    }
   ],
   "source": [
    "# [['name','age','gender','race']]\n",
    "df[df['gender'].isnull()][['name','age','gender','race','manner_of_death','armed','threat_level','flee']]"
   ]
  },
  {
   "cell_type": "code",
   "execution_count": 383,
   "id": "239a2352",
   "metadata": {},
   "outputs": [
    {
     "data": {
      "text/plain": [
       "shot                7390\n",
       "shot and Tasered     339\n",
       "Name: manner_of_death, dtype: int64"
      ]
     },
     "execution_count": 383,
     "metadata": {},
     "output_type": "execute_result"
    }
   ],
   "source": [
    "df['manner_of_death'].value_counts()"
   ]
  },
  {
   "cell_type": "code",
   "execution_count": 384,
   "id": "6af53a34",
   "metadata": {},
   "outputs": [
    {
     "data": {
      "text/html": [
       "<div>\n",
       "<style scoped>\n",
       "    .dataframe tbody tr th:only-of-type {\n",
       "        vertical-align: middle;\n",
       "    }\n",
       "\n",
       "    .dataframe tbody tr th {\n",
       "        vertical-align: top;\n",
       "    }\n",
       "\n",
       "    .dataframe thead th {\n",
       "        text-align: right;\n",
       "    }\n",
       "</style>\n",
       "<table border=\"1\" class=\"dataframe\">\n",
       "  <thead>\n",
       "    <tr style=\"text-align: right;\">\n",
       "      <th></th>\n",
       "      <th>id</th>\n",
       "      <th>name</th>\n",
       "      <th>date</th>\n",
       "      <th>manner_of_death</th>\n",
       "      <th>armed</th>\n",
       "      <th>age</th>\n",
       "      <th>gender</th>\n",
       "      <th>race</th>\n",
       "      <th>city</th>\n",
       "      <th>state</th>\n",
       "      <th>signs_of_mental_illness</th>\n",
       "      <th>threat_level</th>\n",
       "      <th>flee</th>\n",
       "      <th>body_camera</th>\n",
       "      <th>longitude</th>\n",
       "      <th>latitude</th>\n",
       "      <th>is_geocoding_exact</th>\n",
       "    </tr>\n",
       "  </thead>\n",
       "  <tbody>\n",
       "  </tbody>\n",
       "</table>\n",
       "</div>"
      ],
      "text/plain": [
       "Empty DataFrame\n",
       "Columns: [id, name, date, manner_of_death, armed, age, gender, race, city, state, signs_of_mental_illness, threat_level, flee, body_camera, longitude, latitude, is_geocoding_exact]\n",
       "Index: []"
      ]
     },
     "execution_count": 384,
     "metadata": {},
     "output_type": "execute_result"
    }
   ],
   "source": [
    "#df.drop(index=[df[df['gender'].isnull()].index])\n",
    "g_list = list(df[df['gender'].isnull()].index)\n",
    "df = df.drop(index=g_list)\n",
    "df[df['gender'].isnull()]"
   ]
  },
  {
   "cell_type": "code",
   "execution_count": 385,
   "id": "5717d361",
   "metadata": {},
   "outputs": [
    {
     "data": {
      "text/plain": [
       "<AxesSubplot:>"
      ]
     },
     "execution_count": 385,
     "metadata": {},
     "output_type": "execute_result"
    },
    {
     "data": {
      "image/png": "[encoded data removed]",
      "text/plain": [
       "<Figure size 432x288 with 1 Axes>"
      ]
     },
     "metadata": {
      "needs_background": "light"
     },
     "output_type": "display_data"
    }
   ],
   "source": [
    "df['gender'].value_counts().plot.bar()"
   ]
  },
  {
   "cell_type": "code",
   "execution_count": 386,
   "id": "edbadb17",
   "metadata": {},
   "outputs": [
    {
     "data": {
      "text/plain": [
       "'0.95'"
      ]
     },
     "execution_count": 386,
     "metadata": {},
     "output_type": "execute_result"
    }
   ],
   "source": [
    "'%.2f'%(df['gender'].value_counts().max()/len(df))"
   ]
  },
  {
   "cell_type": "markdown",
   "id": "ba4e2b18",
   "metadata": {},
   "source": [
    "Как понимаю у большинство убитых людей у которых не было возможно определить полони их останки были следовательно в виде костей или(и) мяса. В случи когда были известно имя и возраст была совершена ошибка. Так же мне кажется, что они найдены через год и более тогда тело уже разложится и определить пол будет не возможно, очень сложно. Так же замечу что орудие убийства не известно. Но всегда известно что был выстрел. По этому столбец 'manner_of_death' удаляем так как он не несет в себе полезной информации. Также столбец gender нельзя оперировать, так как в 95% случаев это мужчины."
   ]
  },
  {
   "cell_type": "code",
   "execution_count": 387,
   "id": "43592d98",
   "metadata": {},
   "outputs": [],
   "source": [
    "df = df.drop(columns=['gender', 'manner_of_death'])"
   ]
  },
  {
   "cell_type": "markdown",
   "id": "794ad43f",
   "metadata": {},
   "source": [
    "# Проверка можно ли както систематизировать имена."
   ]
  },
  {
   "cell_type": "code",
   "execution_count": 388,
   "id": "892962b8",
   "metadata": {
    "scrolled": true
   },
   "outputs": [
    {
     "data": {
      "text/html": [
       "<div>\n",
       "<style scoped>\n",
       "    .dataframe tbody tr th:only-of-type {\n",
       "        vertical-align: middle;\n",
       "    }\n",
       "\n",
       "    .dataframe tbody tr th {\n",
       "        vertical-align: top;\n",
       "    }\n",
       "\n",
       "    .dataframe thead th {\n",
       "        text-align: right;\n",
       "    }\n",
       "</style>\n",
       "<table border=\"1\" class=\"dataframe\">\n",
       "  <thead>\n",
       "    <tr style=\"text-align: right;\">\n",
       "      <th></th>\n",
       "      <th>0</th>\n",
       "      <th>1</th>\n",
       "      <th>2</th>\n",
       "      <th>3</th>\n",
       "      <th>4</th>\n",
       "    </tr>\n",
       "  </thead>\n",
       "  <tbody>\n",
       "    <tr>\n",
       "      <th>0</th>\n",
       "      <td>Tim</td>\n",
       "      <td>Elliot</td>\n",
       "      <td>None</td>\n",
       "      <td>None</td>\n",
       "      <td>None</td>\n",
       "    </tr>\n",
       "    <tr>\n",
       "      <th>1</th>\n",
       "      <td>Lewis</td>\n",
       "      <td>Lee</td>\n",
       "      <td>Lembke</td>\n",
       "      <td>None</td>\n",
       "      <td>None</td>\n",
       "    </tr>\n",
       "    <tr>\n",
       "      <th>2</th>\n",
       "      <td>John</td>\n",
       "      <td>Paul</td>\n",
       "      <td>Quintero</td>\n",
       "      <td>None</td>\n",
       "      <td>None</td>\n",
       "    </tr>\n",
       "    <tr>\n",
       "      <th>3</th>\n",
       "      <td>Matthew</td>\n",
       "      <td>Hoffman</td>\n",
       "      <td>None</td>\n",
       "      <td>None</td>\n",
       "      <td>None</td>\n",
       "    </tr>\n",
       "    <tr>\n",
       "      <th>4</th>\n",
       "      <td>Michael</td>\n",
       "      <td>Rodriguez</td>\n",
       "      <td>None</td>\n",
       "      <td>None</td>\n",
       "      <td>None</td>\n",
       "    </tr>\n",
       "  </tbody>\n",
       "</table>\n",
       "</div>"
      ],
      "text/plain": [
       "         0          1         2     3     4\n",
       "0      Tim     Elliot      None  None  None\n",
       "1    Lewis        Lee    Lembke  None  None\n",
       "2     John       Paul  Quintero  None  None\n",
       "3  Matthew    Hoffman      None  None  None\n",
       "4  Michael  Rodriguez      None  None  None"
      ]
     },
     "execution_count": 388,
     "metadata": {},
     "output_type": "execute_result"
    }
   ],
   "source": [
    "df['name'].str.split(' ',expand=True).head()"
   ]
  },
  {
   "cell_type": "code",
   "execution_count": 389,
   "id": "d04c6b21",
   "metadata": {},
   "outputs": [
    {
     "data": {
      "text/plain": [
       "1945"
      ]
     },
     "execution_count": 389,
     "metadata": {},
     "output_type": "execute_result"
    }
   ],
   "source": [
    "# Количество уникальных значений в 0 столбце \n",
    "len(df['name'].str.split(' ',expand=True)[[0]].value_counts())"
   ]
  },
  {
   "cell_type": "code",
   "execution_count": 390,
   "id": "dad12479",
   "metadata": {},
   "outputs": [
    {
     "data": {
      "text/plain": [
       "3505"
      ]
     },
     "execution_count": 390,
     "metadata": {},
     "output_type": "execute_result"
    }
   ],
   "source": [
    "# Количество уникальных значений в 1 столбце\n",
    "len(df['name'].str.split(' ',expand=True)[[1]].value_counts())"
   ]
  },
  {
   "cell_type": "markdown",
   "id": "301b15f5",
   "metadata": {},
   "source": [
    "По количеству уникальных значений столбец name систематизации не поддается. Следовательно удаляется за ненадобности.\n",
    "Столбец id удаляется так как показывает порядковый номер."
   ]
  },
  {
   "cell_type": "code",
   "execution_count": 391,
   "id": "4a10dc5c",
   "metadata": {
    "scrolled": false
   },
   "outputs": [
    {
     "data": {
      "text/html": [
       "<div>\n",
       "<style scoped>\n",
       "    .dataframe tbody tr th:only-of-type {\n",
       "        vertical-align: middle;\n",
       "    }\n",
       "\n",
       "    .dataframe tbody tr th {\n",
       "        vertical-align: top;\n",
       "    }\n",
       "\n",
       "    .dataframe thead th {\n",
       "        text-align: right;\n",
       "    }\n",
       "</style>\n",
       "<table border=\"1\" class=\"dataframe\">\n",
       "  <thead>\n",
       "    <tr style=\"text-align: right;\">\n",
       "      <th></th>\n",
       "      <th>date</th>\n",
       "      <th>armed</th>\n",
       "      <th>age</th>\n",
       "      <th>race</th>\n",
       "      <th>city</th>\n",
       "      <th>state</th>\n",
       "      <th>signs_of_mental_illness</th>\n",
       "      <th>threat_level</th>\n",
       "      <th>flee</th>\n",
       "      <th>body_camera</th>\n",
       "      <th>longitude</th>\n",
       "      <th>latitude</th>\n",
       "      <th>is_geocoding_exact</th>\n",
       "    </tr>\n",
       "  </thead>\n",
       "  <tbody>\n",
       "    <tr>\n",
       "      <th>0</th>\n",
       "      <td>2015-01-02</td>\n",
       "      <td>gun</td>\n",
       "      <td>53.0</td>\n",
       "      <td>A</td>\n",
       "      <td>Shelton</td>\n",
       "      <td>WA</td>\n",
       "      <td>True</td>\n",
       "      <td>attack</td>\n",
       "      <td>Not fleeing</td>\n",
       "      <td>False</td>\n",
       "      <td>-123.122</td>\n",
       "      <td>47.247</td>\n",
       "      <td>True</td>\n",
       "    </tr>\n",
       "    <tr>\n",
       "      <th>1</th>\n",
       "      <td>2015-01-02</td>\n",
       "      <td>gun</td>\n",
       "      <td>47.0</td>\n",
       "      <td>W</td>\n",
       "      <td>Aloha</td>\n",
       "      <td>OR</td>\n",
       "      <td>False</td>\n",
       "      <td>attack</td>\n",
       "      <td>Not fleeing</td>\n",
       "      <td>False</td>\n",
       "      <td>-122.892</td>\n",
       "      <td>45.487</td>\n",
       "      <td>True</td>\n",
       "    </tr>\n",
       "    <tr>\n",
       "      <th>2</th>\n",
       "      <td>2015-01-03</td>\n",
       "      <td>unarmed</td>\n",
       "      <td>23.0</td>\n",
       "      <td>H</td>\n",
       "      <td>Wichita</td>\n",
       "      <td>KS</td>\n",
       "      <td>False</td>\n",
       "      <td>other</td>\n",
       "      <td>Not fleeing</td>\n",
       "      <td>False</td>\n",
       "      <td>-97.281</td>\n",
       "      <td>37.695</td>\n",
       "      <td>True</td>\n",
       "    </tr>\n",
       "    <tr>\n",
       "      <th>3</th>\n",
       "      <td>2015-01-04</td>\n",
       "      <td>toy weapon</td>\n",
       "      <td>32.0</td>\n",
       "      <td>W</td>\n",
       "      <td>San Francisco</td>\n",
       "      <td>CA</td>\n",
       "      <td>True</td>\n",
       "      <td>attack</td>\n",
       "      <td>Not fleeing</td>\n",
       "      <td>False</td>\n",
       "      <td>-122.422</td>\n",
       "      <td>37.763</td>\n",
       "      <td>True</td>\n",
       "    </tr>\n",
       "    <tr>\n",
       "      <th>4</th>\n",
       "      <td>2015-01-04</td>\n",
       "      <td>nail gun</td>\n",
       "      <td>39.0</td>\n",
       "      <td>H</td>\n",
       "      <td>Evans</td>\n",
       "      <td>CO</td>\n",
       "      <td>False</td>\n",
       "      <td>attack</td>\n",
       "      <td>Not fleeing</td>\n",
       "      <td>False</td>\n",
       "      <td>-104.692</td>\n",
       "      <td>40.384</td>\n",
       "      <td>True</td>\n",
       "    </tr>\n",
       "  </tbody>\n",
       "</table>\n",
       "</div>"
      ],
      "text/plain": [
       "         date       armed   age race           city state  \\\n",
       "0  2015-01-02         gun  53.0    A        Shelton    WA   \n",
       "1  2015-01-02         gun  47.0    W          Aloha    OR   \n",
       "2  2015-01-03     unarmed  23.0    H        Wichita    KS   \n",
       "3  2015-01-04  toy weapon  32.0    W  San Francisco    CA   \n",
       "4  2015-01-04    nail gun  39.0    H          Evans    CO   \n",
       "\n",
       "   signs_of_mental_illness threat_level         flee  body_camera  longitude  \\\n",
       "0                     True       attack  Not fleeing        False   -123.122   \n",
       "1                    False       attack  Not fleeing        False   -122.892   \n",
       "2                    False        other  Not fleeing        False    -97.281   \n",
       "3                     True       attack  Not fleeing        False   -122.422   \n",
       "4                    False       attack  Not fleeing        False   -104.692   \n",
       "\n",
       "   latitude  is_geocoding_exact  \n",
       "0    47.247                True  \n",
       "1    45.487                True  \n",
       "2    37.695                True  \n",
       "3    37.763                True  \n",
       "4    40.384                True  "
      ]
     },
     "execution_count": 391,
     "metadata": {},
     "output_type": "execute_result"
    }
   ],
   "source": [
    "df = df.drop(columns=['id','name'])\n",
    "df.head()"
   ]
  },
  {
   "cell_type": "markdown",
   "id": "9652e9d9",
   "metadata": {},
   "source": [
    "# Определяем возрост"
   ]
  },
  {
   "cell_type": "code",
   "execution_count": 392,
   "id": "e6875114",
   "metadata": {},
   "outputs": [],
   "source": [
    "# Определяем mean по (городам) где количество убийств с известым возрастом больше,\n",
    "# количества убийств с неитзвестным возростом в 4-ре раза и присваеваем его пустым значениям.\n",
    "for i in df[df['age'].isnull()]['city']:\n",
    "    df_ = df[df['city']== i]['age']\n",
    "    if (len(df_) > 10)&\\\n",
    "       (len(df_[df_.isnull()])*4 < len(df_)):\n",
    "        for u in df_[df_.isnull()].index:\n",
    "            df['age'][u] = df_.mean()\n",
    "\n",
    "# Определяем mean по (штатам) и присваеваем его пустым значениям\n",
    "for i in df[df['age'].isnull()]['state']:\n",
    "    df_ = df[df['state']== i]['age']\n",
    "    for u in df_[df_.isnull()].index:\n",
    "        df['age'][u] = df_.mean()"
   ]
  },
  {
   "cell_type": "code",
   "execution_count": 393,
   "id": "57d78fb8",
   "metadata": {
    "scrolled": true
   },
   "outputs": [
    {
     "data": {
      "text/plain": [
       "<AxesSubplot:ylabel='Frequency'>"
      ]
     },
     "execution_count": 393,
     "metadata": {},
     "output_type": "execute_result"
    },
    {
     "data": {
      "image/png": "[encoded data removed]",
      "text/plain": [
       "<Figure size 432x288 with 1 Axes>"
      ]
     },
     "metadata": {
      "needs_background": "light"
     },
     "output_type": "display_data"
    }
   ],
   "source": [
    "df['age'].plot.hist()"
   ]
  },
  {
   "cell_type": "code",
   "execution_count": 394,
   "id": "a50bc54e",
   "metadata": {},
   "outputs": [
    {
     "data": {
      "text/plain": [
       "max    92.0\n",
       "min     2.0\n",
       "Name: age, dtype: float64"
      ]
     },
     "execution_count": 394,
     "metadata": {},
     "output_type": "execute_result"
    }
   ],
   "source": [
    "df['age'].agg([max,min])"
   ]
  },
  {
   "cell_type": "markdown",
   "id": "09d9791a",
   "metadata": {},
   "source": [
    "Средний возраст убитых людей. От 20 до 50 лет. Самому старому убитому человеку было 92 года, а самому юному 2 года. "
   ]
  },
  {
   "cell_type": "markdown",
   "id": "e50ab840",
   "metadata": {},
   "source": [
    "# Работа с датой"
   ]
  },
  {
   "cell_type": "code",
   "execution_count": 395,
   "id": "e7189d71",
   "metadata": {},
   "outputs": [],
   "source": [
    "df['date'] = pd.to_datetime(df['date'])\n",
    "df['week'] = df.date.dt.dayofweek\n",
    "df['year'] = df.date.dt.year\n",
    "df['month'] = df['date'].dt.month\n",
    "df = df.drop(columns=['date'])"
   ]
  },
  {
   "cell_type": "code",
   "execution_count": 396,
   "id": "7b0767df",
   "metadata": {},
   "outputs": [
    {
     "data": {
      "text/html": [
       "<style type=\"text/css\">\n",
       "#T_3c2b1_row0_col0 {\n",
       "  background-color: #d8ec66;\n",
       "  color: #000000;\n",
       "}\n",
       "#T_3c2b1_row0_col1 {\n",
       "  background-color: #d2e866;\n",
       "  color: #000000;\n",
       "}\n",
       "#T_3c2b1_row0_col2, #T_3c2b1_row1_col1, #T_3c2b1_row1_col2, #T_3c2b1_row7_col4 {\n",
       "  background-color: #7fbf66;\n",
       "  color: #000000;\n",
       "}\n",
       "#T_3c2b1_row0_col3, #T_3c2b1_row7_col3 {\n",
       "  background-color: #6eb666;\n",
       "  color: #f1f1f1;\n",
       "}\n",
       "#T_3c2b1_row0_col4, #T_3c2b1_row0_col5, #T_3c2b1_row2_col2, #T_3c2b1_row2_col3, #T_3c2b1_row4_col1, #T_3c2b1_row5_col6, #T_3c2b1_row7_col0, #T_3c2b1_row7_col7, #T_3c2b1_row7_col8, #T_3c2b1_row7_col9, #T_3c2b1_row7_col10, #T_3c2b1_row7_col11 {\n",
       "  background-color: #ffff66;\n",
       "  color: #000000;\n",
       "}\n",
       "#T_3c2b1_row0_col6, #T_3c2b1_row0_col8, #T_3c2b1_row2_col1, #T_3c2b1_row3_col0, #T_3c2b1_row3_col2, #T_3c2b1_row3_col3, #T_3c2b1_row4_col11, #T_3c2b1_row5_col4, #T_3c2b1_row5_col9, #T_3c2b1_row5_col10, #T_3c2b1_row6_col5, #T_3c2b1_row6_col7, #T_3c2b1_row6_col8 {\n",
       "  background-color: #008066;\n",
       "  color: #f1f1f1;\n",
       "}\n",
       "#T_3c2b1_row0_col7 {\n",
       "  background-color: #1e8e66;\n",
       "  color: #f1f1f1;\n",
       "}\n",
       "#T_3c2b1_row0_col9, #T_3c2b1_row2_col9 {\n",
       "  background-color: #289366;\n",
       "  color: #f1f1f1;\n",
       "}\n",
       "#T_3c2b1_row0_col10, #T_3c2b1_row1_col10 {\n",
       "  background-color: #279366;\n",
       "  color: #f1f1f1;\n",
       "}\n",
       "#T_3c2b1_row0_col11 {\n",
       "  background-color: #2b9566;\n",
       "  color: #f1f1f1;\n",
       "}\n",
       "#T_3c2b1_row1_col0 {\n",
       "  background-color: #a7d366;\n",
       "  color: #000000;\n",
       "}\n",
       "#T_3c2b1_row1_col3 {\n",
       "  background-color: #cce666;\n",
       "  color: #000000;\n",
       "}\n",
       "#T_3c2b1_row1_col4, #T_3c2b1_row4_col4 {\n",
       "  background-color: #ecf666;\n",
       "  color: #000000;\n",
       "}\n",
       "#T_3c2b1_row1_col5 {\n",
       "  background-color: #68b366;\n",
       "  color: #f1f1f1;\n",
       "}\n",
       "#T_3c2b1_row1_col6, #T_3c2b1_row6_col6 {\n",
       "  background-color: #e3f166;\n",
       "  color: #000000;\n",
       "}\n",
       "#T_3c2b1_row1_col7, #T_3c2b1_row2_col7, #T_3c2b1_row5_col3 {\n",
       "  background-color: #99cc66;\n",
       "  color: #000000;\n",
       "}\n",
       "#T_3c2b1_row1_col8 {\n",
       "  background-color: #158a66;\n",
       "  color: #f1f1f1;\n",
       "}\n",
       "#T_3c2b1_row1_col9, #T_3c2b1_row2_col8, #T_3c2b1_row3_col9 {\n",
       "  background-color: #389c66;\n",
       "  color: #f1f1f1;\n",
       "}\n",
       "#T_3c2b1_row1_col11 {\n",
       "  background-color: #4aa466;\n",
       "  color: #f1f1f1;\n",
       "}\n",
       "#T_3c2b1_row2_col0 {\n",
       "  background-color: #44a266;\n",
       "  color: #f1f1f1;\n",
       "}\n",
       "#T_3c2b1_row2_col4 {\n",
       "  background-color: #f3f966;\n",
       "  color: #000000;\n",
       "}\n",
       "#T_3c2b1_row2_col5 {\n",
       "  background-color: #91c866;\n",
       "  color: #000000;\n",
       "}\n",
       "#T_3c2b1_row2_col6 {\n",
       "  background-color: #47a366;\n",
       "  color: #f1f1f1;\n",
       "}\n",
       "#T_3c2b1_row2_col10 {\n",
       "  background-color: #168b66;\n",
       "  color: #f1f1f1;\n",
       "}\n",
       "#T_3c2b1_row2_col11 {\n",
       "  background-color: #46a266;\n",
       "  color: #f1f1f1;\n",
       "}\n",
       "#T_3c2b1_row3_col1 {\n",
       "  background-color: #bfdf66;\n",
       "  color: #000000;\n",
       "}\n",
       "#T_3c2b1_row3_col4 {\n",
       "  background-color: #b3d966;\n",
       "  color: #000000;\n",
       "}\n",
       "#T_3c2b1_row3_col5 {\n",
       "  background-color: #a2d066;\n",
       "  color: #000000;\n",
       "}\n",
       "#T_3c2b1_row3_col6 {\n",
       "  background-color: #71b866;\n",
       "  color: #f1f1f1;\n",
       "}\n",
       "#T_3c2b1_row3_col7 {\n",
       "  background-color: #e1f066;\n",
       "  color: #000000;\n",
       "}\n",
       "#T_3c2b1_row3_col8, #T_3c2b1_row5_col8 {\n",
       "  background-color: #63b166;\n",
       "  color: #f1f1f1;\n",
       "}\n",
       "#T_3c2b1_row3_col10, #T_3c2b1_row4_col10 {\n",
       "  background-color: #2a9466;\n",
       "  color: #f1f1f1;\n",
       "}\n",
       "#T_3c2b1_row3_col11 {\n",
       "  background-color: #54aa66;\n",
       "  color: #f1f1f1;\n",
       "}\n",
       "#T_3c2b1_row4_col0 {\n",
       "  background-color: #319866;\n",
       "  color: #f1f1f1;\n",
       "}\n",
       "#T_3c2b1_row4_col2, #T_3c2b1_row6_col2 {\n",
       "  background-color: #9fcf66;\n",
       "  color: #000000;\n",
       "}\n",
       "#T_3c2b1_row4_col3 {\n",
       "  background-color: #ddee66;\n",
       "  color: #000000;\n",
       "}\n",
       "#T_3c2b1_row4_col5 {\n",
       "  background-color: #85c266;\n",
       "  color: #000000;\n",
       "}\n",
       "#T_3c2b1_row4_col6 {\n",
       "  background-color: #aad466;\n",
       "  color: #000000;\n",
       "}\n",
       "#T_3c2b1_row4_col7 {\n",
       "  background-color: #70b866;\n",
       "  color: #f1f1f1;\n",
       "}\n",
       "#T_3c2b1_row4_col8 {\n",
       "  background-color: #118866;\n",
       "  color: #f1f1f1;\n",
       "}\n",
       "#T_3c2b1_row4_col9 {\n",
       "  background-color: #1c8e66;\n",
       "  color: #f1f1f1;\n",
       "}\n",
       "#T_3c2b1_row5_col0 {\n",
       "  background-color: #62b066;\n",
       "  color: #f1f1f1;\n",
       "}\n",
       "#T_3c2b1_row5_col1 {\n",
       "  background-color: #c9e466;\n",
       "  color: #000000;\n",
       "}\n",
       "#T_3c2b1_row5_col2 {\n",
       "  background-color: #77bb66;\n",
       "  color: #f1f1f1;\n",
       "}\n",
       "#T_3c2b1_row5_col5 {\n",
       "  background-color: #badc66;\n",
       "  color: #000000;\n",
       "}\n",
       "#T_3c2b1_row5_col7 {\n",
       "  background-color: #66b266;\n",
       "  color: #f1f1f1;\n",
       "}\n",
       "#T_3c2b1_row5_col11, #T_3c2b1_row6_col11 {\n",
       "  background-color: #299466;\n",
       "  color: #f1f1f1;\n",
       "}\n",
       "#T_3c2b1_row6_col0 {\n",
       "  background-color: #b1d866;\n",
       "  color: #000000;\n",
       "}\n",
       "#T_3c2b1_row6_col1 {\n",
       "  background-color: #249266;\n",
       "  color: #f1f1f1;\n",
       "}\n",
       "#T_3c2b1_row6_col3 {\n",
       "  background-color: #4ca666;\n",
       "  color: #f1f1f1;\n",
       "}\n",
       "#T_3c2b1_row6_col4 {\n",
       "  background-color: #acd666;\n",
       "  color: #000000;\n",
       "}\n",
       "#T_3c2b1_row6_col9 {\n",
       "  background-color: #0f8766;\n",
       "  color: #f1f1f1;\n",
       "}\n",
       "#T_3c2b1_row6_col10 {\n",
       "  background-color: #359a66;\n",
       "  color: #f1f1f1;\n",
       "}\n",
       "#T_3c2b1_row7_col1 {\n",
       "  background-color: #5bad66;\n",
       "  color: #f1f1f1;\n",
       "}\n",
       "#T_3c2b1_row7_col2 {\n",
       "  background-color: #4fa766;\n",
       "  color: #f1f1f1;\n",
       "}\n",
       "#T_3c2b1_row7_col5 {\n",
       "  background-color: #74ba66;\n",
       "  color: #f1f1f1;\n",
       "}\n",
       "#T_3c2b1_row7_col6 {\n",
       "  background-color: #3f9f66;\n",
       "  color: #f1f1f1;\n",
       "}\n",
       "</style>\n",
       "<table id=\"T_3c2b1\">\n",
       "  <thead>\n",
       "    <tr>\n",
       "      <th class=\"index_name level0\" >month</th>\n",
       "      <th id=\"T_3c2b1_level0_col0\" class=\"col_heading level0 col0\" >1</th>\n",
       "      <th id=\"T_3c2b1_level0_col1\" class=\"col_heading level0 col1\" >2</th>\n",
       "      <th id=\"T_3c2b1_level0_col2\" class=\"col_heading level0 col2\" >3</th>\n",
       "      <th id=\"T_3c2b1_level0_col3\" class=\"col_heading level0 col3\" >4</th>\n",
       "      <th id=\"T_3c2b1_level0_col4\" class=\"col_heading level0 col4\" >5</th>\n",
       "      <th id=\"T_3c2b1_level0_col5\" class=\"col_heading level0 col5\" >6</th>\n",
       "      <th id=\"T_3c2b1_level0_col6\" class=\"col_heading level0 col6\" >7</th>\n",
       "      <th id=\"T_3c2b1_level0_col7\" class=\"col_heading level0 col7\" >8</th>\n",
       "      <th id=\"T_3c2b1_level0_col8\" class=\"col_heading level0 col8\" >9</th>\n",
       "      <th id=\"T_3c2b1_level0_col9\" class=\"col_heading level0 col9\" >10</th>\n",
       "      <th id=\"T_3c2b1_level0_col10\" class=\"col_heading level0 col10\" >11</th>\n",
       "      <th id=\"T_3c2b1_level0_col11\" class=\"col_heading level0 col11\" >12</th>\n",
       "    </tr>\n",
       "    <tr>\n",
       "      <th class=\"index_name level0\" >year</th>\n",
       "      <th class=\"blank col0\" >&nbsp;</th>\n",
       "      <th class=\"blank col1\" >&nbsp;</th>\n",
       "      <th class=\"blank col2\" >&nbsp;</th>\n",
       "      <th class=\"blank col3\" >&nbsp;</th>\n",
       "      <th class=\"blank col4\" >&nbsp;</th>\n",
       "      <th class=\"blank col5\" >&nbsp;</th>\n",
       "      <th class=\"blank col6\" >&nbsp;</th>\n",
       "      <th class=\"blank col7\" >&nbsp;</th>\n",
       "      <th class=\"blank col8\" >&nbsp;</th>\n",
       "      <th class=\"blank col9\" >&nbsp;</th>\n",
       "      <th class=\"blank col10\" >&nbsp;</th>\n",
       "      <th class=\"blank col11\" >&nbsp;</th>\n",
       "    </tr>\n",
       "  </thead>\n",
       "  <tbody>\n",
       "    <tr>\n",
       "      <th id=\"T_3c2b1_level0_row0\" class=\"row_heading level0 row0\" >2015</th>\n",
       "      <td id=\"T_3c2b1_row0_col0\" class=\"data row0 col0\" >76</td>\n",
       "      <td id=\"T_3c2b1_row0_col1\" class=\"data row0 col1\" >77</td>\n",
       "      <td id=\"T_3c2b1_row0_col2\" class=\"data row0 col2\" >92</td>\n",
       "      <td id=\"T_3c2b1_row0_col3\" class=\"data row0 col3\" >84</td>\n",
       "      <td id=\"T_3c2b1_row0_col4\" class=\"data row0 col4\" >71</td>\n",
       "      <td id=\"T_3c2b1_row0_col5\" class=\"data row0 col5\" >65</td>\n",
       "      <td id=\"T_3c2b1_row0_col6\" class=\"data row0 col6\" >104</td>\n",
       "      <td id=\"T_3c2b1_row0_col7\" class=\"data row0 col7\" >94</td>\n",
       "      <td id=\"T_3c2b1_row0_col8\" class=\"data row0 col8\" >82</td>\n",
       "      <td id=\"T_3c2b1_row0_col9\" class=\"data row0 col9\" >84</td>\n",
       "      <td id=\"T_3c2b1_row0_col10\" class=\"data row0 col10\" >77</td>\n",
       "      <td id=\"T_3c2b1_row0_col11\" class=\"data row0 col11\" >88</td>\n",
       "    </tr>\n",
       "    <tr>\n",
       "      <th id=\"T_3c2b1_level0_row1\" class=\"row_heading level0 row1\" >2016</th>\n",
       "      <td id=\"T_3c2b1_row1_col0\" class=\"data row1 col0\" >81</td>\n",
       "      <td id=\"T_3c2b1_row1_col1\" class=\"data row1 col1\" >86</td>\n",
       "      <td id=\"T_3c2b1_row1_col2\" class=\"data row1 col2\" >92</td>\n",
       "      <td id=\"T_3c2b1_row1_col3\" class=\"data row1 col3\" >73</td>\n",
       "      <td id=\"T_3c2b1_row1_col4\" class=\"data row1 col4\" >74</td>\n",
       "      <td id=\"T_3c2b1_row1_col5\" class=\"data row1 col5\" >91</td>\n",
       "      <td id=\"T_3c2b1_row1_col6\" class=\"data row1 col6\" >72</td>\n",
       "      <td id=\"T_3c2b1_row1_col7\" class=\"data row1 col7\" >82</td>\n",
       "      <td id=\"T_3c2b1_row1_col8\" class=\"data row1 col8\" >77</td>\n",
       "      <td id=\"T_3c2b1_row1_col9\" class=\"data row1 col9\" >78</td>\n",
       "      <td id=\"T_3c2b1_row1_col10\" class=\"data row1 col10\" >77</td>\n",
       "      <td id=\"T_3c2b1_row1_col11\" class=\"data row1 col11\" >75</td>\n",
       "    </tr>\n",
       "    <tr>\n",
       "      <th id=\"T_3c2b1_level0_row2\" class=\"row_heading level0 row2\" >2017</th>\n",
       "      <td id=\"T_3c2b1_row2_col0\" class=\"data row2 col0\" >91</td>\n",
       "      <td id=\"T_3c2b1_row2_col1\" class=\"data row2 col1\" >100</td>\n",
       "      <td id=\"T_3c2b1_row2_col2\" class=\"data row2 col2\" >76</td>\n",
       "      <td id=\"T_3c2b1_row2_col3\" class=\"data row2 col3\" >67</td>\n",
       "      <td id=\"T_3c2b1_row2_col4\" class=\"data row2 col4\" >73</td>\n",
       "      <td id=\"T_3c2b1_row2_col5\" class=\"data row2 col5\" >84</td>\n",
       "      <td id=\"T_3c2b1_row2_col6\" class=\"data row2 col6\" >94</td>\n",
       "      <td id=\"T_3c2b1_row2_col7\" class=\"data row2 col7\" >82</td>\n",
       "      <td id=\"T_3c2b1_row2_col8\" class=\"data row2 col8\" >69</td>\n",
       "      <td id=\"T_3c2b1_row2_col9\" class=\"data row2 col9\" >84</td>\n",
       "      <td id=\"T_3c2b1_row2_col10\" class=\"data row2 col10\" >83</td>\n",
       "      <td id=\"T_3c2b1_row2_col11\" class=\"data row2 col11\" >77</td>\n",
       "    </tr>\n",
       "    <tr>\n",
       "      <th id=\"T_3c2b1_level0_row3\" class=\"row_heading level0 row3\" >2018</th>\n",
       "      <td id=\"T_3c2b1_row3_col0\" class=\"data row3 col0\" >98</td>\n",
       "      <td id=\"T_3c2b1_row3_col1\" class=\"data row3 col1\" >79</td>\n",
       "      <td id=\"T_3c2b1_row3_col2\" class=\"data row3 col2\" >108</td>\n",
       "      <td id=\"T_3c2b1_row3_col3\" class=\"data row3 col3\" >97</td>\n",
       "      <td id=\"T_3c2b1_row3_col4\" class=\"data row3 col4\" >83</td>\n",
       "      <td id=\"T_3c2b1_row3_col5\" class=\"data row3 col5\" >81</td>\n",
       "      <td id=\"T_3c2b1_row3_col6\" class=\"data row3 col6\" >88</td>\n",
       "      <td id=\"T_3c2b1_row3_col7\" class=\"data row3 col7\" >75</td>\n",
       "      <td id=\"T_3c2b1_row3_col8\" class=\"data row3 col8\" >59</td>\n",
       "      <td id=\"T_3c2b1_row3_col9\" class=\"data row3 col9\" >78</td>\n",
       "      <td id=\"T_3c2b1_row3_col10\" class=\"data row3 col10\" >76</td>\n",
       "      <td id=\"T_3c2b1_row3_col11\" class=\"data row3 col11\" >71</td>\n",
       "    </tr>\n",
       "    <tr>\n",
       "      <th id=\"T_3c2b1_level0_row4\" class=\"row_heading level0 row4\" >2019</th>\n",
       "      <td id=\"T_3c2b1_row4_col0\" class=\"data row4 col0\" >93</td>\n",
       "      <td id=\"T_3c2b1_row4_col1\" class=\"data row4 col1\" >72</td>\n",
       "      <td id=\"T_3c2b1_row4_col2\" class=\"data row4 col2\" >88</td>\n",
       "      <td id=\"T_3c2b1_row4_col3\" class=\"data row4 col3\" >71</td>\n",
       "      <td id=\"T_3c2b1_row4_col4\" class=\"data row4 col4\" >74</td>\n",
       "      <td id=\"T_3c2b1_row4_col5\" class=\"data row4 col5\" >86</td>\n",
       "      <td id=\"T_3c2b1_row4_col6\" class=\"data row4 col6\" >80</td>\n",
       "      <td id=\"T_3c2b1_row4_col7\" class=\"data row4 col7\" >86</td>\n",
       "      <td id=\"T_3c2b1_row4_col8\" class=\"data row4 col8\" >78</td>\n",
       "      <td id=\"T_3c2b1_row4_col9\" class=\"data row4 col9\" >89</td>\n",
       "      <td id=\"T_3c2b1_row4_col10\" class=\"data row4 col10\" >76</td>\n",
       "      <td id=\"T_3c2b1_row4_col11\" class=\"data row4 col11\" >106</td>\n",
       "    </tr>\n",
       "    <tr>\n",
       "      <th id=\"T_3c2b1_level0_row5\" class=\"row_heading level0 row5\" >2020</th>\n",
       "      <td id=\"T_3c2b1_row5_col0\" class=\"data row5 col0\" >88</td>\n",
       "      <td id=\"T_3c2b1_row5_col1\" class=\"data row5 col1\" >78</td>\n",
       "      <td id=\"T_3c2b1_row5_col2\" class=\"data row5 col2\" >93</td>\n",
       "      <td id=\"T_3c2b1_row5_col3\" class=\"data row5 col3\" >79</td>\n",
       "      <td id=\"T_3c2b1_row5_col4\" class=\"data row5 col4\" >111</td>\n",
       "      <td id=\"T_3c2b1_row5_col5\" class=\"data row5 col5\" >77</td>\n",
       "      <td id=\"T_3c2b1_row5_col6\" class=\"data row5 col6\" >68</td>\n",
       "      <td id=\"T_3c2b1_row5_col7\" class=\"data row5 col7\" >87</td>\n",
       "      <td id=\"T_3c2b1_row5_col8\" class=\"data row5 col8\" >59</td>\n",
       "      <td id=\"T_3c2b1_row5_col9\" class=\"data row5 col9\" >100</td>\n",
       "      <td id=\"T_3c2b1_row5_col10\" class=\"data row5 col10\" >91</td>\n",
       "      <td id=\"T_3c2b1_row5_col11\" class=\"data row5 col11\" >89</td>\n",
       "    </tr>\n",
       "    <tr>\n",
       "      <th id=\"T_3c2b1_level0_row6\" class=\"row_heading level0 row6\" >2021</th>\n",
       "      <td id=\"T_3c2b1_row6_col0\" class=\"data row6 col0\" >80</td>\n",
       "      <td id=\"T_3c2b1_row6_col1\" class=\"data row6 col1\" >96</td>\n",
       "      <td id=\"T_3c2b1_row6_col2\" class=\"data row6 col2\" >88</td>\n",
       "      <td id=\"T_3c2b1_row6_col3\" class=\"data row6 col3\" >88</td>\n",
       "      <td id=\"T_3c2b1_row6_col4\" class=\"data row6 col4\" >84</td>\n",
       "      <td id=\"T_3c2b1_row6_col5\" class=\"data row6 col5\" >109</td>\n",
       "      <td id=\"T_3c2b1_row6_col6\" class=\"data row6 col6\" >72</td>\n",
       "      <td id=\"T_3c2b1_row6_col7\" class=\"data row6 col7\" >97</td>\n",
       "      <td id=\"T_3c2b1_row6_col8\" class=\"data row6 col8\" >82</td>\n",
       "      <td id=\"T_3c2b1_row6_col9\" class=\"data row6 col9\" >94</td>\n",
       "      <td id=\"T_3c2b1_row6_col10\" class=\"data row6 col10\" >72</td>\n",
       "      <td id=\"T_3c2b1_row6_col11\" class=\"data row6 col11\" >89</td>\n",
       "    </tr>\n",
       "    <tr>\n",
       "      <th id=\"T_3c2b1_level0_row7\" class=\"row_heading level0 row7\" >2022</th>\n",
       "      <td id=\"T_3c2b1_row7_col0\" class=\"data row7 col0\" >72</td>\n",
       "      <td id=\"T_3c2b1_row7_col1\" class=\"data row7 col1\" >90</td>\n",
       "      <td id=\"T_3c2b1_row7_col2\" class=\"data row7 col2\" >98</td>\n",
       "      <td id=\"T_3c2b1_row7_col3\" class=\"data row7 col3\" >84</td>\n",
       "      <td id=\"T_3c2b1_row7_col4\" class=\"data row7 col4\" >91</td>\n",
       "      <td id=\"T_3c2b1_row7_col5\" class=\"data row7 col5\" >89</td>\n",
       "      <td id=\"T_3c2b1_row7_col6\" class=\"data row7 col6\" >95</td>\n",
       "      <td id=\"T_3c2b1_row7_col7\" class=\"data row7 col7\" >72</td>\n",
       "      <td id=\"T_3c2b1_row7_col8\" class=\"data row7 col8\" >23</td>\n",
       "      <td id=\"T_3c2b1_row7_col9\" class=\"data row7 col9\" >0</td>\n",
       "      <td id=\"T_3c2b1_row7_col10\" class=\"data row7 col10\" >0</td>\n",
       "      <td id=\"T_3c2b1_row7_col11\" class=\"data row7 col11\" >0</td>\n",
       "    </tr>\n",
       "  </tbody>\n",
       "</table>\n"
      ],
      "text/plain": [
       "<pandas.io.formats.style.Styler at 0x2bc71e79400>"
      ]
     },
     "execution_count": 396,
     "metadata": {},
     "output_type": "execute_result"
    }
   ],
   "source": [
    "pd.crosstab(df['year'],df['month']).style.background_gradient(cmap='summer_r')"
   ]
  },
  {
   "cell_type": "code",
   "execution_count": 397,
   "id": "82db1019",
   "metadata": {},
   "outputs": [
    {
     "data": {
      "text/html": [
       "<style type=\"text/css\">\n",
       "#T_2eb16_row0_col0 {\n",
       "  background-color: #b7db66;\n",
       "  color: #000000;\n",
       "}\n",
       "#T_2eb16_row0_col1 {\n",
       "  background-color: #8cc666;\n",
       "  color: #000000;\n",
       "}\n",
       "#T_2eb16_row0_col2 {\n",
       "  background-color: #45a266;\n",
       "  color: #f1f1f1;\n",
       "}\n",
       "#T_2eb16_row0_col3 {\n",
       "  background-color: #349a66;\n",
       "  color: #f1f1f1;\n",
       "}\n",
       "#T_2eb16_row0_col4 {\n",
       "  background-color: #5faf66;\n",
       "  color: #f1f1f1;\n",
       "}\n",
       "#T_2eb16_row0_col5 {\n",
       "  background-color: #71b866;\n",
       "  color: #f1f1f1;\n",
       "}\n",
       "#T_2eb16_row0_col6 {\n",
       "  background-color: #c8e366;\n",
       "  color: #000000;\n",
       "}\n",
       "#T_2eb16_row0_col7, #T_2eb16_row7_col7 {\n",
       "  background-color: #43a166;\n",
       "  color: #f1f1f1;\n",
       "}\n",
       "#T_2eb16_row1_col0, #T_2eb16_row10_col0 {\n",
       "  background-color: #b1d866;\n",
       "  color: #000000;\n",
       "}\n",
       "#T_2eb16_row1_col1 {\n",
       "  background-color: #4ca666;\n",
       "  color: #f1f1f1;\n",
       "}\n",
       "#T_2eb16_row1_col2, #T_2eb16_row2_col1, #T_2eb16_row2_col3, #T_2eb16_row2_col7, #T_2eb16_row4_col5, #T_2eb16_row5_col6, #T_2eb16_row6_col0, #T_2eb16_row11_col4 {\n",
       "  background-color: #008066;\n",
       "  color: #f1f1f1;\n",
       "}\n",
       "#T_2eb16_row1_col3 {\n",
       "  background-color: #97cb66;\n",
       "  color: #000000;\n",
       "}\n",
       "#T_2eb16_row1_col4 {\n",
       "  background-color: #f8fc66;\n",
       "  color: #000000;\n",
       "}\n",
       "#T_2eb16_row1_col5 {\n",
       "  background-color: #a2d066;\n",
       "  color: #000000;\n",
       "}\n",
       "#T_2eb16_row1_col6 {\n",
       "  background-color: #59ac66;\n",
       "  color: #f1f1f1;\n",
       "}\n",
       "#T_2eb16_row1_col7 {\n",
       "  background-color: #148a66;\n",
       "  color: #f1f1f1;\n",
       "}\n",
       "#T_2eb16_row2_col0 {\n",
       "  background-color: #4ea666;\n",
       "  color: #f1f1f1;\n",
       "}\n",
       "#T_2eb16_row2_col2, #T_2eb16_row8_col6 {\n",
       "  background-color: #badc66;\n",
       "  color: #000000;\n",
       "}\n",
       "#T_2eb16_row2_col4, #T_2eb16_row3_col0, #T_2eb16_row9_col0, #T_2eb16_row10_col2 {\n",
       "  background-color: #83c166;\n",
       "  color: #000000;\n",
       "}\n",
       "#T_2eb16_row2_col5 {\n",
       "  background-color: #58ac66;\n",
       "  color: #f1f1f1;\n",
       "}\n",
       "#T_2eb16_row2_col6, #T_2eb16_row3_col6 {\n",
       "  background-color: #91c866;\n",
       "  color: #000000;\n",
       "}\n",
       "#T_2eb16_row3_col1 {\n",
       "  background-color: #f3f966;\n",
       "  color: #000000;\n",
       "}\n",
       "#T_2eb16_row3_col2, #T_2eb16_row3_col4, #T_2eb16_row5_col0, #T_2eb16_row6_col1, #T_2eb16_row6_col6, #T_2eb16_row8_col3, #T_2eb16_row8_col5, #T_2eb16_row9_col7, #T_2eb16_row10_col6, #T_2eb16_row10_col7, #T_2eb16_row11_col7 {\n",
       "  background-color: #ffff66;\n",
       "  color: #000000;\n",
       "}\n",
       "#T_2eb16_row3_col3 {\n",
       "  background-color: #399c66;\n",
       "  color: #f1f1f1;\n",
       "}\n",
       "#T_2eb16_row3_col5 {\n",
       "  background-color: #9dce66;\n",
       "  color: #000000;\n",
       "}\n",
       "#T_2eb16_row3_col7 {\n",
       "  background-color: #249266;\n",
       "  color: #f1f1f1;\n",
       "}\n",
       "#T_2eb16_row4_col0 {\n",
       "  background-color: #d8ec66;\n",
       "  color: #000000;\n",
       "}\n",
       "#T_2eb16_row4_col1 {\n",
       "  background-color: #e6f266;\n",
       "  color: #000000;\n",
       "}\n",
       "#T_2eb16_row4_col2 {\n",
       "  background-color: #d1e866;\n",
       "  color: #000000;\n",
       "}\n",
       "#T_2eb16_row4_col3 {\n",
       "  background-color: #82c066;\n",
       "  color: #000000;\n",
       "}\n",
       "#T_2eb16_row4_col4 {\n",
       "  background-color: #eaf466;\n",
       "  color: #000000;\n",
       "}\n",
       "#T_2eb16_row4_col6, #T_2eb16_row7_col3 {\n",
       "  background-color: #acd666;\n",
       "  color: #000000;\n",
       "}\n",
       "#T_2eb16_row4_col7 {\n",
       "  background-color: #128866;\n",
       "  color: #f1f1f1;\n",
       "}\n",
       "#T_2eb16_row5_col1 {\n",
       "  background-color: #0c8666;\n",
       "  color: #f1f1f1;\n",
       "}\n",
       "#T_2eb16_row5_col2, #T_2eb16_row9_col2, #T_2eb16_row9_col4 {\n",
       "  background-color: #7cbe66;\n",
       "  color: #000000;\n",
       "}\n",
       "#T_2eb16_row5_col3 {\n",
       "  background-color: #8dc666;\n",
       "  color: #000000;\n",
       "}\n",
       "#T_2eb16_row5_col4, #T_2eb16_row7_col4 {\n",
       "  background-color: #92c866;\n",
       "  color: #000000;\n",
       "}\n",
       "#T_2eb16_row5_col5, #T_2eb16_row10_col3 {\n",
       "  background-color: #a7d366;\n",
       "  color: #000000;\n",
       "}\n",
       "#T_2eb16_row5_col7 {\n",
       "  background-color: #178b66;\n",
       "  color: #f1f1f1;\n",
       "}\n",
       "#T_2eb16_row6_col2 {\n",
       "  background-color: #2e9666;\n",
       "  color: #f1f1f1;\n",
       "}\n",
       "#T_2eb16_row6_col3 {\n",
       "  background-color: #68b366;\n",
       "  color: #f1f1f1;\n",
       "}\n",
       "#T_2eb16_row6_col4 {\n",
       "  background-color: #bede66;\n",
       "  color: #000000;\n",
       "}\n",
       "#T_2eb16_row6_col5 {\n",
       "  background-color: #d3e966;\n",
       "  color: #000000;\n",
       "}\n",
       "#T_2eb16_row6_col7 {\n",
       "  background-color: #078366;\n",
       "  color: #f1f1f1;\n",
       "}\n",
       "#T_2eb16_row7_col0 {\n",
       "  background-color: #41a066;\n",
       "  color: #f1f1f1;\n",
       "}\n",
       "#T_2eb16_row7_col1 {\n",
       "  background-color: #7fbf66;\n",
       "  color: #000000;\n",
       "}\n",
       "#T_2eb16_row7_col2 {\n",
       "  background-color: #8bc566;\n",
       "  color: #000000;\n",
       "}\n",
       "#T_2eb16_row7_col5 {\n",
       "  background-color: #76bb66;\n",
       "  color: #f1f1f1;\n",
       "}\n",
       "#T_2eb16_row7_col6 {\n",
       "  background-color: #53a966;\n",
       "  color: #f1f1f1;\n",
       "}\n",
       "#T_2eb16_row8_col0 {\n",
       "  background-color: #90c866;\n",
       "  color: #000000;\n",
       "}\n",
       "#T_2eb16_row8_col1, #T_2eb16_row10_col1 {\n",
       "  background-color: #bfdf66;\n",
       "  color: #000000;\n",
       "}\n",
       "#T_2eb16_row8_col2 {\n",
       "  background-color: #f0f866;\n",
       "  color: #000000;\n",
       "}\n",
       "#T_2eb16_row8_col4 {\n",
       "  background-color: #cce666;\n",
       "  color: #000000;\n",
       "}\n",
       "#T_2eb16_row8_col7 {\n",
       "  background-color: #c3e166;\n",
       "  color: #000000;\n",
       "}\n",
       "#T_2eb16_row9_col1 {\n",
       "  background-color: #b3d966;\n",
       "  color: #000000;\n",
       "}\n",
       "#T_2eb16_row9_col3 {\n",
       "  background-color: #9cce66;\n",
       "  color: #000000;\n",
       "}\n",
       "#T_2eb16_row9_col5 {\n",
       "  background-color: #369b66;\n",
       "  color: #f1f1f1;\n",
       "}\n",
       "#T_2eb16_row9_col6 {\n",
       "  background-color: #67b366;\n",
       "  color: #f1f1f1;\n",
       "}\n",
       "#T_2eb16_row10_col4 {\n",
       "  background-color: #dbed66;\n",
       "  color: #000000;\n",
       "}\n",
       "#T_2eb16_row10_col5 {\n",
       "  background-color: #62b066;\n",
       "  color: #f1f1f1;\n",
       "}\n",
       "#T_2eb16_row11_col0 {\n",
       "  background-color: #69b466;\n",
       "  color: #f1f1f1;\n",
       "}\n",
       "#T_2eb16_row11_col1 {\n",
       "  background-color: #d9ec66;\n",
       "  color: #000000;\n",
       "}\n",
       "#T_2eb16_row11_col2 {\n",
       "  background-color: #b2d866;\n",
       "  color: #000000;\n",
       "}\n",
       "#T_2eb16_row11_col3 {\n",
       "  background-color: #c1e066;\n",
       "  color: #000000;\n",
       "}\n",
       "#T_2eb16_row11_col5 {\n",
       "  background-color: #6cb666;\n",
       "  color: #f1f1f1;\n",
       "}\n",
       "#T_2eb16_row11_col6 {\n",
       "  background-color: #8ac466;\n",
       "  color: #000000;\n",
       "}\n",
       "</style>\n",
       "<table id=\"T_2eb16\">\n",
       "  <thead>\n",
       "    <tr>\n",
       "      <th class=\"index_name level0\" >year</th>\n",
       "      <th id=\"T_2eb16_level0_col0\" class=\"col_heading level0 col0\" >2015</th>\n",
       "      <th id=\"T_2eb16_level0_col1\" class=\"col_heading level0 col1\" >2016</th>\n",
       "      <th id=\"T_2eb16_level0_col2\" class=\"col_heading level0 col2\" >2017</th>\n",
       "      <th id=\"T_2eb16_level0_col3\" class=\"col_heading level0 col3\" >2018</th>\n",
       "      <th id=\"T_2eb16_level0_col4\" class=\"col_heading level0 col4\" >2019</th>\n",
       "      <th id=\"T_2eb16_level0_col5\" class=\"col_heading level0 col5\" >2020</th>\n",
       "      <th id=\"T_2eb16_level0_col6\" class=\"col_heading level0 col6\" >2021</th>\n",
       "      <th id=\"T_2eb16_level0_col7\" class=\"col_heading level0 col7\" >2022</th>\n",
       "    </tr>\n",
       "    <tr>\n",
       "      <th class=\"index_name level0\" >month</th>\n",
       "      <th class=\"blank col0\" >&nbsp;</th>\n",
       "      <th class=\"blank col1\" >&nbsp;</th>\n",
       "      <th class=\"blank col2\" >&nbsp;</th>\n",
       "      <th class=\"blank col3\" >&nbsp;</th>\n",
       "      <th class=\"blank col4\" >&nbsp;</th>\n",
       "      <th class=\"blank col5\" >&nbsp;</th>\n",
       "      <th class=\"blank col6\" >&nbsp;</th>\n",
       "      <th class=\"blank col7\" >&nbsp;</th>\n",
       "    </tr>\n",
       "  </thead>\n",
       "  <tbody>\n",
       "    <tr>\n",
       "      <th id=\"T_2eb16_level0_row0\" class=\"row_heading level0 row0\" >1</th>\n",
       "      <td id=\"T_2eb16_row0_col0\" class=\"data row0 col0\" >76</td>\n",
       "      <td id=\"T_2eb16_row0_col1\" class=\"data row0 col1\" >81</td>\n",
       "      <td id=\"T_2eb16_row0_col2\" class=\"data row0 col2\" >91</td>\n",
       "      <td id=\"T_2eb16_row0_col3\" class=\"data row0 col3\" >98</td>\n",
       "      <td id=\"T_2eb16_row0_col4\" class=\"data row0 col4\" >93</td>\n",
       "      <td id=\"T_2eb16_row0_col5\" class=\"data row0 col5\" >88</td>\n",
       "      <td id=\"T_2eb16_row0_col6\" class=\"data row0 col6\" >80</td>\n",
       "      <td id=\"T_2eb16_row0_col7\" class=\"data row0 col7\" >72</td>\n",
       "    </tr>\n",
       "    <tr>\n",
       "      <th id=\"T_2eb16_level0_row1\" class=\"row_heading level0 row1\" >2</th>\n",
       "      <td id=\"T_2eb16_row1_col0\" class=\"data row1 col0\" >77</td>\n",
       "      <td id=\"T_2eb16_row1_col1\" class=\"data row1 col1\" >86</td>\n",
       "      <td id=\"T_2eb16_row1_col2\" class=\"data row1 col2\" >100</td>\n",
       "      <td id=\"T_2eb16_row1_col3\" class=\"data row1 col3\" >79</td>\n",
       "      <td id=\"T_2eb16_row1_col4\" class=\"data row1 col4\" >72</td>\n",
       "      <td id=\"T_2eb16_row1_col5\" class=\"data row1 col5\" >78</td>\n",
       "      <td id=\"T_2eb16_row1_col6\" class=\"data row1 col6\" >96</td>\n",
       "      <td id=\"T_2eb16_row1_col7\" class=\"data row1 col7\" >90</td>\n",
       "    </tr>\n",
       "    <tr>\n",
       "      <th id=\"T_2eb16_level0_row2\" class=\"row_heading level0 row2\" >3</th>\n",
       "      <td id=\"T_2eb16_row2_col0\" class=\"data row2 col0\" >92</td>\n",
       "      <td id=\"T_2eb16_row2_col1\" class=\"data row2 col1\" >92</td>\n",
       "      <td id=\"T_2eb16_row2_col2\" class=\"data row2 col2\" >76</td>\n",
       "      <td id=\"T_2eb16_row2_col3\" class=\"data row2 col3\" >108</td>\n",
       "      <td id=\"T_2eb16_row2_col4\" class=\"data row2 col4\" >88</td>\n",
       "      <td id=\"T_2eb16_row2_col5\" class=\"data row2 col5\" >93</td>\n",
       "      <td id=\"T_2eb16_row2_col6\" class=\"data row2 col6\" >88</td>\n",
       "      <td id=\"T_2eb16_row2_col7\" class=\"data row2 col7\" >98</td>\n",
       "    </tr>\n",
       "    <tr>\n",
       "      <th id=\"T_2eb16_level0_row3\" class=\"row_heading level0 row3\" >4</th>\n",
       "      <td id=\"T_2eb16_row3_col0\" class=\"data row3 col0\" >84</td>\n",
       "      <td id=\"T_2eb16_row3_col1\" class=\"data row3 col1\" >73</td>\n",
       "      <td id=\"T_2eb16_row3_col2\" class=\"data row3 col2\" >67</td>\n",
       "      <td id=\"T_2eb16_row3_col3\" class=\"data row3 col3\" >97</td>\n",
       "      <td id=\"T_2eb16_row3_col4\" class=\"data row3 col4\" >71</td>\n",
       "      <td id=\"T_2eb16_row3_col5\" class=\"data row3 col5\" >79</td>\n",
       "      <td id=\"T_2eb16_row3_col6\" class=\"data row3 col6\" >88</td>\n",
       "      <td id=\"T_2eb16_row3_col7\" class=\"data row3 col7\" >84</td>\n",
       "    </tr>\n",
       "    <tr>\n",
       "      <th id=\"T_2eb16_level0_row4\" class=\"row_heading level0 row4\" >5</th>\n",
       "      <td id=\"T_2eb16_row4_col0\" class=\"data row4 col0\" >71</td>\n",
       "      <td id=\"T_2eb16_row4_col1\" class=\"data row4 col1\" >74</td>\n",
       "      <td id=\"T_2eb16_row4_col2\" class=\"data row4 col2\" >73</td>\n",
       "      <td id=\"T_2eb16_row4_col3\" class=\"data row4 col3\" >83</td>\n",
       "      <td id=\"T_2eb16_row4_col4\" class=\"data row4 col4\" >74</td>\n",
       "      <td id=\"T_2eb16_row4_col5\" class=\"data row4 col5\" >111</td>\n",
       "      <td id=\"T_2eb16_row4_col6\" class=\"data row4 col6\" >84</td>\n",
       "      <td id=\"T_2eb16_row4_col7\" class=\"data row4 col7\" >91</td>\n",
       "    </tr>\n",
       "    <tr>\n",
       "      <th id=\"T_2eb16_level0_row5\" class=\"row_heading level0 row5\" >6</th>\n",
       "      <td id=\"T_2eb16_row5_col0\" class=\"data row5 col0\" >65</td>\n",
       "      <td id=\"T_2eb16_row5_col1\" class=\"data row5 col1\" >91</td>\n",
       "      <td id=\"T_2eb16_row5_col2\" class=\"data row5 col2\" >84</td>\n",
       "      <td id=\"T_2eb16_row5_col3\" class=\"data row5 col3\" >81</td>\n",
       "      <td id=\"T_2eb16_row5_col4\" class=\"data row5 col4\" >86</td>\n",
       "      <td id=\"T_2eb16_row5_col5\" class=\"data row5 col5\" >77</td>\n",
       "      <td id=\"T_2eb16_row5_col6\" class=\"data row5 col6\" >109</td>\n",
       "      <td id=\"T_2eb16_row5_col7\" class=\"data row5 col7\" >89</td>\n",
       "    </tr>\n",
       "    <tr>\n",
       "      <th id=\"T_2eb16_level0_row6\" class=\"row_heading level0 row6\" >7</th>\n",
       "      <td id=\"T_2eb16_row6_col0\" class=\"data row6 col0\" >104</td>\n",
       "      <td id=\"T_2eb16_row6_col1\" class=\"data row6 col1\" >72</td>\n",
       "      <td id=\"T_2eb16_row6_col2\" class=\"data row6 col2\" >94</td>\n",
       "      <td id=\"T_2eb16_row6_col3\" class=\"data row6 col3\" >88</td>\n",
       "      <td id=\"T_2eb16_row6_col4\" class=\"data row6 col4\" >80</td>\n",
       "      <td id=\"T_2eb16_row6_col5\" class=\"data row6 col5\" >68</td>\n",
       "      <td id=\"T_2eb16_row6_col6\" class=\"data row6 col6\" >72</td>\n",
       "      <td id=\"T_2eb16_row6_col7\" class=\"data row6 col7\" >95</td>\n",
       "    </tr>\n",
       "    <tr>\n",
       "      <th id=\"T_2eb16_level0_row7\" class=\"row_heading level0 row7\" >8</th>\n",
       "      <td id=\"T_2eb16_row7_col0\" class=\"data row7 col0\" >94</td>\n",
       "      <td id=\"T_2eb16_row7_col1\" class=\"data row7 col1\" >82</td>\n",
       "      <td id=\"T_2eb16_row7_col2\" class=\"data row7 col2\" >82</td>\n",
       "      <td id=\"T_2eb16_row7_col3\" class=\"data row7 col3\" >75</td>\n",
       "      <td id=\"T_2eb16_row7_col4\" class=\"data row7 col4\" >86</td>\n",
       "      <td id=\"T_2eb16_row7_col5\" class=\"data row7 col5\" >87</td>\n",
       "      <td id=\"T_2eb16_row7_col6\" class=\"data row7 col6\" >97</td>\n",
       "      <td id=\"T_2eb16_row7_col7\" class=\"data row7 col7\" >72</td>\n",
       "    </tr>\n",
       "    <tr>\n",
       "      <th id=\"T_2eb16_level0_row8\" class=\"row_heading level0 row8\" >9</th>\n",
       "      <td id=\"T_2eb16_row8_col0\" class=\"data row8 col0\" >82</td>\n",
       "      <td id=\"T_2eb16_row8_col1\" class=\"data row8 col1\" >77</td>\n",
       "      <td id=\"T_2eb16_row8_col2\" class=\"data row8 col2\" >69</td>\n",
       "      <td id=\"T_2eb16_row8_col3\" class=\"data row8 col3\" >59</td>\n",
       "      <td id=\"T_2eb16_row8_col4\" class=\"data row8 col4\" >78</td>\n",
       "      <td id=\"T_2eb16_row8_col5\" class=\"data row8 col5\" >59</td>\n",
       "      <td id=\"T_2eb16_row8_col6\" class=\"data row8 col6\" >82</td>\n",
       "      <td id=\"T_2eb16_row8_col7\" class=\"data row8 col7\" >23</td>\n",
       "    </tr>\n",
       "    <tr>\n",
       "      <th id=\"T_2eb16_level0_row9\" class=\"row_heading level0 row9\" >10</th>\n",
       "      <td id=\"T_2eb16_row9_col0\" class=\"data row9 col0\" >84</td>\n",
       "      <td id=\"T_2eb16_row9_col1\" class=\"data row9 col1\" >78</td>\n",
       "      <td id=\"T_2eb16_row9_col2\" class=\"data row9 col2\" >84</td>\n",
       "      <td id=\"T_2eb16_row9_col3\" class=\"data row9 col3\" >78</td>\n",
       "      <td id=\"T_2eb16_row9_col4\" class=\"data row9 col4\" >89</td>\n",
       "      <td id=\"T_2eb16_row9_col5\" class=\"data row9 col5\" >100</td>\n",
       "      <td id=\"T_2eb16_row9_col6\" class=\"data row9 col6\" >94</td>\n",
       "      <td id=\"T_2eb16_row9_col7\" class=\"data row9 col7\" >0</td>\n",
       "    </tr>\n",
       "    <tr>\n",
       "      <th id=\"T_2eb16_level0_row10\" class=\"row_heading level0 row10\" >11</th>\n",
       "      <td id=\"T_2eb16_row10_col0\" class=\"data row10 col0\" >77</td>\n",
       "      <td id=\"T_2eb16_row10_col1\" class=\"data row10 col1\" >77</td>\n",
       "      <td id=\"T_2eb16_row10_col2\" class=\"data row10 col2\" >83</td>\n",
       "      <td id=\"T_2eb16_row10_col3\" class=\"data row10 col3\" >76</td>\n",
       "      <td id=\"T_2eb16_row10_col4\" class=\"data row10 col4\" >76</td>\n",
       "      <td id=\"T_2eb16_row10_col5\" class=\"data row10 col5\" >91</td>\n",
       "      <td id=\"T_2eb16_row10_col6\" class=\"data row10 col6\" >72</td>\n",
       "      <td id=\"T_2eb16_row10_col7\" class=\"data row10 col7\" >0</td>\n",
       "    </tr>\n",
       "    <tr>\n",
       "      <th id=\"T_2eb16_level0_row11\" class=\"row_heading level0 row11\" >12</th>\n",
       "      <td id=\"T_2eb16_row11_col0\" class=\"data row11 col0\" >88</td>\n",
       "      <td id=\"T_2eb16_row11_col1\" class=\"data row11 col1\" >75</td>\n",
       "      <td id=\"T_2eb16_row11_col2\" class=\"data row11 col2\" >77</td>\n",
       "      <td id=\"T_2eb16_row11_col3\" class=\"data row11 col3\" >71</td>\n",
       "      <td id=\"T_2eb16_row11_col4\" class=\"data row11 col4\" >106</td>\n",
       "      <td id=\"T_2eb16_row11_col5\" class=\"data row11 col5\" >89</td>\n",
       "      <td id=\"T_2eb16_row11_col6\" class=\"data row11 col6\" >89</td>\n",
       "      <td id=\"T_2eb16_row11_col7\" class=\"data row11 col7\" >0</td>\n",
       "    </tr>\n",
       "  </tbody>\n",
       "</table>\n"
      ],
      "text/plain": [
       "<pandas.io.formats.style.Styler at 0x2bc742f8eb0>"
      ]
     },
     "execution_count": 397,
     "metadata": {},
     "output_type": "execute_result"
    }
   ],
   "source": [
    "pd.crosstab(df['month'],df['year']).style.background_gradient(cmap='summer_r')"
   ]
  },
  {
   "cell_type": "code",
   "execution_count": 398,
   "id": "878408e8",
   "metadata": {},
   "outputs": [
    {
     "data": {
      "text/plain": [
       "<AxesSubplot:>"
      ]
     },
     "execution_count": 398,
     "metadata": {},
     "output_type": "execute_result"
    },
    {
     "data": {
      "image/png": "[encoded data removed]",
      "text/plain": [
       "<Figure size 432x288 with 1 Axes>"
      ]
     },
     "metadata": {
      "needs_background": "light"
     },
     "output_type": "display_data"
    }
   ],
   "source": [
    "df['week'].value_counts().plot.bar()"
   ]
  },
  {
   "cell_type": "code",
   "execution_count": 399,
   "id": "743e08aa",
   "metadata": {},
   "outputs": [
    {
     "data": {
      "text/plain": [
       "<AxesSubplot:>"
      ]
     },
     "execution_count": 399,
     "metadata": {},
     "output_type": "execute_result"
    },
    {
     "data": {
      "image/png": "[encoded data removed]",
      "text/plain": [
       "<Figure size 432x288 with 1 Axes>"
      ]
     },
     "metadata": {
      "needs_background": "light"
     },
     "output_type": "display_data"
    }
   ],
   "source": [
    "df['month'].value_counts().plot.bar()"
   ]
  },
  {
   "cell_type": "code",
   "execution_count": 400,
   "id": "044272a0",
   "metadata": {},
   "outputs": [
    {
     "data": {
      "text/plain": [
       "<AxesSubplot:>"
      ]
     },
     "execution_count": 400,
     "metadata": {},
     "output_type": "execute_result"
    },
    {
     "data": {
      "image/png": "[encoded data removed]",
      "text/plain": [
       "<Figure size 432x288 with 1 Axes>"
      ]
     },
     "metadata": {
      "needs_background": "light"
     },
     "output_type": "display_data"
    }
   ],
   "source": [
    "df['year'].value_counts().plot.bar()"
   ]
  },
  {
   "cell_type": "markdown",
   "id": "cf03ce34",
   "metadata": {},
   "source": [
    "По графикам видно что количество зарегистрированных преступлений, растет. 2022 год не заполнен до конца и счет идет до конца  08.2022 начала 09.2022. Чаще всего преступления возникают со Вт по Пт. В выходные и Пн количество преступлений снижается. Самый опасный месяц является Март, самым безопасный еще не известен, так как 2022 год еще не прошел."
   ]
  },
  {
   "cell_type": "markdown",
   "id": "b789dd4c",
   "metadata": {},
   "source": [
    "# Скрыля или нет"
   ]
  },
  {
   "cell_type": "code",
   "execution_count": 401,
   "id": "522970e7",
   "metadata": {},
   "outputs": [
    {
     "data": {
      "text/plain": [
       "Not fleeing    4333\n",
       "Car            1247\n",
       "Foot            979\n",
       "Other           287\n",
       "Name: flee, dtype: int64"
      ]
     },
     "execution_count": 401,
     "metadata": {},
     "output_type": "execute_result"
    }
   ],
   "source": [
    "df['flee'].value_counts()"
   ]
  },
  {
   "cell_type": "code",
   "execution_count": 402,
   "id": "38e3ae0d",
   "metadata": {},
   "outputs": [],
   "source": [
    "df['flee'][df['flee'].isnull()] = 'Other'"
   ]
  },
  {
   "cell_type": "code",
   "execution_count": 403,
   "id": "658ad3da",
   "metadata": {},
   "outputs": [
    {
     "data": {
      "text/plain": [
       "<AxesSubplot:>"
      ]
     },
     "execution_count": 403,
     "metadata": {},
     "output_type": "execute_result"
    },
    {
     "data": {
      "image/png": "[encoded data removed]",
      "text/plain": [
       "<Figure size 432x288 with 1 Axes>"
      ]
     },
     "metadata": {
      "needs_background": "light"
     },
     "output_type": "display_data"
    }
   ],
   "source": [
    "df['flee'].value_counts().plot.bar()"
   ]
  },
  {
   "cell_type": "code",
   "execution_count": 404,
   "id": "8ffe58a1",
   "metadata": {},
   "outputs": [
    {
     "data": {
      "text/plain": [
       "'0.56'"
      ]
     },
     "execution_count": 404,
     "metadata": {},
     "output_type": "execute_result"
    }
   ],
   "source": [
    "'%.2f'%((len(df[df['flee'] == \"Not fleeing\"]))/len(df))"
   ]
  },
  {
   "cell_type": "markdown",
   "id": "5abd2f4f",
   "metadata": {},
   "source": [
    "По результатом видно что только в 56% случаев преступникам не удавалась скрыться. Что является очень большим количеством скрывшихся. Единственный способ это объяснить считать, что трупы находили через несколько дней после преступления."
   ]
  },
  {
   "cell_type": "markdown",
   "id": "4537996d",
   "metadata": {},
   "source": [
    "# Оружие"
   ]
  },
  {
   "cell_type": "code",
   "execution_count": 405,
   "id": "412e8622",
   "metadata": {},
   "outputs": [
    {
     "name": "stdout",
     "output_type": "stream",
     "text": [
      "Количество пустых значений:  209\n"
     ]
    }
   ],
   "source": [
    "print('Количество пустых значений: ',len(df['armed'][df['armed'].isnull()]))"
   ]
  },
  {
   "cell_type": "code",
   "execution_count": 406,
   "id": "7d397878",
   "metadata": {},
   "outputs": [
    {
     "name": "stdout",
     "output_type": "stream",
     "text": [
      "gun               4397\n",
      "knife             1106\n",
      "unarmed            456\n",
      "undetermined       309\n",
      "vehicle            275\n",
      "toy weapon         245\n",
      "unknown weapon     117\n",
      "machete             61\n",
      "Taser               38\n",
      "ax                  27\n",
      "Name: armed, dtype: int64\n"
     ]
    }
   ],
   "source": [
    "print(df['armed'].value_counts().head(10))"
   ]
  },
  {
   "cell_type": "code",
   "execution_count": 407,
   "id": "02fc22a6",
   "metadata": {},
   "outputs": [],
   "source": [
    "df['armed'][df['armed'].isnull()] = 'undetermined'"
   ]
  },
  {
   "cell_type": "code",
   "execution_count": 408,
   "id": "4a37ffe7",
   "metadata": {
    "scrolled": false
   },
   "outputs": [
    {
     "name": "stdout",
     "output_type": "stream",
     "text": [
      "Head\n",
      "gun               4397\n",
      "knife             1106\n",
      "undetermined       518\n",
      "unarmed            456\n",
      "vehicle            275\n",
      "toy weapon         245\n",
      "unknown weapon     117\n",
      "machete             61\n",
      "Taser               38\n",
      "ax                  27\n",
      "Name: armed, dtype: int64\n",
      "\n",
      "Down\n",
      "flagpole                          1\n",
      "oar                               1\n",
      "machete and gun                   1\n",
      "baseball bat and bottle           1\n",
      "fireworks                         1\n",
      "pen                               1\n",
      "chainsaw                          1\n",
      "gun and sword                     1\n",
      "claimed to be armed               1\n",
      "knife, hammer and gasoline can    1\n",
      "Name: armed, dtype: int64\n"
     ]
    },
    {
     "data": {
      "text/plain": [
       "<AxesSubplot:>"
      ]
     },
     "execution_count": 408,
     "metadata": {},
     "output_type": "execute_result"
    },
    {
     "data": {
      "image/png": "[encoded data removed]",
      "text/plain": [
       "<Figure size 432x288 with 1 Axes>"
      ]
     },
     "metadata": {
      "needs_background": "light"
     },
     "output_type": "display_data"
    }
   ],
   "source": [
    "print('Head')\n",
    "print(df['armed'].value_counts().head(10))\n",
    "print('\\n'+'Down')\n",
    "print(df['armed'].value_counts()[-10:])\n",
    "df['armed'].value_counts().head(10).plot.bar()"
   ]
  },
  {
   "cell_type": "code",
   "execution_count": 409,
   "id": "e51c5d98",
   "metadata": {},
   "outputs": [
    {
     "data": {
      "text/plain": [
       "'0.57'"
      ]
     },
     "execution_count": 409,
     "metadata": {},
     "output_type": "execute_result"
    }
   ],
   "source": [
    "'%.2f'%(df['armed'].value_counts().max()/len(df))"
   ]
  },
  {
   "cell_type": "markdown",
   "id": "514900cc",
   "metadata": {},
   "source": [
    "Видно что самым частым оружием используется пистолет, в 57% случаев. Так же видно что в таблице используются перечисление орудий убийства. Так можно понять что unknown weapon, undetermined показывает что оружие не было понятно, но точно использовалось. По этому nan были заполнены такими же значениями. Можно сделать ввод что наиболее частое орудие убийства это пистолет и нож и убийство голыми руками."
   ]
  },
  {
   "cell_type": "markdown",
   "id": "04f7ac09",
   "metadata": {},
   "source": [
    "# Камеры"
   ]
  },
  {
   "cell_type": "code",
   "execution_count": 410,
   "id": "bb1e01ab",
   "metadata": {},
   "outputs": [
    {
     "data": {
      "text/html": [
       "<style type=\"text/css\">\n",
       "#T_24db6_row0_col1 {\n",
       "  background-color: #ffff66;\n",
       "  color: #000000;\n",
       "}\n",
       "#T_24db6_row1_col1 {\n",
       "  background-color: #80c066;\n",
       "  color: #000000;\n",
       "}\n",
       "#T_24db6_row2_col1 {\n",
       "  background-color: #c2e066;\n",
       "  color: #000000;\n",
       "}\n",
       "#T_24db6_row3_col1 {\n",
       "  background-color: #aad466;\n",
       "  color: #000000;\n",
       "}\n",
       "#T_24db6_row4_col1 {\n",
       "  background-color: #91c866;\n",
       "  color: #000000;\n",
       "}\n",
       "#T_24db6_row5_col1 {\n",
       "  background-color: #4aa466;\n",
       "  color: #f1f1f1;\n",
       "}\n",
       "#T_24db6_row6_col1 {\n",
       "  background-color: #008066;\n",
       "  color: #f1f1f1;\n",
       "}\n",
       "#T_24db6_row7_col1 {\n",
       "  background-color: #a1d066;\n",
       "  color: #000000;\n",
       "}\n",
       "</style>\n",
       "<table id=\"T_24db6\">\n",
       "  <thead>\n",
       "    <tr>\n",
       "      <th class=\"index_name level0\" >body_camera</th>\n",
       "      <th id=\"T_24db6_level0_col0\" class=\"col_heading level0 col0\" >False</th>\n",
       "      <th id=\"T_24db6_level0_col1\" class=\"col_heading level0 col1\" >True</th>\n",
       "    </tr>\n",
       "    <tr>\n",
       "      <th class=\"index_name level0\" >year</th>\n",
       "      <th class=\"blank col0\" >&nbsp;</th>\n",
       "      <th class=\"blank col1\" >&nbsp;</th>\n",
       "    </tr>\n",
       "  </thead>\n",
       "  <tbody>\n",
       "    <tr>\n",
       "      <th id=\"T_24db6_level0_row0\" class=\"row_heading level0 row0\" >2015</th>\n",
       "      <td id=\"T_24db6_row0_col0\" class=\"data row0 col0\" >919</td>\n",
       "      <td id=\"T_24db6_row0_col1\" class=\"data row0 col1\" >75</td>\n",
       "    </tr>\n",
       "    <tr>\n",
       "      <th id=\"T_24db6_level0_row1\" class=\"row_heading level0 row1\" >2016</th>\n",
       "      <td id=\"T_24db6_row1_col0\" class=\"data row1 col0\" >813</td>\n",
       "      <td id=\"T_24db6_row1_col1\" class=\"data row1 col1\" >145</td>\n",
       "    </tr>\n",
       "    <tr>\n",
       "      <th id=\"T_24db6_level0_row2\" class=\"row_heading level0 row2\" >2017</th>\n",
       "      <td id=\"T_24db6_row2_col0\" class=\"data row2 col0\" >871</td>\n",
       "      <td id=\"T_24db6_row2_col1\" class=\"data row2 col1\" >109</td>\n",
       "    </tr>\n",
       "    <tr>\n",
       "      <th id=\"T_24db6_level0_row3\" class=\"row_heading level0 row3\" >2018</th>\n",
       "      <td id=\"T_24db6_row3_col0\" class=\"data row3 col0\" >871</td>\n",
       "      <td id=\"T_24db6_row3_col1\" class=\"data row3 col1\" >122</td>\n",
       "    </tr>\n",
       "    <tr>\n",
       "      <th id=\"T_24db6_level0_row4\" class=\"row_heading level0 row4\" >2019</th>\n",
       "      <td id=\"T_24db6_row4_col0\" class=\"data row4 col0\" >863</td>\n",
       "      <td id=\"T_24db6_row4_col1\" class=\"data row4 col1\" >136</td>\n",
       "    </tr>\n",
       "    <tr>\n",
       "      <th id=\"T_24db6_level0_row5\" class=\"row_heading level0 row5\" >2020</th>\n",
       "      <td id=\"T_24db6_row5_col0\" class=\"data row5 col0\" >845</td>\n",
       "      <td id=\"T_24db6_row5_col1\" class=\"data row5 col1\" >175</td>\n",
       "    </tr>\n",
       "    <tr>\n",
       "      <th id=\"T_24db6_level0_row6\" class=\"row_heading level0 row6\" >2021</th>\n",
       "      <td id=\"T_24db6_row6_col0\" class=\"data row6 col0\" >835</td>\n",
       "      <td id=\"T_24db6_row6_col1\" class=\"data row6 col1\" >216</td>\n",
       "    </tr>\n",
       "    <tr>\n",
       "      <th id=\"T_24db6_level0_row7\" class=\"row_heading level0 row7\" >2022</th>\n",
       "      <td id=\"T_24db6_row7_col0\" class=\"data row7 col0\" >587</td>\n",
       "      <td id=\"T_24db6_row7_col1\" class=\"data row7 col1\" >127</td>\n",
       "    </tr>\n",
       "  </tbody>\n",
       "</table>\n"
      ],
      "text/plain": [
       "<pandas.io.formats.style.Styler at 0x2bc700d9be0>"
      ]
     },
     "execution_count": 410,
     "metadata": {},
     "output_type": "execute_result"
    }
   ],
   "source": [
    "pd.crosstab(df['year'],df['body_camera']).style.background_gradient(cmap='summer_r')"
   ]
  },
  {
   "cell_type": "code",
   "execution_count": 411,
   "id": "0c691e4e",
   "metadata": {},
   "outputs": [
    {
     "data": {
      "text/html": [
       "<style type=\"text/css\">\n",
       "#T_43115_row0_col0 {\n",
       "  background-color: #7abc66;\n",
       "  color: #000000;\n",
       "}\n",
       "#T_43115_row0_col1 {\n",
       "  background-color: #9bcd66;\n",
       "  color: #000000;\n",
       "}\n",
       "#T_43115_row0_col2, #T_43115_row2_col0, #T_43115_row5_col1, #T_43115_row6_col3 {\n",
       "  background-color: #008066;\n",
       "  color: #f1f1f1;\n",
       "}\n",
       "#T_43115_row0_col3, #T_43115_row7_col0, #T_43115_row7_col1, #T_43115_row7_col2 {\n",
       "  background-color: #ffff66;\n",
       "  color: #000000;\n",
       "}\n",
       "#T_43115_row1_col0 {\n",
       "  background-color: #77bb66;\n",
       "  color: #f1f1f1;\n",
       "}\n",
       "#T_43115_row1_col1 {\n",
       "  background-color: #5faf66;\n",
       "  color: #f1f1f1;\n",
       "}\n",
       "#T_43115_row1_col2 {\n",
       "  background-color: #2d9666;\n",
       "  color: #f1f1f1;\n",
       "}\n",
       "#T_43115_row1_col3 {\n",
       "  background-color: #dbed66;\n",
       "  color: #000000;\n",
       "}\n",
       "#T_43115_row2_col1 {\n",
       "  background-color: #5bad66;\n",
       "  color: #f1f1f1;\n",
       "}\n",
       "#T_43115_row2_col2 {\n",
       "  background-color: #3c9e66;\n",
       "  color: #f1f1f1;\n",
       "}\n",
       "#T_43115_row2_col3, #T_43115_row3_col3 {\n",
       "  background-color: #cee666;\n",
       "  color: #000000;\n",
       "}\n",
       "#T_43115_row3_col0 {\n",
       "  background-color: #40a066;\n",
       "  color: #f1f1f1;\n",
       "}\n",
       "#T_43115_row3_col1 {\n",
       "  background-color: #1b8d66;\n",
       "  color: #f1f1f1;\n",
       "}\n",
       "#T_43115_row3_col2 {\n",
       "  background-color: #339966;\n",
       "  color: #f1f1f1;\n",
       "}\n",
       "#T_43115_row4_col0 {\n",
       "  background-color: #148a66;\n",
       "  color: #f1f1f1;\n",
       "}\n",
       "#T_43115_row4_col1 {\n",
       "  background-color: #128866;\n",
       "  color: #f1f1f1;\n",
       "}\n",
       "#T_43115_row4_col2 {\n",
       "  background-color: #3e9e66;\n",
       "  color: #f1f1f1;\n",
       "}\n",
       "#T_43115_row4_col3 {\n",
       "  background-color: #c3e166;\n",
       "  color: #000000;\n",
       "}\n",
       "#T_43115_row5_col0 {\n",
       "  background-color: #068266;\n",
       "  color: #f1f1f1;\n",
       "}\n",
       "#T_43115_row5_col2 {\n",
       "  background-color: #5cae66;\n",
       "  color: #f1f1f1;\n",
       "}\n",
       "#T_43115_row5_col3 {\n",
       "  background-color: #82c066;\n",
       "  color: #000000;\n",
       "}\n",
       "#T_43115_row6_col0 {\n",
       "  background-color: #289366;\n",
       "  color: #f1f1f1;\n",
       "}\n",
       "#T_43115_row6_col1 {\n",
       "  background-color: #49a466;\n",
       "  color: #f1f1f1;\n",
       "}\n",
       "#T_43115_row6_col2 {\n",
       "  background-color: #8ac466;\n",
       "  color: #000000;\n",
       "}\n",
       "#T_43115_row7_col3 {\n",
       "  background-color: #018066;\n",
       "  color: #f1f1f1;\n",
       "}\n",
       "</style>\n",
       "<table id=\"T_43115\">\n",
       "  <thead>\n",
       "    <tr>\n",
       "      <th class=\"index_name level0\" >flee</th>\n",
       "      <th id=\"T_43115_level0_col0\" class=\"col_heading level0 col0\" >Car</th>\n",
       "      <th id=\"T_43115_level0_col1\" class=\"col_heading level0 col1\" >Foot</th>\n",
       "      <th id=\"T_43115_level0_col2\" class=\"col_heading level0 col2\" >Not fleeing</th>\n",
       "      <th id=\"T_43115_level0_col3\" class=\"col_heading level0 col3\" >Other</th>\n",
       "    </tr>\n",
       "    <tr>\n",
       "      <th class=\"index_name level0\" >year</th>\n",
       "      <th class=\"blank col0\" >&nbsp;</th>\n",
       "      <th class=\"blank col1\" >&nbsp;</th>\n",
       "      <th class=\"blank col2\" >&nbsp;</th>\n",
       "      <th class=\"blank col3\" >&nbsp;</th>\n",
       "    </tr>\n",
       "  </thead>\n",
       "  <tbody>\n",
       "    <tr>\n",
       "      <th id=\"T_43115_level0_row0\" class=\"row_heading level0 row0\" >2015</th>\n",
       "      <td id=\"T_43115_row0_col0\" class=\"data row0 col0\" >143</td>\n",
       "      <td id=\"T_43115_row0_col1\" class=\"data row0 col1\" >108</td>\n",
       "      <td id=\"T_43115_row0_col2\" class=\"data row0 col2\" >717</td>\n",
       "      <td id=\"T_43115_row0_col3\" class=\"data row0 col3\" >26</td>\n",
       "    </tr>\n",
       "    <tr>\n",
       "      <th id=\"T_43115_level0_row1\" class=\"row_heading level0 row1\" >2016</th>\n",
       "      <td id=\"T_43115_row1_col0\" class=\"data row1 col0\" >144</td>\n",
       "      <td id=\"T_43115_row1_col1\" class=\"data row1 col1\" >121</td>\n",
       "      <td id=\"T_43115_row1_col2\" class=\"data row1 col2\" >626</td>\n",
       "      <td id=\"T_43115_row1_col3\" class=\"data row1 col3\" >67</td>\n",
       "    </tr>\n",
       "    <tr>\n",
       "      <th id=\"T_43115_level0_row2\" class=\"row_heading level0 row2\" >2017</th>\n",
       "      <td id=\"T_43115_row2_col0\" class=\"data row2 col0\" >179</td>\n",
       "      <td id=\"T_43115_row2_col1\" class=\"data row2 col1\" >122</td>\n",
       "      <td id=\"T_43115_row2_col2\" class=\"data row2 col2\" >597</td>\n",
       "      <td id=\"T_43115_row2_col3\" class=\"data row2 col3\" >82</td>\n",
       "    </tr>\n",
       "    <tr>\n",
       "      <th id=\"T_43115_level0_row3\" class=\"row_heading level0 row3\" >2018</th>\n",
       "      <td id=\"T_43115_row3_col0\" class=\"data row3 col0\" >160</td>\n",
       "      <td id=\"T_43115_row3_col1\" class=\"data row3 col1\" >136</td>\n",
       "      <td id=\"T_43115_row3_col2\" class=\"data row3 col2\" >615</td>\n",
       "      <td id=\"T_43115_row3_col3\" class=\"data row3 col3\" >82</td>\n",
       "    </tr>\n",
       "    <tr>\n",
       "      <th id=\"T_43115_level0_row4\" class=\"row_heading level0 row4\" >2019</th>\n",
       "      <td id=\"T_43115_row4_col0\" class=\"data row4 col0\" >173</td>\n",
       "      <td id=\"T_43115_row4_col1\" class=\"data row4 col1\" >138</td>\n",
       "      <td id=\"T_43115_row4_col2\" class=\"data row4 col2\" >593</td>\n",
       "      <td id=\"T_43115_row4_col3\" class=\"data row4 col3\" >95</td>\n",
       "    </tr>\n",
       "    <tr>\n",
       "      <th id=\"T_43115_level0_row5\" class=\"row_heading level0 row5\" >2020</th>\n",
       "      <td id=\"T_43115_row5_col0\" class=\"data row5 col0\" >177</td>\n",
       "      <td id=\"T_43115_row5_col1\" class=\"data row5 col1\" >142</td>\n",
       "      <td id=\"T_43115_row5_col2\" class=\"data row5 col2\" >533</td>\n",
       "      <td id=\"T_43115_row5_col3\" class=\"data row5 col3\" >168</td>\n",
       "    </tr>\n",
       "    <tr>\n",
       "      <th id=\"T_43115_level0_row6\" class=\"row_heading level0 row6\" >2021</th>\n",
       "      <td id=\"T_43115_row6_col0\" class=\"data row6 col0\" >167</td>\n",
       "      <td id=\"T_43115_row6_col1\" class=\"data row6 col1\" >126</td>\n",
       "      <td id=\"T_43115_row6_col2\" class=\"data row6 col2\" >442</td>\n",
       "      <td id=\"T_43115_row6_col3\" class=\"data row6 col3\" >316</td>\n",
       "    </tr>\n",
       "    <tr>\n",
       "      <th id=\"T_43115_level0_row7\" class=\"row_heading level0 row7\" >2022</th>\n",
       "      <td id=\"T_43115_row7_col0\" class=\"data row7 col0\" >104</td>\n",
       "      <td id=\"T_43115_row7_col1\" class=\"data row7 col1\" >86</td>\n",
       "      <td id=\"T_43115_row7_col2\" class=\"data row7 col2\" >210</td>\n",
       "      <td id=\"T_43115_row7_col3\" class=\"data row7 col3\" >314</td>\n",
       "    </tr>\n",
       "  </tbody>\n",
       "</table>\n"
      ],
      "text/plain": [
       "<pandas.io.formats.style.Styler at 0x2bc7ab9a8e0>"
      ]
     },
     "execution_count": 411,
     "metadata": {},
     "output_type": "execute_result"
    }
   ],
   "source": [
    "pd.crosstab(df['year'],df['flee']).style.background_gradient(cmap='summer_r')"
   ]
  },
  {
   "cell_type": "code",
   "execution_count": 412,
   "id": "226eaee3",
   "metadata": {},
   "outputs": [
    {
     "data": {
      "text/html": [
       "<style type=\"text/css\">\n",
       "#T_c571a_row0_col0, #T_c571a_row0_col1, #T_c571a_row0_col2 {\n",
       "  background-color: #008066;\n",
       "  color: #f1f1f1;\n",
       "}\n",
       "#T_c571a_row1_col0, #T_c571a_row1_col1, #T_c571a_row1_col2 {\n",
       "  background-color: #ffff66;\n",
       "  color: #000000;\n",
       "}\n",
       "</style>\n",
       "<table id=\"T_c571a\">\n",
       "  <thead>\n",
       "    <tr>\n",
       "      <th class=\"index_name level0\" >threat_level</th>\n",
       "      <th id=\"T_c571a_level0_col0\" class=\"col_heading level0 col0\" >attack</th>\n",
       "      <th id=\"T_c571a_level0_col1\" class=\"col_heading level0 col1\" >other</th>\n",
       "      <th id=\"T_c571a_level0_col2\" class=\"col_heading level0 col2\" >undetermined</th>\n",
       "    </tr>\n",
       "    <tr>\n",
       "      <th class=\"index_name level0\" >body_camera</th>\n",
       "      <th class=\"blank col0\" >&nbsp;</th>\n",
       "      <th class=\"blank col1\" >&nbsp;</th>\n",
       "      <th class=\"blank col2\" >&nbsp;</th>\n",
       "    </tr>\n",
       "  </thead>\n",
       "  <tbody>\n",
       "    <tr>\n",
       "      <th id=\"T_c571a_level0_row0\" class=\"row_heading level0 row0\" >False</th>\n",
       "      <td id=\"T_c571a_row0_col0\" class=\"data row0 col0\" >4220</td>\n",
       "      <td id=\"T_c571a_row0_col1\" class=\"data row0 col1\" >2134</td>\n",
       "      <td id=\"T_c571a_row0_col2\" class=\"data row0 col2\" >250</td>\n",
       "    </tr>\n",
       "    <tr>\n",
       "      <th id=\"T_c571a_level0_row1\" class=\"row_heading level0 row1\" >True</th>\n",
       "      <td id=\"T_c571a_row1_col0\" class=\"data row1 col0\" >644</td>\n",
       "      <td id=\"T_c571a_row1_col1\" class=\"data row1 col1\" >414</td>\n",
       "      <td id=\"T_c571a_row1_col2\" class=\"data row1 col2\" >47</td>\n",
       "    </tr>\n",
       "  </tbody>\n",
       "</table>\n"
      ],
      "text/plain": [
       "<pandas.io.formats.style.Styler at 0x2bc7abf35e0>"
      ]
     },
     "execution_count": 412,
     "metadata": {},
     "output_type": "execute_result"
    }
   ],
   "source": [
    "pd.crosstab(df['body_camera'],df['threat_level']).style.background_gradient(cmap='summer_r')"
   ]
  },
  {
   "cell_type": "code",
   "execution_count": 413,
   "id": "15212173",
   "metadata": {},
   "outputs": [
    {
     "data": {
      "text/html": [
       "<style type=\"text/css\">\n",
       "#T_85c62_row0_col0, #T_85c62_row1_col1, #T_85c62_row6_col2, #T_85c62_row7_col2 {\n",
       "  background-color: #008066;\n",
       "  color: #f1f1f1;\n",
       "}\n",
       "#T_85c62_row0_col1, #T_85c62_row3_col2, #T_85c62_row7_col0 {\n",
       "  background-color: #ffff66;\n",
       "  color: #000000;\n",
       "}\n",
       "#T_85c62_row0_col2, #T_85c62_row5_col2 {\n",
       "  background-color: #a4d266;\n",
       "  color: #000000;\n",
       "}\n",
       "#T_85c62_row1_col0 {\n",
       "  background-color: #80c066;\n",
       "  color: #000000;\n",
       "}\n",
       "#T_85c62_row1_col2 {\n",
       "  background-color: #cae466;\n",
       "  color: #000000;\n",
       "}\n",
       "#T_85c62_row2_col0 {\n",
       "  background-color: #61b066;\n",
       "  color: #f1f1f1;\n",
       "}\n",
       "#T_85c62_row2_col1 {\n",
       "  background-color: #1b8d66;\n",
       "  color: #f1f1f1;\n",
       "}\n",
       "#T_85c62_row2_col2 {\n",
       "  background-color: #e7f366;\n",
       "  color: #000000;\n",
       "}\n",
       "#T_85c62_row3_col0 {\n",
       "  background-color: #53a966;\n",
       "  color: #f1f1f1;\n",
       "}\n",
       "#T_85c62_row3_col1 {\n",
       "  background-color: #1f8f66;\n",
       "  color: #f1f1f1;\n",
       "}\n",
       "#T_85c62_row4_col0 {\n",
       "  background-color: #1e8e66;\n",
       "  color: #f1f1f1;\n",
       "}\n",
       "#T_85c62_row4_col1, #T_85c62_row4_col2 {\n",
       "  background-color: #add666;\n",
       "  color: #000000;\n",
       "}\n",
       "#T_85c62_row5_col0 {\n",
       "  background-color: #209066;\n",
       "  color: #f1f1f1;\n",
       "}\n",
       "#T_85c62_row5_col1 {\n",
       "  background-color: #88c366;\n",
       "  color: #000000;\n",
       "}\n",
       "#T_85c62_row6_col0 {\n",
       "  background-color: #41a066;\n",
       "  color: #f1f1f1;\n",
       "}\n",
       "#T_85c62_row6_col1 {\n",
       "  background-color: #3f9f66;\n",
       "  color: #f1f1f1;\n",
       "}\n",
       "#T_85c62_row7_col1 {\n",
       "  background-color: #aad466;\n",
       "  color: #000000;\n",
       "}\n",
       "</style>\n",
       "<table id=\"T_85c62\">\n",
       "  <thead>\n",
       "    <tr>\n",
       "      <th class=\"index_name level0\" >threat_level</th>\n",
       "      <th id=\"T_85c62_level0_col0\" class=\"col_heading level0 col0\" >attack</th>\n",
       "      <th id=\"T_85c62_level0_col1\" class=\"col_heading level0 col1\" >other</th>\n",
       "      <th id=\"T_85c62_level0_col2\" class=\"col_heading level0 col2\" >undetermined</th>\n",
       "    </tr>\n",
       "    <tr>\n",
       "      <th class=\"index_name level0\" >year</th>\n",
       "      <th class=\"blank col0\" >&nbsp;</th>\n",
       "      <th class=\"blank col1\" >&nbsp;</th>\n",
       "      <th class=\"blank col2\" >&nbsp;</th>\n",
       "    </tr>\n",
       "  </thead>\n",
       "  <tbody>\n",
       "    <tr>\n",
       "      <th id=\"T_85c62_level0_row0\" class=\"row_heading level0 row0\" >2015</th>\n",
       "      <td id=\"T_85c62_row0_col0\" class=\"data row0 col0\" >732</td>\n",
       "      <td id=\"T_85c62_row0_col1\" class=\"data row0 col1\" >228</td>\n",
       "      <td id=\"T_85c62_row0_col2\" class=\"data row0 col2\" >34</td>\n",
       "    </tr>\n",
       "    <tr>\n",
       "      <th id=\"T_85c62_level0_row1\" class=\"row_heading level0 row1\" >2016</th>\n",
       "      <td id=\"T_85c62_row1_col0\" class=\"data row1 col0\" >548</td>\n",
       "      <td id=\"T_85c62_row1_col1\" class=\"data row1 col1\" >384</td>\n",
       "      <td id=\"T_85c62_row1_col2\" class=\"data row1 col2\" >26</td>\n",
       "    </tr>\n",
       "    <tr>\n",
       "      <th id=\"T_85c62_level0_row2\" class=\"row_heading level0 row2\" >2017</th>\n",
       "      <td id=\"T_85c62_row2_col0\" class=\"data row2 col0\" >593</td>\n",
       "      <td id=\"T_85c62_row2_col1\" class=\"data row2 col1\" >367</td>\n",
       "      <td id=\"T_85c62_row2_col2\" class=\"data row2 col2\" >20</td>\n",
       "    </tr>\n",
       "    <tr>\n",
       "      <th id=\"T_85c62_level0_row3\" class=\"row_heading level0 row3\" >2018</th>\n",
       "      <td id=\"T_85c62_row3_col0\" class=\"data row3 col0\" >613</td>\n",
       "      <td id=\"T_85c62_row3_col1\" class=\"data row3 col1\" >365</td>\n",
       "      <td id=\"T_85c62_row3_col2\" class=\"data row3 col2\" >15</td>\n",
       "    </tr>\n",
       "    <tr>\n",
       "      <th id=\"T_85c62_level0_row4\" class=\"row_heading level0 row4\" >2019</th>\n",
       "      <td id=\"T_85c62_row4_col0\" class=\"data row4 col0\" >689</td>\n",
       "      <td id=\"T_85c62_row4_col1\" class=\"data row4 col1\" >278</td>\n",
       "      <td id=\"T_85c62_row4_col2\" class=\"data row4 col2\" >32</td>\n",
       "    </tr>\n",
       "    <tr>\n",
       "      <th id=\"T_85c62_level0_row5\" class=\"row_heading level0 row5\" >2020</th>\n",
       "      <td id=\"T_85c62_row5_col0\" class=\"data row5 col0\" >685</td>\n",
       "      <td id=\"T_85c62_row5_col1\" class=\"data row5 col1\" >301</td>\n",
       "      <td id=\"T_85c62_row5_col2\" class=\"data row5 col2\" >34</td>\n",
       "    </tr>\n",
       "    <tr>\n",
       "      <th id=\"T_85c62_level0_row6\" class=\"row_heading level0 row6\" >2021</th>\n",
       "      <td id=\"T_85c62_row6_col0\" class=\"data row6 col0\" >638</td>\n",
       "      <td id=\"T_85c62_row6_col1\" class=\"data row6 col1\" >345</td>\n",
       "      <td id=\"T_85c62_row6_col2\" class=\"data row6 col2\" >68</td>\n",
       "    </tr>\n",
       "    <tr>\n",
       "      <th id=\"T_85c62_level0_row7\" class=\"row_heading level0 row7\" >2022</th>\n",
       "      <td id=\"T_85c62_row7_col0\" class=\"data row7 col0\" >366</td>\n",
       "      <td id=\"T_85c62_row7_col1\" class=\"data row7 col1\" >280</td>\n",
       "      <td id=\"T_85c62_row7_col2\" class=\"data row7 col2\" >68</td>\n",
       "    </tr>\n",
       "  </tbody>\n",
       "</table>\n"
      ],
      "text/plain": [
       "<pandas.io.formats.style.Styler at 0x2bc7a9938e0>"
      ]
     },
     "execution_count": 413,
     "metadata": {},
     "output_type": "execute_result"
    }
   ],
   "source": [
    "pd.crosstab(df['year'],df['threat_level']).style.background_gradient(cmap='summer_r')"
   ]
  },
  {
   "cell_type": "markdown",
   "id": "d9010784",
   "metadata": {},
   "source": [
    "Видно что количество преступлений зафиксированных на камеру растет, также видно что стало легче определять причину возникновения преступлений, параметр attack с камерой уменьшается и также уменьшается undetermined."
   ]
  },
  {
   "cell_type": "markdown",
   "id": "2fe863d8",
   "metadata": {},
   "source": [
    "# Расы"
   ]
  },
  {
   "cell_type": "code",
   "execution_count": 419,
   "id": "1345f754",
   "metadata": {},
   "outputs": [
    {
     "data": {
      "text/plain": [
       "1442"
      ]
     },
     "execution_count": 419,
     "metadata": {},
     "output_type": "execute_result"
    }
   ],
   "source": [
    "len(df[df['race'].isnull()])"
   ]
  },
  {
   "cell_type": "code",
   "execution_count": 420,
   "id": "d774736d",
   "metadata": {},
   "outputs": [
    {
     "data": {
      "text/plain": [
       "<AxesSubplot:>"
      ]
     },
     "execution_count": 420,
     "metadata": {},
     "output_type": "execute_result"
    },
    {
     "data": {
      "image/png": "[encoded data removed]",
      "text/plain": [
       "<Figure size 432x288 with 1 Axes>"
      ]
     },
     "metadata": {
      "needs_background": "light"
     },
     "output_type": "display_data"
    }
   ],
   "source": [
    "df['race'].value_counts().plot.bar()"
   ]
  },
  {
   "cell_type": "code",
   "execution_count": 421,
   "id": "8de865b5",
   "metadata": {},
   "outputs": [
    {
     "data": {
      "text/plain": [
       "<AxesSubplot:>"
      ]
     },
     "execution_count": 421,
     "metadata": {},
     "output_type": "execute_result"
    },
    {
     "data": {
      "image/png": "[encoded data removed]",
      "text/plain": [
       "<Figure size 432x288 with 1 Axes>"
      ]
     },
     "metadata": {
      "needs_background": "light"
     },
     "output_type": "display_data"
    }
   ],
   "source": [
    "df['race'][df['race'].isnull()] = '_'\n",
    "df['race'].value_counts().plot.bar()"
   ]
  },
  {
   "cell_type": "code",
   "execution_count": 422,
   "id": "ff34268c",
   "metadata": {},
   "outputs": [
    {
     "data": {
      "text/html": [
       "<style type=\"text/css\">\n",
       "#T_441eb_row0_col0, #T_441eb_row1_col0, #T_441eb_row3_col3, #T_441eb_row5_col0 {\n",
       "  background-color: #5aac66;\n",
       "  color: #f1f1f1;\n",
       "}\n",
       "#T_441eb_row0_col1, #T_441eb_row0_col4, #T_441eb_row0_col5, #T_441eb_row2_col2, #T_441eb_row2_col3, #T_441eb_row3_col0, #T_441eb_row6_col6 {\n",
       "  background-color: #008066;\n",
       "  color: #f1f1f1;\n",
       "}\n",
       "#T_441eb_row0_col2 {\n",
       "  background-color: #0b8566;\n",
       "  color: #f1f1f1;\n",
       "}\n",
       "#T_441eb_row0_col3, #T_441eb_row5_col3 {\n",
       "  background-color: #c3e166;\n",
       "  color: #000000;\n",
       "}\n",
       "#T_441eb_row0_col6, #T_441eb_row6_col0, #T_441eb_row6_col4, #T_441eb_row7_col1, #T_441eb_row7_col2, #T_441eb_row7_col3, #T_441eb_row7_col4, #T_441eb_row7_col5 {\n",
       "  background-color: #ffff66;\n",
       "  color: #000000;\n",
       "}\n",
       "#T_441eb_row1_col1, #T_441eb_row5_col5 {\n",
       "  background-color: #1d8e66;\n",
       "  color: #f1f1f1;\n",
       "}\n",
       "#T_441eb_row1_col2 {\n",
       "  background-color: #1f8f66;\n",
       "  color: #f1f1f1;\n",
       "}\n",
       "#T_441eb_row1_col3, #T_441eb_row2_col0 {\n",
       "  background-color: #4ba566;\n",
       "  color: #f1f1f1;\n",
       "}\n",
       "#T_441eb_row1_col4 {\n",
       "  background-color: #369b66;\n",
       "  color: #f1f1f1;\n",
       "}\n",
       "#T_441eb_row1_col5 {\n",
       "  background-color: #198c66;\n",
       "  color: #f1f1f1;\n",
       "}\n",
       "#T_441eb_row1_col6 {\n",
       "  background-color: #eff766;\n",
       "  color: #000000;\n",
       "}\n",
       "#T_441eb_row2_col1 {\n",
       "  background-color: #319866;\n",
       "  color: #f1f1f1;\n",
       "}\n",
       "#T_441eb_row2_col4 {\n",
       "  background-color: #92c866;\n",
       "  color: #000000;\n",
       "}\n",
       "#T_441eb_row2_col5 {\n",
       "  background-color: #1e8e66;\n",
       "  color: #f1f1f1;\n",
       "}\n",
       "#T_441eb_row2_col6 {\n",
       "  background-color: #e2f066;\n",
       "  color: #000000;\n",
       "}\n",
       "#T_441eb_row3_col1 {\n",
       "  background-color: #289366;\n",
       "  color: #f1f1f1;\n",
       "}\n",
       "#T_441eb_row3_col2 {\n",
       "  background-color: #128866;\n",
       "  color: #f1f1f1;\n",
       "}\n",
       "#T_441eb_row3_col4 {\n",
       "  background-color: #b6db66;\n",
       "  color: #000000;\n",
       "}\n",
       "#T_441eb_row3_col5 {\n",
       "  background-color: #1b8d66;\n",
       "  color: #f1f1f1;\n",
       "}\n",
       "#T_441eb_row3_col6 {\n",
       "  background-color: #d8ec66;\n",
       "  color: #000000;\n",
       "}\n",
       "#T_441eb_row4_col0, #T_441eb_row5_col2 {\n",
       "  background-color: #0f8766;\n",
       "  color: #f1f1f1;\n",
       "}\n",
       "#T_441eb_row4_col1 {\n",
       "  background-color: #098466;\n",
       "  color: #f1f1f1;\n",
       "}\n",
       "#T_441eb_row4_col2, #T_441eb_row5_col1 {\n",
       "  background-color: #148a66;\n",
       "  color: #f1f1f1;\n",
       "}\n",
       "#T_441eb_row4_col3 {\n",
       "  background-color: #87c366;\n",
       "  color: #000000;\n",
       "}\n",
       "#T_441eb_row4_col4 {\n",
       "  background-color: #5bad66;\n",
       "  color: #f1f1f1;\n",
       "}\n",
       "#T_441eb_row4_col5 {\n",
       "  background-color: #359a66;\n",
       "  color: #f1f1f1;\n",
       "}\n",
       "#T_441eb_row4_col6 {\n",
       "  background-color: #cde666;\n",
       "  color: #000000;\n",
       "}\n",
       "#T_441eb_row5_col4 {\n",
       "  background-color: #c9e466;\n",
       "  color: #000000;\n",
       "}\n",
       "#T_441eb_row5_col6 {\n",
       "  background-color: #cae466;\n",
       "  color: #000000;\n",
       "}\n",
       "#T_441eb_row6_col1 {\n",
       "  background-color: #6eb666;\n",
       "  color: #f1f1f1;\n",
       "}\n",
       "#T_441eb_row6_col2 {\n",
       "  background-color: #abd566;\n",
       "  color: #000000;\n",
       "}\n",
       "#T_441eb_row6_col3 {\n",
       "  background-color: #f0f866;\n",
       "  color: #000000;\n",
       "}\n",
       "#T_441eb_row6_col5 {\n",
       "  background-color: #88c366;\n",
       "  color: #000000;\n",
       "}\n",
       "#T_441eb_row7_col0 {\n",
       "  background-color: #d2e866;\n",
       "  color: #000000;\n",
       "}\n",
       "#T_441eb_row7_col6 {\n",
       "  background-color: #038166;\n",
       "  color: #f1f1f1;\n",
       "}\n",
       "</style>\n",
       "<table id=\"T_441eb\">\n",
       "  <thead>\n",
       "    <tr>\n",
       "      <th class=\"index_name level0\" >race</th>\n",
       "      <th id=\"T_441eb_level0_col0\" class=\"col_heading level0 col0\" >A</th>\n",
       "      <th id=\"T_441eb_level0_col1\" class=\"col_heading level0 col1\" >B</th>\n",
       "      <th id=\"T_441eb_level0_col2\" class=\"col_heading level0 col2\" >H</th>\n",
       "      <th id=\"T_441eb_level0_col3\" class=\"col_heading level0 col3\" >N</th>\n",
       "      <th id=\"T_441eb_level0_col4\" class=\"col_heading level0 col4\" >O</th>\n",
       "      <th id=\"T_441eb_level0_col5\" class=\"col_heading level0 col5\" >W</th>\n",
       "      <th id=\"T_441eb_level0_col6\" class=\"col_heading level0 col6\" >_</th>\n",
       "    </tr>\n",
       "    <tr>\n",
       "      <th class=\"index_name level0\" >year</th>\n",
       "      <th class=\"blank col0\" >&nbsp;</th>\n",
       "      <th class=\"blank col1\" >&nbsp;</th>\n",
       "      <th class=\"blank col2\" >&nbsp;</th>\n",
       "      <th class=\"blank col3\" >&nbsp;</th>\n",
       "      <th class=\"blank col4\" >&nbsp;</th>\n",
       "      <th class=\"blank col5\" >&nbsp;</th>\n",
       "      <th class=\"blank col6\" >&nbsp;</th>\n",
       "    </tr>\n",
       "  </thead>\n",
       "  <tbody>\n",
       "    <tr>\n",
       "      <th id=\"T_441eb_level0_row0\" class=\"row_heading level0 row0\" >2015</th>\n",
       "      <td id=\"T_441eb_row0_col0\" class=\"data row0 col0\" >15</td>\n",
       "      <td id=\"T_441eb_row0_col1\" class=\"data row0 col1\" >258</td>\n",
       "      <td id=\"T_441eb_row0_col2\" class=\"data row0 col2\" >173</td>\n",
       "      <td id=\"T_441eb_row0_col3\" class=\"data row0 col3\" >9</td>\n",
       "      <td id=\"T_441eb_row0_col4\" class=\"data row0 col4\" >14</td>\n",
       "      <td id=\"T_441eb_row0_col5\" class=\"data row0 col5\" >502</td>\n",
       "      <td id=\"T_441eb_row0_col6\" class=\"data row0 col6\" >23</td>\n",
       "    </tr>\n",
       "    <tr>\n",
       "      <th id=\"T_441eb_level0_row1\" class=\"row_heading level0 row1\" >2016</th>\n",
       "      <td id=\"T_441eb_row1_col0\" class=\"data row1 col0\" >15</td>\n",
       "      <td id=\"T_441eb_row1_col1\" class=\"data row1 col1\" >236</td>\n",
       "      <td id=\"T_441eb_row1_col2\" class=\"data row1 col2\" >161</td>\n",
       "      <td id=\"T_441eb_row1_col3\" class=\"data row1 col3\" >17</td>\n",
       "      <td id=\"T_441eb_row1_col4\" class=\"data row1 col4\" >11</td>\n",
       "      <td id=\"T_441eb_row1_col5\" class=\"data row1 col5\" >465</td>\n",
       "      <td id=\"T_441eb_row1_col6\" class=\"data row1 col6\" >53</td>\n",
       "    </tr>\n",
       "    <tr>\n",
       "      <th id=\"T_441eb_level0_row2\" class=\"row_heading level0 row2\" >2017</th>\n",
       "      <td id=\"T_441eb_row2_col0\" class=\"data row2 col0\" >16</td>\n",
       "      <td id=\"T_441eb_row2_col1\" class=\"data row2 col1\" >222</td>\n",
       "      <td id=\"T_441eb_row2_col2\" class=\"data row2 col2\" >180</td>\n",
       "      <td id=\"T_441eb_row2_col3\" class=\"data row2 col3\" >22</td>\n",
       "      <td id=\"T_441eb_row2_col4\" class=\"data row2 col4\" >6</td>\n",
       "      <td id=\"T_441eb_row2_col5\" class=\"data row2 col5\" >457</td>\n",
       "      <td id=\"T_441eb_row2_col6\" class=\"data row2 col6\" >77</td>\n",
       "    </tr>\n",
       "    <tr>\n",
       "      <th id=\"T_441eb_level0_row3\" class=\"row_heading level0 row3\" >2018</th>\n",
       "      <td id=\"T_441eb_row3_col0\" class=\"data row3 col0\" >21</td>\n",
       "      <td id=\"T_441eb_row3_col1\" class=\"data row3 col1\" >228</td>\n",
       "      <td id=\"T_441eb_row3_col2\" class=\"data row3 col2\" >169</td>\n",
       "      <td id=\"T_441eb_row3_col3\" class=\"data row3 col3\" >16</td>\n",
       "      <td id=\"T_441eb_row3_col4\" class=\"data row3 col4\" >4</td>\n",
       "      <td id=\"T_441eb_row3_col5\" class=\"data row3 col5\" >461</td>\n",
       "      <td id=\"T_441eb_row3_col6\" class=\"data row3 col6\" >94</td>\n",
       "    </tr>\n",
       "    <tr>\n",
       "      <th id=\"T_441eb_level0_row4\" class=\"row_heading level0 row4\" >2019</th>\n",
       "      <td id=\"T_441eb_row4_col0\" class=\"data row4 col0\" >20</td>\n",
       "      <td id=\"T_441eb_row4_col1\" class=\"data row4 col1\" >251</td>\n",
       "      <td id=\"T_441eb_row4_col2\" class=\"data row4 col2\" >168</td>\n",
       "      <td id=\"T_441eb_row4_col3\" class=\"data row4 col3\" >13</td>\n",
       "      <td id=\"T_441eb_row4_col4\" class=\"data row4 col4\" >9</td>\n",
       "      <td id=\"T_441eb_row4_col5\" class=\"data row4 col5\" >424</td>\n",
       "      <td id=\"T_441eb_row4_col6\" class=\"data row4 col6\" >114</td>\n",
       "    </tr>\n",
       "    <tr>\n",
       "      <th id=\"T_441eb_level0_row5\" class=\"row_heading level0 row5\" >2020</th>\n",
       "      <td id=\"T_441eb_row5_col0\" class=\"data row5 col0\" >15</td>\n",
       "      <td id=\"T_441eb_row5_col1\" class=\"data row5 col1\" >243</td>\n",
       "      <td id=\"T_441eb_row5_col2\" class=\"data row5 col2\" >171</td>\n",
       "      <td id=\"T_441eb_row5_col3\" class=\"data row5 col3\" >9</td>\n",
       "      <td id=\"T_441eb_row5_col4\" class=\"data row5 col4\" >3</td>\n",
       "      <td id=\"T_441eb_row5_col5\" class=\"data row5 col5\" >459</td>\n",
       "      <td id=\"T_441eb_row5_col6\" class=\"data row5 col6\" >120</td>\n",
       "    </tr>\n",
       "    <tr>\n",
       "      <th id=\"T_441eb_level0_row6\" class=\"row_heading level0 row6\" >2021</th>\n",
       "      <td id=\"T_441eb_row6_col0\" class=\"data row6 col0\" >4</td>\n",
       "      <td id=\"T_441eb_row6_col1\" class=\"data row6 col1\" >177</td>\n",
       "      <td id=\"T_441eb_row6_col2\" class=\"data row6 col2\" >78</td>\n",
       "      <td id=\"T_441eb_row6_col3\" class=\"data row6 col3\" >6</td>\n",
       "      <td id=\"T_441eb_row6_col4\" class=\"data row6 col4\" >0</td>\n",
       "      <td id=\"T_441eb_row6_col5\" class=\"data row6 col5\" >302</td>\n",
       "      <td id=\"T_441eb_row6_col6\" class=\"data row6 col6\" >484</td>\n",
       "    </tr>\n",
       "    <tr>\n",
       "      <th id=\"T_441eb_level0_row7\" class=\"row_heading level0 row7\" >2022</th>\n",
       "      <td id=\"T_441eb_row7_col0\" class=\"data row7 col0\" >7</td>\n",
       "      <td id=\"T_441eb_row7_col1\" class=\"data row7 col1\" >70</td>\n",
       "      <td id=\"T_441eb_row7_col2\" class=\"data row7 col2\" >28</td>\n",
       "      <td id=\"T_441eb_row7_col3\" class=\"data row7 col3\" >5</td>\n",
       "      <td id=\"T_441eb_row7_col4\" class=\"data row7 col4\" >0</td>\n",
       "      <td id=\"T_441eb_row7_col5\" class=\"data row7 col5\" >127</td>\n",
       "      <td id=\"T_441eb_row7_col6\" class=\"data row7 col6\" >477</td>\n",
       "    </tr>\n",
       "  </tbody>\n",
       "</table>\n"
      ],
      "text/plain": [
       "<pandas.io.formats.style.Styler at 0x2bc7765a130>"
      ]
     },
     "execution_count": 422,
     "metadata": {},
     "output_type": "execute_result"
    }
   ],
   "source": [
    "pd.crosstab(df['year'],df['race']).style.background_gradient(cmap='summer_r')"
   ]
  },
  {
   "cell_type": "markdown",
   "id": "4e7b55f6",
   "metadata": {},
   "source": [
    "Как понимаю в США, в документах заполнение графы race не обязательная и если она не заполнена то ее не пишут и видно что с каждым годом людей не знающих или не желающих заполнять эту графу становится больше."
   ]
  },
  {
   "cell_type": "markdown",
   "id": "476edc20",
   "metadata": {},
   "source": [
    "# Точные геокодирование"
   ]
  },
  {
   "cell_type": "code",
   "execution_count": 424,
   "id": "305ed153",
   "metadata": {},
   "outputs": [
    {
     "data": {
      "text/plain": [
       "True     7691\n",
       "False      18\n",
       "Name: is_geocoding_exact, dtype: int64"
      ]
     },
     "execution_count": 424,
     "metadata": {},
     "output_type": "execute_result"
    }
   ],
   "source": [
    "df['is_geocoding_exact'].value_counts()"
   ]
  },
  {
   "cell_type": "code",
   "execution_count": 425,
   "id": "d3db4a70",
   "metadata": {},
   "outputs": [
    {
     "name": "stdout",
     "output_type": "stream",
     "text": [
      "7709\n"
     ]
    },
    {
     "data": {
      "text/plain": [
       "armed                        0\n",
       "age                          0\n",
       "race                         0\n",
       "city                         0\n",
       "state                        0\n",
       "signs_of_mental_illness      0\n",
       "threat_level                 0\n",
       "flee                         0\n",
       "body_camera                  0\n",
       "longitude                  833\n",
       "latitude                   833\n",
       "is_geocoding_exact           0\n",
       "week                         0\n",
       "year                         0\n",
       "month                        0\n",
       "dtype: int64"
      ]
     },
     "execution_count": 425,
     "metadata": {},
     "output_type": "execute_result"
    }
   ],
   "source": [
    "print(len(df))\n",
    "df.isnull().sum()"
   ]
  },
  {
   "cell_type": "markdown",
   "id": "9a0337d3",
   "metadata": {},
   "source": [
    "Исходя из того что longitude и latitude в 833 случаях являются пустыми, но при это is_geocoding_exact говорится что их показания в 7691 из 7709 являются истинными. Исходя из этого, как минимум 10% утверждений являются ложными. И верить им нельзя."
   ]
  },
  {
   "cell_type": "code",
   "execution_count": 455,
   "id": "caf737cc",
   "metadata": {
    "scrolled": true
   },
   "outputs": [
    {
     "ename": "KeyError",
     "evalue": "\"['longitude', 'latitude', 'is_geocoding_exact'] not found in axis\"",
     "output_type": "error",
     "traceback": [
      "\u001b[1;31m---------------------------------------------------------------------------\u001b[0m",
      "\u001b[1;31mKeyError\u001b[0m                                  Traceback (most recent call last)",
      "Input \u001b[1;32mIn [455]\u001b[0m, in \u001b[0;36m<cell line: 1>\u001b[1;34m()\u001b[0m\n\u001b[1;32m----> 1\u001b[0m df \u001b[38;5;241m=\u001b[39m \u001b[43mdf\u001b[49m\u001b[38;5;241;43m.\u001b[39;49m\u001b[43mdrop\u001b[49m\u001b[43m(\u001b[49m\u001b[43mcolumns\u001b[49m\u001b[38;5;241;43m=\u001b[39;49m\u001b[43m[\u001b[49m\u001b[38;5;124;43m'\u001b[39;49m\u001b[38;5;124;43mlongitude\u001b[39;49m\u001b[38;5;124;43m'\u001b[39;49m\u001b[43m,\u001b[49m\u001b[38;5;124;43m'\u001b[39;49m\u001b[38;5;124;43mlatitude\u001b[39;49m\u001b[38;5;124;43m'\u001b[39;49m\u001b[43m,\u001b[49m\u001b[38;5;124;43m'\u001b[39;49m\u001b[38;5;124;43mis_geocoding_exact\u001b[39;49m\u001b[38;5;124;43m'\u001b[39;49m\u001b[43m]\u001b[49m\u001b[43m)\u001b[49m\n",
      "File \u001b[1;32m~\\anaconda3\\lib\\site-packages\\pandas\\util\\_decorators.py:311\u001b[0m, in \u001b[0;36mdeprecate_nonkeyword_arguments.<locals>.decorate.<locals>.wrapper\u001b[1;34m(*args, **kwargs)\u001b[0m\n\u001b[0;32m    305\u001b[0m \u001b[38;5;28;01mif\u001b[39;00m \u001b[38;5;28mlen\u001b[39m(args) \u001b[38;5;241m>\u001b[39m num_allow_args:\n\u001b[0;32m    306\u001b[0m     warnings\u001b[38;5;241m.\u001b[39mwarn(\n\u001b[0;32m    307\u001b[0m         msg\u001b[38;5;241m.\u001b[39mformat(arguments\u001b[38;5;241m=\u001b[39marguments),\n\u001b[0;32m    308\u001b[0m         \u001b[38;5;167;01mFutureWarning\u001b[39;00m,\n\u001b[0;32m    309\u001b[0m         stacklevel\u001b[38;5;241m=\u001b[39mstacklevel,\n\u001b[0;32m    310\u001b[0m     )\n\u001b[1;32m--> 311\u001b[0m \u001b[38;5;28;01mreturn\u001b[39;00m func(\u001b[38;5;241m*\u001b[39margs, \u001b[38;5;241m*\u001b[39m\u001b[38;5;241m*\u001b[39mkwargs)\n",
      "File \u001b[1;32m~\\anaconda3\\lib\\site-packages\\pandas\\core\\frame.py:4954\u001b[0m, in \u001b[0;36mDataFrame.drop\u001b[1;34m(self, labels, axis, index, columns, level, inplace, errors)\u001b[0m\n\u001b[0;32m   4806\u001b[0m \u001b[38;5;129m@deprecate_nonkeyword_arguments\u001b[39m(version\u001b[38;5;241m=\u001b[39m\u001b[38;5;28;01mNone\u001b[39;00m, allowed_args\u001b[38;5;241m=\u001b[39m[\u001b[38;5;124m\"\u001b[39m\u001b[38;5;124mself\u001b[39m\u001b[38;5;124m\"\u001b[39m, \u001b[38;5;124m\"\u001b[39m\u001b[38;5;124mlabels\u001b[39m\u001b[38;5;124m\"\u001b[39m])\n\u001b[0;32m   4807\u001b[0m \u001b[38;5;28;01mdef\u001b[39;00m \u001b[38;5;21mdrop\u001b[39m(\n\u001b[0;32m   4808\u001b[0m     \u001b[38;5;28mself\u001b[39m,\n\u001b[1;32m   (...)\u001b[0m\n\u001b[0;32m   4815\u001b[0m     errors: \u001b[38;5;28mstr\u001b[39m \u001b[38;5;241m=\u001b[39m \u001b[38;5;124m\"\u001b[39m\u001b[38;5;124mraise\u001b[39m\u001b[38;5;124m\"\u001b[39m,\n\u001b[0;32m   4816\u001b[0m ):\n\u001b[0;32m   4817\u001b[0m     \u001b[38;5;124;03m\"\"\"\u001b[39;00m\n\u001b[0;32m   4818\u001b[0m \u001b[38;5;124;03m    Drop specified labels from rows or columns.\u001b[39;00m\n\u001b[0;32m   4819\u001b[0m \n\u001b[1;32m   (...)\u001b[0m\n\u001b[0;32m   4952\u001b[0m \u001b[38;5;124;03m            weight  1.0     0.8\u001b[39;00m\n\u001b[0;32m   4953\u001b[0m \u001b[38;5;124;03m    \"\"\"\u001b[39;00m\n\u001b[1;32m-> 4954\u001b[0m     \u001b[38;5;28;01mreturn\u001b[39;00m \u001b[38;5;28;43msuper\u001b[39;49m\u001b[43m(\u001b[49m\u001b[43m)\u001b[49m\u001b[38;5;241;43m.\u001b[39;49m\u001b[43mdrop\u001b[49m\u001b[43m(\u001b[49m\n\u001b[0;32m   4955\u001b[0m \u001b[43m        \u001b[49m\u001b[43mlabels\u001b[49m\u001b[38;5;241;43m=\u001b[39;49m\u001b[43mlabels\u001b[49m\u001b[43m,\u001b[49m\n\u001b[0;32m   4956\u001b[0m \u001b[43m        \u001b[49m\u001b[43maxis\u001b[49m\u001b[38;5;241;43m=\u001b[39;49m\u001b[43maxis\u001b[49m\u001b[43m,\u001b[49m\n\u001b[0;32m   4957\u001b[0m \u001b[43m        \u001b[49m\u001b[43mindex\u001b[49m\u001b[38;5;241;43m=\u001b[39;49m\u001b[43mindex\u001b[49m\u001b[43m,\u001b[49m\n\u001b[0;32m   4958\u001b[0m \u001b[43m        \u001b[49m\u001b[43mcolumns\u001b[49m\u001b[38;5;241;43m=\u001b[39;49m\u001b[43mcolumns\u001b[49m\u001b[43m,\u001b[49m\n\u001b[0;32m   4959\u001b[0m \u001b[43m        \u001b[49m\u001b[43mlevel\u001b[49m\u001b[38;5;241;43m=\u001b[39;49m\u001b[43mlevel\u001b[49m\u001b[43m,\u001b[49m\n\u001b[0;32m   4960\u001b[0m \u001b[43m        \u001b[49m\u001b[43minplace\u001b[49m\u001b[38;5;241;43m=\u001b[39;49m\u001b[43minplace\u001b[49m\u001b[43m,\u001b[49m\n\u001b[0;32m   4961\u001b[0m \u001b[43m        \u001b[49m\u001b[43merrors\u001b[49m\u001b[38;5;241;43m=\u001b[39;49m\u001b[43merrors\u001b[49m\u001b[43m,\u001b[49m\n\u001b[0;32m   4962\u001b[0m \u001b[43m    \u001b[49m\u001b[43m)\u001b[49m\n",
      "File \u001b[1;32m~\\anaconda3\\lib\\site-packages\\pandas\\core\\generic.py:4267\u001b[0m, in \u001b[0;36mNDFrame.drop\u001b[1;34m(self, labels, axis, index, columns, level, inplace, errors)\u001b[0m\n\u001b[0;32m   4265\u001b[0m \u001b[38;5;28;01mfor\u001b[39;00m axis, labels \u001b[38;5;129;01min\u001b[39;00m axes\u001b[38;5;241m.\u001b[39mitems():\n\u001b[0;32m   4266\u001b[0m     \u001b[38;5;28;01mif\u001b[39;00m labels \u001b[38;5;129;01mis\u001b[39;00m \u001b[38;5;129;01mnot\u001b[39;00m \u001b[38;5;28;01mNone\u001b[39;00m:\n\u001b[1;32m-> 4267\u001b[0m         obj \u001b[38;5;241m=\u001b[39m \u001b[43mobj\u001b[49m\u001b[38;5;241;43m.\u001b[39;49m\u001b[43m_drop_axis\u001b[49m\u001b[43m(\u001b[49m\u001b[43mlabels\u001b[49m\u001b[43m,\u001b[49m\u001b[43m \u001b[49m\u001b[43maxis\u001b[49m\u001b[43m,\u001b[49m\u001b[43m \u001b[49m\u001b[43mlevel\u001b[49m\u001b[38;5;241;43m=\u001b[39;49m\u001b[43mlevel\u001b[49m\u001b[43m,\u001b[49m\u001b[43m \u001b[49m\u001b[43merrors\u001b[49m\u001b[38;5;241;43m=\u001b[39;49m\u001b[43merrors\u001b[49m\u001b[43m)\u001b[49m\n\u001b[0;32m   4269\u001b[0m \u001b[38;5;28;01mif\u001b[39;00m inplace:\n\u001b[0;32m   4270\u001b[0m     \u001b[38;5;28mself\u001b[39m\u001b[38;5;241m.\u001b[39m_update_inplace(obj)\n",
      "File \u001b[1;32m~\\anaconda3\\lib\\site-packages\\pandas\\core\\generic.py:4311\u001b[0m, in \u001b[0;36mNDFrame._drop_axis\u001b[1;34m(self, labels, axis, level, errors, consolidate, only_slice)\u001b[0m\n\u001b[0;32m   4309\u001b[0m         new_axis \u001b[38;5;241m=\u001b[39m axis\u001b[38;5;241m.\u001b[39mdrop(labels, level\u001b[38;5;241m=\u001b[39mlevel, errors\u001b[38;5;241m=\u001b[39merrors)\n\u001b[0;32m   4310\u001b[0m     \u001b[38;5;28;01melse\u001b[39;00m:\n\u001b[1;32m-> 4311\u001b[0m         new_axis \u001b[38;5;241m=\u001b[39m \u001b[43maxis\u001b[49m\u001b[38;5;241;43m.\u001b[39;49m\u001b[43mdrop\u001b[49m\u001b[43m(\u001b[49m\u001b[43mlabels\u001b[49m\u001b[43m,\u001b[49m\u001b[43m \u001b[49m\u001b[43merrors\u001b[49m\u001b[38;5;241;43m=\u001b[39;49m\u001b[43merrors\u001b[49m\u001b[43m)\u001b[49m\n\u001b[0;32m   4312\u001b[0m     indexer \u001b[38;5;241m=\u001b[39m axis\u001b[38;5;241m.\u001b[39mget_indexer(new_axis)\n\u001b[0;32m   4314\u001b[0m \u001b[38;5;66;03m# Case for non-unique axis\u001b[39;00m\n\u001b[0;32m   4315\u001b[0m \u001b[38;5;28;01melse\u001b[39;00m:\n",
      "File \u001b[1;32m~\\anaconda3\\lib\\site-packages\\pandas\\core\\indexes\\base.py:6644\u001b[0m, in \u001b[0;36mIndex.drop\u001b[1;34m(self, labels, errors)\u001b[0m\n\u001b[0;32m   6642\u001b[0m \u001b[38;5;28;01mif\u001b[39;00m mask\u001b[38;5;241m.\u001b[39many():\n\u001b[0;32m   6643\u001b[0m     \u001b[38;5;28;01mif\u001b[39;00m errors \u001b[38;5;241m!=\u001b[39m \u001b[38;5;124m\"\u001b[39m\u001b[38;5;124mignore\u001b[39m\u001b[38;5;124m\"\u001b[39m:\n\u001b[1;32m-> 6644\u001b[0m         \u001b[38;5;28;01mraise\u001b[39;00m \u001b[38;5;167;01mKeyError\u001b[39;00m(\u001b[38;5;124mf\u001b[39m\u001b[38;5;124m\"\u001b[39m\u001b[38;5;132;01m{\u001b[39;00m\u001b[38;5;28mlist\u001b[39m(labels[mask])\u001b[38;5;132;01m}\u001b[39;00m\u001b[38;5;124m not found in axis\u001b[39m\u001b[38;5;124m\"\u001b[39m)\n\u001b[0;32m   6645\u001b[0m     indexer \u001b[38;5;241m=\u001b[39m indexer[\u001b[38;5;241m~\u001b[39mmask]\n\u001b[0;32m   6646\u001b[0m \u001b[38;5;28;01mreturn\u001b[39;00m \u001b[38;5;28mself\u001b[39m\u001b[38;5;241m.\u001b[39mdelete(indexer)\n",
      "\u001b[1;31mKeyError\u001b[0m: \"['longitude', 'latitude', 'is_geocoding_exact'] not found in axis\""
     ]
    }
   ],
   "source": [
    "df = df.drop(columns=['longitude','latitude','is_geocoding_exact'])"
   ]
  },
  {
   "cell_type": "markdown",
   "id": "5d6222a4",
   "metadata": {},
   "source": [
    "# Признаки психологического забеливания"
   ]
  },
  {
   "cell_type": "code",
   "execution_count": 448,
   "id": "4827f7b7",
   "metadata": {},
   "outputs": [
    {
     "data": {
      "text/plain": [
       "<AxesSubplot:>"
      ]
     },
     "execution_count": 448,
     "metadata": {},
     "output_type": "execute_result"
    },
    {
     "data": {
      "image/png": "[encoded data removed]",
      "text/plain": [
       "<Figure size 432x288 with 1 Axes>"
      ]
     },
     "metadata": {
      "needs_background": "light"
     },
     "output_type": "display_data"
    }
   ],
   "source": [
    "df['signs_of_mental_illness'].value_counts().plot.bar()"
   ]
  },
  {
   "cell_type": "code",
   "execution_count": 454,
   "id": "cb1b70ec",
   "metadata": {},
   "outputs": [
    {
     "data": {
      "text/html": [
       "<style type=\"text/css\">\n",
       "#T_11bff_row0_col1 {\n",
       "  background-color: #008066;\n",
       "  color: #f1f1f1;\n",
       "}\n",
       "#T_11bff_row1_col1 {\n",
       "  background-color: #128866;\n",
       "  color: #f1f1f1;\n",
       "}\n",
       "#T_11bff_row2_col1 {\n",
       "  background-color: #229066;\n",
       "  color: #f1f1f1;\n",
       "}\n",
       "#T_11bff_row3_col1 {\n",
       "  background-color: #3b9d66;\n",
       "  color: #f1f1f1;\n",
       "}\n",
       "#T_11bff_row4_col1 {\n",
       "  background-color: #42a066;\n",
       "  color: #f1f1f1;\n",
       "}\n",
       "#T_11bff_row5_col1 {\n",
       "  background-color: #3e9e66;\n",
       "  color: #f1f1f1;\n",
       "}\n",
       "#T_11bff_row6_col1 {\n",
       "  background-color: #abd566;\n",
       "  color: #000000;\n",
       "}\n",
       "#T_11bff_row7_col1 {\n",
       "  background-color: #ffff66;\n",
       "  color: #000000;\n",
       "}\n",
       "</style>\n",
       "<table id=\"T_11bff\">\n",
       "  <thead>\n",
       "    <tr>\n",
       "      <th class=\"index_name level0\" >signs_of_mental_illness</th>\n",
       "      <th id=\"T_11bff_level0_col0\" class=\"col_heading level0 col0\" >False</th>\n",
       "      <th id=\"T_11bff_level0_col1\" class=\"col_heading level0 col1\" >True</th>\n",
       "    </tr>\n",
       "    <tr>\n",
       "      <th class=\"index_name level0\" >year</th>\n",
       "      <th class=\"blank col0\" >&nbsp;</th>\n",
       "      <th class=\"blank col1\" >&nbsp;</th>\n",
       "    </tr>\n",
       "  </thead>\n",
       "  <tbody>\n",
       "    <tr>\n",
       "      <th id=\"T_11bff_level0_row0\" class=\"row_heading level0 row0\" >2015</th>\n",
       "      <td id=\"T_11bff_row0_col0\" class=\"data row0 col0\" >734</td>\n",
       "      <td id=\"T_11bff_row0_col1\" class=\"data row0 col1\" >260</td>\n",
       "    </tr>\n",
       "    <tr>\n",
       "      <th id=\"T_11bff_level0_row1\" class=\"row_heading level0 row1\" >2016</th>\n",
       "      <td id=\"T_11bff_row1_col0\" class=\"data row1 col0\" >710</td>\n",
       "      <td id=\"T_11bff_row1_col1\" class=\"data row1 col1\" >248</td>\n",
       "    </tr>\n",
       "    <tr>\n",
       "      <th id=\"T_11bff_level0_row2\" class=\"row_heading level0 row2\" >2017</th>\n",
       "      <td id=\"T_11bff_row2_col0\" class=\"data row2 col0\" >743</td>\n",
       "      <td id=\"T_11bff_row2_col1\" class=\"data row2 col1\" >237</td>\n",
       "    </tr>\n",
       "    <tr>\n",
       "      <th id=\"T_11bff_level0_row3\" class=\"row_heading level0 row3\" >2018</th>\n",
       "      <td id=\"T_11bff_row3_col0\" class=\"data row3 col0\" >772</td>\n",
       "      <td id=\"T_11bff_row3_col1\" class=\"data row3 col1\" >221</td>\n",
       "    </tr>\n",
       "    <tr>\n",
       "      <th id=\"T_11bff_level0_row4\" class=\"row_heading level0 row4\" >2019</th>\n",
       "      <td id=\"T_11bff_row4_col0\" class=\"data row4 col0\" >783</td>\n",
       "      <td id=\"T_11bff_row4_col1\" class=\"data row4 col1\" >216</td>\n",
       "    </tr>\n",
       "    <tr>\n",
       "      <th id=\"T_11bff_level0_row5\" class=\"row_heading level0 row5\" >2020</th>\n",
       "      <td id=\"T_11bff_row5_col0\" class=\"data row5 col0\" >801</td>\n",
       "      <td id=\"T_11bff_row5_col1\" class=\"data row5 col1\" >219</td>\n",
       "    </tr>\n",
       "    <tr>\n",
       "      <th id=\"T_11bff_level0_row6\" class=\"row_heading level0 row6\" >2021</th>\n",
       "      <td id=\"T_11bff_row6_col0\" class=\"data row6 col0\" >904</td>\n",
       "      <td id=\"T_11bff_row6_col1\" class=\"data row6 col1\" >147</td>\n",
       "    </tr>\n",
       "    <tr>\n",
       "      <th id=\"T_11bff_level0_row7\" class=\"row_heading level0 row7\" >2022</th>\n",
       "      <td id=\"T_11bff_row7_col0\" class=\"data row7 col0\" >623</td>\n",
       "      <td id=\"T_11bff_row7_col1\" class=\"data row7 col1\" >91</td>\n",
       "    </tr>\n",
       "  </tbody>\n",
       "</table>\n"
      ],
      "text/plain": [
       "<pandas.io.formats.style.Styler at 0x2bc7c337f70>"
      ]
     },
     "execution_count": 454,
     "metadata": {},
     "output_type": "execute_result"
    }
   ],
   "source": [
    "pd.crosstab(df['year'],df['signs_of_mental_illness']).\\\n",
    "    style.background_gradient(cmap='summer_r')"
   ]
  },
  {
   "cell_type": "code",
   "execution_count": 459,
   "id": "b1ad22b5",
   "metadata": {},
   "outputs": [
    {
     "data": {
      "text/html": [
       "<style type=\"text/css\">\n",
       "#T_15abd_row0_col1 {\n",
       "  background-color: #fafc66;\n",
       "  color: #000000;\n",
       "}\n",
       "#T_15abd_row1_col1 {\n",
       "  background-color: #b9dc66;\n",
       "  color: #000000;\n",
       "}\n",
       "#T_15abd_row2_col1 {\n",
       "  background-color: #cbe566;\n",
       "  color: #000000;\n",
       "}\n",
       "#T_15abd_row3_col1 {\n",
       "  background-color: #fefe66;\n",
       "  color: #000000;\n",
       "}\n",
       "#T_15abd_row4_col1 {\n",
       "  background-color: #ffff66;\n",
       "  color: #000000;\n",
       "}\n",
       "#T_15abd_row5_col1 {\n",
       "  background-color: #008066;\n",
       "  color: #f1f1f1;\n",
       "}\n",
       "#T_15abd_row6_col1 {\n",
       "  background-color: #c0e066;\n",
       "  color: #000000;\n",
       "}\n",
       "</style>\n",
       "<table id=\"T_15abd\">\n",
       "  <thead>\n",
       "    <tr>\n",
       "      <th class=\"index_name level0\" >signs_of_mental_illness</th>\n",
       "      <th id=\"T_15abd_level0_col0\" class=\"col_heading level0 col0\" >False</th>\n",
       "      <th id=\"T_15abd_level0_col1\" class=\"col_heading level0 col1\" >True</th>\n",
       "    </tr>\n",
       "    <tr>\n",
       "      <th class=\"index_name level0\" >race</th>\n",
       "      <th class=\"blank col0\" >&nbsp;</th>\n",
       "      <th class=\"blank col1\" >&nbsp;</th>\n",
       "    </tr>\n",
       "  </thead>\n",
       "  <tbody>\n",
       "    <tr>\n",
       "      <th id=\"T_15abd_level0_row0\" class=\"row_heading level0 row0\" >A</th>\n",
       "      <td id=\"T_15abd_row0_col0\" class=\"data row0 col0\" >84</td>\n",
       "      <td id=\"T_15abd_row0_col1\" class=\"data row0 col1\" >29</td>\n",
       "    </tr>\n",
       "    <tr>\n",
       "      <th id=\"T_15abd_level0_row1\" class=\"row_heading level0 row1\" >B</th>\n",
       "      <td id=\"T_15abd_row1_col0\" class=\"data row1 col0\" >1429</td>\n",
       "      <td id=\"T_15abd_row1_col1\" class=\"data row1 col1\" >256</td>\n",
       "    </tr>\n",
       "    <tr>\n",
       "      <th id=\"T_15abd_level0_row2\" class=\"row_heading level0 row2\" >H</th>\n",
       "      <td id=\"T_15abd_row2_col0\" class=\"data row2 col0\" >936</td>\n",
       "      <td id=\"T_15abd_row2_col1\" class=\"data row2 col1\" >192</td>\n",
       "    </tr>\n",
       "    <tr>\n",
       "      <th id=\"T_15abd_level0_row3\" class=\"row_heading level0 row3\" >N</th>\n",
       "      <td id=\"T_15abd_row3_col0\" class=\"data row3 col0\" >81</td>\n",
       "      <td id=\"T_15abd_row3_col1\" class=\"data row3 col1\" >16</td>\n",
       "    </tr>\n",
       "    <tr>\n",
       "      <th id=\"T_15abd_level0_row4\" class=\"row_heading level0 row4\" >O</th>\n",
       "      <td id=\"T_15abd_row4_col0\" class=\"data row4 col0\" >37</td>\n",
       "      <td id=\"T_15abd_row4_col1\" class=\"data row4 col1\" >10</td>\n",
       "    </tr>\n",
       "    <tr>\n",
       "      <th id=\"T_15abd_level0_row5\" class=\"row_heading level0 row5\" >W</th>\n",
       "      <td id=\"T_15abd_row5_col0\" class=\"data row5 col0\" >2293</td>\n",
       "      <td id=\"T_15abd_row5_col1\" class=\"data row5 col1\" >904</td>\n",
       "    </tr>\n",
       "    <tr>\n",
       "      <th id=\"T_15abd_level0_row6\" class=\"row_heading level0 row6\" >_</th>\n",
       "      <td id=\"T_15abd_row6_col0\" class=\"data row6 col0\" >1210</td>\n",
       "      <td id=\"T_15abd_row6_col1\" class=\"data row6 col1\" >232</td>\n",
       "    </tr>\n",
       "  </tbody>\n",
       "</table>\n"
      ],
      "text/plain": [
       "<pandas.io.formats.style.Styler at 0x2bc7c3b0700>"
      ]
     },
     "execution_count": 459,
     "metadata": {},
     "output_type": "execute_result"
    }
   ],
   "source": [
    "pd.crosstab(df['race'],df['signs_of_mental_illness']).\\\n",
    "    style.background_gradient(cmap='summer_r')"
   ]
  },
  {
   "cell_type": "code",
   "execution_count": 458,
   "id": "90c02726",
   "metadata": {},
   "outputs": [
    {
     "data": {
      "text/html": [
       "<style type=\"text/css\">\n",
       "#T_83401_row0_col1 {\n",
       "  background-color: #008066;\n",
       "  color: #f1f1f1;\n",
       "}\n",
       "#T_83401_row1_col1 {\n",
       "  background-color: #6db666;\n",
       "  color: #f1f1f1;\n",
       "}\n",
       "#T_83401_row2_col1 {\n",
       "  background-color: #ffff66;\n",
       "  color: #000000;\n",
       "}\n",
       "</style>\n",
       "<table id=\"T_83401\">\n",
       "  <thead>\n",
       "    <tr>\n",
       "      <th class=\"index_name level0\" >signs_of_mental_illness</th>\n",
       "      <th id=\"T_83401_level0_col0\" class=\"col_heading level0 col0\" >False</th>\n",
       "      <th id=\"T_83401_level0_col1\" class=\"col_heading level0 col1\" >True</th>\n",
       "    </tr>\n",
       "    <tr>\n",
       "      <th class=\"index_name level0\" >threat_level</th>\n",
       "      <th class=\"blank col0\" >&nbsp;</th>\n",
       "      <th class=\"blank col1\" >&nbsp;</th>\n",
       "    </tr>\n",
       "  </thead>\n",
       "  <tbody>\n",
       "    <tr>\n",
       "      <th id=\"T_83401_level0_row0\" class=\"row_heading level0 row0\" >attack</th>\n",
       "      <td id=\"T_83401_row0_col0\" class=\"data row0 col0\" >3857</td>\n",
       "      <td id=\"T_83401_row0_col1\" class=\"data row0 col1\" >1007</td>\n",
       "    </tr>\n",
       "    <tr>\n",
       "      <th id=\"T_83401_level0_row1\" class=\"row_heading level0 row1\" >other</th>\n",
       "      <td id=\"T_83401_row1_col0\" class=\"data row1 col0\" >1955</td>\n",
       "      <td id=\"T_83401_row1_col1\" class=\"data row1 col1\" >593</td>\n",
       "    </tr>\n",
       "    <tr>\n",
       "      <th id=\"T_83401_level0_row2\" class=\"row_heading level0 row2\" >undetermined</th>\n",
       "      <td id=\"T_83401_row2_col0\" class=\"data row2 col0\" >258</td>\n",
       "      <td id=\"T_83401_row2_col1\" class=\"data row2 col1\" >39</td>\n",
       "    </tr>\n",
       "  </tbody>\n",
       "</table>\n"
      ],
      "text/plain": [
       "<pandas.io.formats.style.Styler at 0x2bc7c37c070>"
      ]
     },
     "execution_count": 458,
     "metadata": {},
     "output_type": "execute_result"
    }
   ],
   "source": [
    "pd.crosstab(df['threat_level'],df['signs_of_mental_illness']).\\\n",
    "    style.background_gradient(cmap='summer_r')"
   ]
  },
  {
   "cell_type": "code",
   "execution_count": 449,
   "id": "4fc8d65a",
   "metadata": {},
   "outputs": [
    {
     "name": "stdout",
     "output_type": "stream",
     "text": [
      "У людей с признаки психологического заболивания\n"
     ]
    },
    {
     "data": {
      "text/plain": [
       "<AxesSubplot:>"
      ]
     },
     "execution_count": 449,
     "metadata": {},
     "output_type": "execute_result"
    },
    {
     "data": {
      "image/png": "[encoded data removed]",
      "text/plain": [
       "<Figure size 432x288 with 1 Axes>"
      ]
     },
     "metadata": {
      "needs_background": "light"
     },
     "output_type": "display_data"
    }
   ],
   "source": [
    "print('У людей с признаки психологического забеливания')\n",
    "df['flee'][df['signs_of_mental_illness'] == True].value_counts().plot.bar()"
   ]
  },
  {
   "cell_type": "code",
   "execution_count": 450,
   "id": "9fa29653",
   "metadata": {},
   "outputs": [
    {
     "name": "stdout",
     "output_type": "stream",
     "text": [
      "У всех\n"
     ]
    },
    {
     "data": {
      "text/plain": [
       "<AxesSubplot:>"
      ]
     },
     "execution_count": 450,
     "metadata": {},
     "output_type": "execute_result"
    },
    {
     "data": {
      "image/png": "[encoded data removed]",
      "text/plain": [
       "<Figure size 432x288 with 1 Axes>"
      ]
     },
     "metadata": {
      "needs_background": "light"
     },
     "output_type": "display_data"
    }
   ],
   "source": [
    "print('У всех')\n",
    "df['flee'].value_counts().plot.bar()"
   ]
  },
  {
   "cell_type": "markdown",
   "id": "86534736",
   "metadata": {},
   "source": [
    "У людей с признаки психологического забеливания они не скрываются, преступления с их участием с каждым годом уменьшается, и чаще всего в атаке(attack в таблицу threat_level). Чаще всего преступления совершаютcя людьми расы 'W' с признаки психологического забеливаниями."
   ]
  },
  {
   "cell_type": "markdown",
   "id": "db977487",
   "metadata": {},
   "source": [
    "# Город"
   ]
  },
  {
   "cell_type": "code",
   "execution_count": 467,
   "id": "322ddb30",
   "metadata": {},
   "outputs": [
    {
     "data": {
      "text/plain": [
       "<AxesSubplot:>"
      ]
     },
     "execution_count": 467,
     "metadata": {},
     "output_type": "execute_result"
    },
    {
     "data": {
      "image/png": "[encoded data removed]",
      "text/plain": [
       "<Figure size 432x288 with 1 Axes>"
      ]
     },
     "metadata": {
      "needs_background": "light"
     },
     "output_type": "display_data"
    }
   ],
   "source": [
    "df['city'].value_counts().head(10).plot.bar()"
   ]
  },
  {
   "cell_type": "markdown",
   "id": "b51721f2",
   "metadata": {},
   "source": [
    "# Штат"
   ]
  },
  {
   "cell_type": "code",
   "execution_count": 465,
   "id": "da42d803",
   "metadata": {},
   "outputs": [
    {
     "data": {
      "text/plain": [
       "<AxesSubplot:>"
      ]
     },
     "execution_count": 465,
     "metadata": {},
     "output_type": "execute_result"
    },
    {
     "data": {
      "image/png": "[encoded data removed]",
      "text/plain": [
       "<Figure size 432x288 with 1 Axes>"
      ]
     },
     "metadata": {
      "needs_background": "light"
     },
     "output_type": "display_data"
    }
   ],
   "source": [
    "df['state'].value_counts().head(10).plot.bar()"
   ]
  },
  {
   "cell_type": "code",
   "execution_count": 462,
   "id": "09d2530e",
   "metadata": {
    "scrolled": false
   },
   "outputs": [
    {
     "name": "stdout",
     "output_type": "stream",
     "text": [
      "Получаем таблицу\n"
     ]
    },
    {
     "data": {
      "text/html": [
       "<div>\n",
       "<style scoped>\n",
       "    .dataframe tbody tr th:only-of-type {\n",
       "        vertical-align: middle;\n",
       "    }\n",
       "\n",
       "    .dataframe tbody tr th {\n",
       "        vertical-align: top;\n",
       "    }\n",
       "\n",
       "    .dataframe thead th {\n",
       "        text-align: right;\n",
       "    }\n",
       "</style>\n",
       "<table border=\"1\" class=\"dataframe\">\n",
       "  <thead>\n",
       "    <tr style=\"text-align: right;\">\n",
       "      <th></th>\n",
       "      <th>armed</th>\n",
       "      <th>age</th>\n",
       "      <th>race</th>\n",
       "      <th>city</th>\n",
       "      <th>state</th>\n",
       "      <th>signs_of_mental_illness</th>\n",
       "      <th>threat_level</th>\n",
       "      <th>flee</th>\n",
       "      <th>body_camera</th>\n",
       "      <th>week</th>\n",
       "      <th>year</th>\n",
       "      <th>month</th>\n",
       "    </tr>\n",
       "  </thead>\n",
       "  <tbody>\n",
       "    <tr>\n",
       "      <th>0</th>\n",
       "      <td>gun</td>\n",
       "      <td>53.0</td>\n",
       "      <td>A</td>\n",
       "      <td>Shelton</td>\n",
       "      <td>WA</td>\n",
       "      <td>True</td>\n",
       "      <td>attack</td>\n",
       "      <td>Not fleeing</td>\n",
       "      <td>False</td>\n",
       "      <td>4</td>\n",
       "      <td>2015</td>\n",
       "      <td>1</td>\n",
       "    </tr>\n",
       "    <tr>\n",
       "      <th>1</th>\n",
       "      <td>gun</td>\n",
       "      <td>47.0</td>\n",
       "      <td>W</td>\n",
       "      <td>Aloha</td>\n",
       "      <td>OR</td>\n",
       "      <td>False</td>\n",
       "      <td>attack</td>\n",
       "      <td>Not fleeing</td>\n",
       "      <td>False</td>\n",
       "      <td>4</td>\n",
       "      <td>2015</td>\n",
       "      <td>1</td>\n",
       "    </tr>\n",
       "    <tr>\n",
       "      <th>2</th>\n",
       "      <td>unarmed</td>\n",
       "      <td>23.0</td>\n",
       "      <td>H</td>\n",
       "      <td>Wichita</td>\n",
       "      <td>KS</td>\n",
       "      <td>False</td>\n",
       "      <td>other</td>\n",
       "      <td>Not fleeing</td>\n",
       "      <td>False</td>\n",
       "      <td>5</td>\n",
       "      <td>2015</td>\n",
       "      <td>1</td>\n",
       "    </tr>\n",
       "    <tr>\n",
       "      <th>3</th>\n",
       "      <td>toy weapon</td>\n",
       "      <td>32.0</td>\n",
       "      <td>W</td>\n",
       "      <td>San Francisco</td>\n",
       "      <td>CA</td>\n",
       "      <td>True</td>\n",
       "      <td>attack</td>\n",
       "      <td>Not fleeing</td>\n",
       "      <td>False</td>\n",
       "      <td>6</td>\n",
       "      <td>2015</td>\n",
       "      <td>1</td>\n",
       "    </tr>\n",
       "    <tr>\n",
       "      <th>4</th>\n",
       "      <td>nail gun</td>\n",
       "      <td>39.0</td>\n",
       "      <td>H</td>\n",
       "      <td>Evans</td>\n",
       "      <td>CO</td>\n",
       "      <td>False</td>\n",
       "      <td>attack</td>\n",
       "      <td>Not fleeing</td>\n",
       "      <td>False</td>\n",
       "      <td>6</td>\n",
       "      <td>2015</td>\n",
       "      <td>1</td>\n",
       "    </tr>\n",
       "    <tr>\n",
       "      <th>5</th>\n",
       "      <td>gun</td>\n",
       "      <td>18.0</td>\n",
       "      <td>W</td>\n",
       "      <td>Guthrie</td>\n",
       "      <td>OK</td>\n",
       "      <td>False</td>\n",
       "      <td>attack</td>\n",
       "      <td>Not fleeing</td>\n",
       "      <td>False</td>\n",
       "      <td>6</td>\n",
       "      <td>2015</td>\n",
       "      <td>1</td>\n",
       "    </tr>\n",
       "    <tr>\n",
       "      <th>6</th>\n",
       "      <td>gun</td>\n",
       "      <td>22.0</td>\n",
       "      <td>H</td>\n",
       "      <td>Chandler</td>\n",
       "      <td>AZ</td>\n",
       "      <td>False</td>\n",
       "      <td>attack</td>\n",
       "      <td>Car</td>\n",
       "      <td>False</td>\n",
       "      <td>0</td>\n",
       "      <td>2015</td>\n",
       "      <td>1</td>\n",
       "    </tr>\n",
       "    <tr>\n",
       "      <th>7</th>\n",
       "      <td>gun</td>\n",
       "      <td>35.0</td>\n",
       "      <td>W</td>\n",
       "      <td>Assaria</td>\n",
       "      <td>KS</td>\n",
       "      <td>False</td>\n",
       "      <td>attack</td>\n",
       "      <td>Not fleeing</td>\n",
       "      <td>False</td>\n",
       "      <td>1</td>\n",
       "      <td>2015</td>\n",
       "      <td>1</td>\n",
       "    </tr>\n",
       "    <tr>\n",
       "      <th>8</th>\n",
       "      <td>unarmed</td>\n",
       "      <td>34.0</td>\n",
       "      <td>W</td>\n",
       "      <td>Burlington</td>\n",
       "      <td>IA</td>\n",
       "      <td>False</td>\n",
       "      <td>other</td>\n",
       "      <td>Not fleeing</td>\n",
       "      <td>True</td>\n",
       "      <td>1</td>\n",
       "      <td>2015</td>\n",
       "      <td>1</td>\n",
       "    </tr>\n",
       "    <tr>\n",
       "      <th>9</th>\n",
       "      <td>toy weapon</td>\n",
       "      <td>47.0</td>\n",
       "      <td>B</td>\n",
       "      <td>Knoxville</td>\n",
       "      <td>PA</td>\n",
       "      <td>False</td>\n",
       "      <td>attack</td>\n",
       "      <td>Not fleeing</td>\n",
       "      <td>False</td>\n",
       "      <td>1</td>\n",
       "      <td>2015</td>\n",
       "      <td>1</td>\n",
       "    </tr>\n",
       "  </tbody>\n",
       "</table>\n",
       "</div>"
      ],
      "text/plain": [
       "        armed   age race           city state  signs_of_mental_illness  \\\n",
       "0         gun  53.0    A        Shelton    WA                     True   \n",
       "1         gun  47.0    W          Aloha    OR                    False   \n",
       "2     unarmed  23.0    H        Wichita    KS                    False   \n",
       "3  toy weapon  32.0    W  San Francisco    CA                     True   \n",
       "4    nail gun  39.0    H          Evans    CO                    False   \n",
       "5         gun  18.0    W        Guthrie    OK                    False   \n",
       "6         gun  22.0    H       Chandler    AZ                    False   \n",
       "7         gun  35.0    W        Assaria    KS                    False   \n",
       "8     unarmed  34.0    W     Burlington    IA                    False   \n",
       "9  toy weapon  47.0    B      Knoxville    PA                    False   \n",
       "\n",
       "  threat_level         flee  body_camera  week  year  month  \n",
       "0       attack  Not fleeing        False     4  2015      1  \n",
       "1       attack  Not fleeing        False     4  2015      1  \n",
       "2        other  Not fleeing        False     5  2015      1  \n",
       "3       attack  Not fleeing        False     6  2015      1  \n",
       "4       attack  Not fleeing        False     6  2015      1  \n",
       "5       attack  Not fleeing        False     6  2015      1  \n",
       "6       attack          Car        False     0  2015      1  \n",
       "7       attack  Not fleeing        False     1  2015      1  \n",
       "8        other  Not fleeing         True     1  2015      1  \n",
       "9       attack  Not fleeing        False     1  2015      1  "
      ]
     },
     "execution_count": 462,
     "metadata": {},
     "output_type": "execute_result"
    }
   ],
   "source": [
    "print('Получаем таблицу')\n",
    "df.head(10)"
   ]
  },
  {
   "cell_type": "markdown",
   "id": "5bf75a8a",
   "metadata": {},
   "source": [
    "Вывод психологические заболевания не влияют на количество преступлений, однако количество преступлений с психологическим заболеванием у расы 'W' заметно выше чем у других рас. По времени года самым опасным временем считается Март в будни, а выходные самыми безопасными. Преступления чаще всего совершаются в возрасте от 20 до 50 лет. Самым опасным штатом является 'CA', а самыми опасными городами являются  Los Angeles и Phoenix. Количество преступлений зафиксированное камерой растет и это помогает разобраться в причинах преступления. Почти всегда в преступлениях участвуют мужчины. Самое частое оружие это пистолет и нож."
   ]
  }
 ],
 "metadata": {
  "kernelspec": {
   "display_name": "Python 3 (ipykernel)",
   "language": "python",
   "name": "python3"
  },
  "language_info": {
   "codemirror_mode": {
    "name": "ipython",
    "version": 3
   },
   "file_extension": ".py",
   "mimetype": "text/x-python",
   "name": "python",
   "nbconvert_exporter": "python",
   "pygments_lexer": "ipython3",
   "version": "3.9.12"
  }
 },
 "nbformat": 4,
 "nbformat_minor": 5
}
