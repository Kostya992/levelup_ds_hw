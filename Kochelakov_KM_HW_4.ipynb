{
 "cells": [
  {
   "cell_type": "markdown",
   "metadata": {},
   "source": [
    "Тетрадка предназначена для студентов образвательного проекта Booster MDS использование вне проекта запрещено."
   ]
  },
  {
   "cell_type": "markdown",
   "metadata": {},
   "source": [
    "##### Задания не несут смысловой нагрузки для реальной жизни, они сделаны лишь для того, чтоб научить использовать Pandas"
   ]
  },
  {
   "cell_type": "markdown",
   "metadata": {},
   "source": [
    "#### Каждое задание оценивает в 1 балл, для успешной сдачи задания нужно набрать 12 баллов"
   ]
  },
  {
   "cell_type": "markdown",
   "metadata": {},
   "source": [
    "This database contains 76 attributes, but all published experiments refer to using a subset of 14 of them. In particular, the Cleveland database is the only one that has been used by ML researchers to this date. The \"goal\" field refers to the presence of heart disease in the patient. It is integer valued from 0 (no presence) to 1."
   ]
  },
  {
   "cell_type": "markdown",
   "metadata": {},
   "source": [
    "https://www.kaggle.com/ronitf/heart-disease-uci"
   ]
  },
  {
   "cell_type": "markdown",
   "metadata": {},
   "source": [
    "___"
   ]
  },
  {
   "cell_type": "code",
   "execution_count": 1,
   "metadata": {},
   "outputs": [],
   "source": [
    "import pandas as pd\n",
    "import numpy as np"
   ]
  },
  {
   "cell_type": "code",
   "execution_count": 2,
   "metadata": {},
   "outputs": [],
   "source": [
    "data = pd.read_csv('heart_pandas.csv')"
   ]
  },
  {
   "cell_type": "code",
   "execution_count": 226,
   "metadata": {},
   "outputs": [
    {
     "data": {
      "text/html": [
       "<div>\n",
       "<style scoped>\n",
       "    .dataframe tbody tr th:only-of-type {\n",
       "        vertical-align: middle;\n",
       "    }\n",
       "\n",
       "    .dataframe tbody tr th {\n",
       "        vertical-align: top;\n",
       "    }\n",
       "\n",
       "    .dataframe thead th {\n",
       "        text-align: right;\n",
       "    }\n",
       "</style>\n",
       "<table border=\"1\" class=\"dataframe\">\n",
       "  <thead>\n",
       "    <tr style=\"text-align: right;\">\n",
       "      <th></th>\n",
       "      <th>age</th>\n",
       "      <th>sex</th>\n",
       "      <th>chest_pain_type</th>\n",
       "      <th>resting_blood_pressure</th>\n",
       "      <th>cholesterol</th>\n",
       "      <th>fasting_blood_sugar</th>\n",
       "      <th>rest_ecg</th>\n",
       "      <th>max_heart_rate_achieved</th>\n",
       "      <th>exercise_induced_angina</th>\n",
       "      <th>st_depression</th>\n",
       "      <th>st_slope</th>\n",
       "      <th>num_major_vessels</th>\n",
       "      <th>thalassemia</th>\n",
       "      <th>target</th>\n",
       "    </tr>\n",
       "  </thead>\n",
       "  <tbody>\n",
       "    <tr>\n",
       "      <th>0</th>\n",
       "      <td>63</td>\n",
       "      <td>male</td>\n",
       "      <td>non-anginal pain</td>\n",
       "      <td>145</td>\n",
       "      <td>233</td>\n",
       "      <td>greater than 120mg/ml</td>\n",
       "      <td>normal</td>\n",
       "      <td>150</td>\n",
       "      <td>no</td>\n",
       "      <td>2.3</td>\n",
       "      <td>upsloping</td>\n",
       "      <td>0</td>\n",
       "      <td>normal</td>\n",
       "      <td>1</td>\n",
       "    </tr>\n",
       "    <tr>\n",
       "      <th>1</th>\n",
       "      <td>37</td>\n",
       "      <td>male</td>\n",
       "      <td>atypical angina</td>\n",
       "      <td>130</td>\n",
       "      <td>250</td>\n",
       "      <td>lower than 120mg/ml</td>\n",
       "      <td>ST-T wave abnormality</td>\n",
       "      <td>187</td>\n",
       "      <td>no</td>\n",
       "      <td>3.5</td>\n",
       "      <td>upsloping</td>\n",
       "      <td>0</td>\n",
       "      <td>fixed defect</td>\n",
       "      <td>1</td>\n",
       "    </tr>\n",
       "    <tr>\n",
       "      <th>2</th>\n",
       "      <td>41</td>\n",
       "      <td>female</td>\n",
       "      <td>typical angina</td>\n",
       "      <td>130</td>\n",
       "      <td>204</td>\n",
       "      <td>lower than 120mg/ml</td>\n",
       "      <td>normal</td>\n",
       "      <td>172</td>\n",
       "      <td>no</td>\n",
       "      <td>1.4</td>\n",
       "      <td>flat</td>\n",
       "      <td>0</td>\n",
       "      <td>fixed defect</td>\n",
       "      <td>1</td>\n",
       "    </tr>\n",
       "    <tr>\n",
       "      <th>3</th>\n",
       "      <td>56</td>\n",
       "      <td>male</td>\n",
       "      <td>typical angina</td>\n",
       "      <td>120</td>\n",
       "      <td>236</td>\n",
       "      <td>lower than 120mg/ml</td>\n",
       "      <td>ST-T wave abnormality</td>\n",
       "      <td>178</td>\n",
       "      <td>no</td>\n",
       "      <td>0.8</td>\n",
       "      <td>flat</td>\n",
       "      <td>0</td>\n",
       "      <td>fixed defect</td>\n",
       "      <td>1</td>\n",
       "    </tr>\n",
       "    <tr>\n",
       "      <th>4</th>\n",
       "      <td>57</td>\n",
       "      <td>female</td>\n",
       "      <td>typical angina</td>\n",
       "      <td>120</td>\n",
       "      <td>354</td>\n",
       "      <td>lower than 120mg/ml</td>\n",
       "      <td>ST-T wave abnormality</td>\n",
       "      <td>163</td>\n",
       "      <td>yes</td>\n",
       "      <td>0.6</td>\n",
       "      <td>flat</td>\n",
       "      <td>0</td>\n",
       "      <td>fixed defect</td>\n",
       "      <td>1</td>\n",
       "    </tr>\n",
       "  </tbody>\n",
       "</table>\n",
       "</div>"
      ],
      "text/plain": [
       "   age     sex   chest_pain_type  resting_blood_pressure  cholesterol  \\\n",
       "0   63    male  non-anginal pain                     145          233   \n",
       "1   37    male   atypical angina                     130          250   \n",
       "2   41  female    typical angina                     130          204   \n",
       "3   56    male    typical angina                     120          236   \n",
       "4   57  female    typical angina                     120          354   \n",
       "\n",
       "     fasting_blood_sugar               rest_ecg  max_heart_rate_achieved  \\\n",
       "0  greater than 120mg/ml                 normal                      150   \n",
       "1    lower than 120mg/ml  ST-T wave abnormality                      187   \n",
       "2    lower than 120mg/ml                 normal                      172   \n",
       "3    lower than 120mg/ml  ST-T wave abnormality                      178   \n",
       "4    lower than 120mg/ml  ST-T wave abnormality                      163   \n",
       "\n",
       "  exercise_induced_angina  st_depression   st_slope  num_major_vessels  \\\n",
       "0                      no            2.3  upsloping                  0   \n",
       "1                      no            3.5  upsloping                  0   \n",
       "2                      no            1.4       flat                  0   \n",
       "3                      no            0.8       flat                  0   \n",
       "4                     yes            0.6       flat                  0   \n",
       "\n",
       "    thalassemia  target  \n",
       "0        normal       1  \n",
       "1  fixed defect       1  \n",
       "2  fixed defect       1  \n",
       "3  fixed defect       1  \n",
       "4  fixed defect       1  "
      ]
     },
     "execution_count": 226,
     "metadata": {},
     "output_type": "execute_result"
    }
   ],
   "source": [
    "data.head(5)"
   ]
  },
  {
   "cell_type": "markdown",
   "metadata": {},
   "source": [
    "#### Описание признаков"
   ]
  },
  {
   "cell_type": "markdown",
   "metadata": {},
   "source": [
    "**age**: The person's age in years\n",
    "\n",
    "**sex**: The person's sex (1 = male, 0 = female)\n",
    "\n",
    "**cp**: The chest pain experienced (Value 1: typical angina, Value 2: atypical angina, Value 3: non-anginal pain, Value 4: asymptomatic)\n",
    "\n",
    "**trestbps**: The person's resting blood pressure (mm Hg on admission to the hospital)\n",
    "\n",
    "**chol**: The person's cholesterol measurement in mg/dl\n",
    "\n",
    "**fbs**: The person's fasting blood sugar (> 120 mg/dl, 1 = true; 0 = false)\n",
    "\n",
    "**restecg**: Resting electrocardiographic measurement (0 = normal, 1 = having ST-T wave abnormality, 2 = showing probable or definite left ventricular hypertrophy by Estes' criteria)\n",
    "\n",
    "**thalach**: The person's maximum heart rate achieved\n",
    "\n",
    "**exang**: Exercise induced angina (1 = yes; 0 = no)\n",
    "\n",
    "**oldpeak**: ST depression induced by exercise relative to rest ('ST' relates to positions on the ECG plot. See more here)\n",
    "\n",
    "**slope**: the slope of the peak exercise ST segment (Value 1: upsloping, Value 2: flat, Value 3: downsloping)\n",
    "\n",
    "**ca**: The number of major vessels (0-3)\n",
    "\n",
    "**thal**: A blood disorder called thalassemia (3 = normal; 6 = fixed defect; 7 = reversable defect)\n",
    "\n",
    "**target**: Heart disease (0 = no, 1 = yes)"
   ]
  },
  {
   "cell_type": "markdown",
   "metadata": {},
   "source": [
    "> 1. age \n",
    "> 2. sex \n",
    "> 3. chest pain type (4 values) \n",
    "> 4. resting blood pressure \n",
    "> 5. serum cholestoral in mg/dl \n",
    "> 6. fasting blood sugar > 120 mg/dl\n",
    "> 7. resting electrocardiographic results (values 0,1,2)\n",
    "> 8. maximum heart rate achieved \n",
    "> 9. exercise induced angina \n",
    "> 10. oldpeak = ST depression induced by exercise relative to rest \n",
    "> 11. the slope of the peak exercise ST segment \n",
    "> 12. number of major vessels (0-3) colored by flourosopy \n",
    "> 13. thal: 3 = normal; 6 = fixed defect; 7 = reversable defect"
   ]
  },
  {
   "cell_type": "markdown",
   "metadata": {},
   "source": [
    "___"
   ]
  },
  {
   "cell_type": "markdown",
   "metadata": {},
   "source": [
    "**Сколько мужчин в датасете? Сколько женщен? (sex) **"
   ]
  },
  {
   "cell_type": "code",
   "execution_count": 5,
   "metadata": {},
   "outputs": [
    {
     "name": "stdout",
     "output_type": "stream",
     "text": [
      "207\n",
      "96\n"
     ]
    }
   ],
   "source": [
    "## Ваш код\n",
    "print(len(data[data.sex == 'male']))\n",
    "print(len(data) - len(data[data.sex == 'male']))"
   ]
  },
  {
   "cell_type": "markdown",
   "metadata": {},
   "source": [
    "## Ваш ответ:\n",
    "Мужчин - 207;\n",
    "\n",
    "Женщен - 96;"
   ]
  },
  {
   "cell_type": "markdown",
   "metadata": {},
   "source": [
    " **Какой процент мужчин в датасете? (решите в одну строчку, не используя предыдущий результат. Не забудте знак процента) **"
   ]
  },
  {
   "cell_type": "code",
   "execution_count": 16,
   "metadata": {},
   "outputs": [
    {
     "data": {
      "text/plain": [
       "'0.68%'"
      ]
     },
     "execution_count": 16,
     "metadata": {},
     "output_type": "execute_result"
    }
   ],
   "source": [
    "## Ваш код\n",
    "'%.2f' %(len(data[data.sex == 'male'])/len(data)) + '%'"
   ]
  },
  {
   "cell_type": "markdown",
   "metadata": {},
   "source": [
    "## Ваш ответ:\n",
    "Процент мужчин в датасете = 0.68%"
   ]
  },
  {
   "cell_type": "markdown",
   "metadata": {},
   "source": [
    "**Сколько мужчин имеют заболевание сердца? Сколько женщин имеют заболевание сердца? **"
   ]
  },
  {
   "cell_type": "code",
   "execution_count": 21,
   "metadata": {},
   "outputs": [
    {
     "name": "stdout",
     "output_type": "stream",
     "text": [
      "93\n",
      "72\n"
     ]
    }
   ],
   "source": [
    "## Ваш код\n",
    "print(len(data[(data.sex == 'male')&(data.target == 1)]))\n",
    "print(len(data[(data.sex = 'male')&(data.target == 1)]))"
   ]
  },
  {
   "cell_type": "markdown",
   "metadata": {},
   "source": [
    "## Ваш ответ:\n",
    "93 мужчины имеют заболевание сердца\n",
    "\n",
    "72 женщины имеют заболевание сердца"
   ]
  },
  {
   "cell_type": "markdown",
   "metadata": {},
   "source": [
    "**Какую долю, от общего числа пациентов, занимают мужчины не имеющие болезнь сердца?**"
   ]
  },
  {
   "cell_type": "code",
   "execution_count": 24,
   "metadata": {},
   "outputs": [
    {
     "data": {
      "text/plain": [
       "'0.31'"
      ]
     },
     "execution_count": 24,
     "metadata": {},
     "output_type": "execute_result"
    }
   ],
   "source": [
    "## Ваш код\n",
    "'%.2f' %(len(data[(data.sex == 'male')&(data.target == 1)])/len(data))"
   ]
  },
  {
   "cell_type": "markdown",
   "metadata": {},
   "source": [
    "## Ваш ответ:\n",
    "Мужчины не имеющие болезнь сердца занимают 0.31% от общего числа пациентов."
   ]
  },
  {
   "cell_type": "markdown",
   "metadata": {},
   "source": [
    "**Сколько лет самому молодому пациенту, страдающему болезнью сердца?**"
   ]
  },
  {
   "cell_type": "code",
   "execution_count": 32,
   "metadata": {},
   "outputs": [
    {
     "data": {
      "text/plain": [
       "29"
      ]
     },
     "execution_count": 32,
     "metadata": {},
     "output_type": "execute_result"
    }
   ],
   "source": [
    "## Ваш код\n",
    "data[data.target == 1].age.min()"
   ]
  },
  {
   "cell_type": "markdown",
   "metadata": {},
   "source": [
    "## Ваш ответ:\n",
    "Cамому молодому пациенту, страдающему болезнью сердца 29 лет."
   ]
  },
  {
   "cell_type": "markdown",
   "metadata": {},
   "source": [
    "**Сколько лет самому возастному пациенту, у которого нет проблем с сердцем?**"
   ]
  },
  {
   "cell_type": "code",
   "execution_count": 33,
   "metadata": {},
   "outputs": [
    {
     "data": {
      "text/plain": [
       "77"
      ]
     },
     "execution_count": 33,
     "metadata": {},
     "output_type": "execute_result"
    }
   ],
   "source": [
    "## Ваш код\n",
    "data[data.target != 1].age.max()"
   ]
  },
  {
   "cell_type": "markdown",
   "metadata": {},
   "source": [
    "## Ваш ответ:\n",
    "Cамому возастному пациенту, у которого нет проблем с сердцем 77 лет."
   ]
  },
  {
   "cell_type": "markdown",
   "metadata": {},
   "source": [
    "**Сколько лет самой молодой женщине, которая страдает болезнью сердца?**"
   ]
  },
  {
   "cell_type": "code",
   "execution_count": 36,
   "metadata": {},
   "outputs": [
    {
     "data": {
      "text/plain": [
       "34"
      ]
     },
     "execution_count": 36,
     "metadata": {},
     "output_type": "execute_result"
    }
   ],
   "source": [
    "## Ваш код\n",
    "data[(data.sex != 'male')&(data.target == 1)].age.min()"
   ]
  },
  {
   "cell_type": "markdown",
   "metadata": {},
   "source": [
    "## Ваш ответ:\n",
    "Возрост самой молодой женщине, которая страдает болезнью сердца равен: 34 года"
   ]
  },
  {
   "cell_type": "markdown",
   "metadata": {},
   "source": [
    "**Какой средний возраст женщин?**"
   ]
  },
  {
   "cell_type": "code",
   "execution_count": 40,
   "metadata": {},
   "outputs": [
    {
     "data": {
      "text/plain": [
       "'56'"
      ]
     },
     "execution_count": 40,
     "metadata": {},
     "output_type": "execute_result"
    }
   ],
   "source": [
    "## Ваш код\n",
    "'%.0f' %data[data.sex != 'male'].age.mean()"
   ]
  },
  {
   "cell_type": "markdown",
   "metadata": {},
   "source": [
    "## Ваш ответ:\n",
    "Средний возраст женщин: 56 лет"
   ]
  },
  {
   "cell_type": "markdown",
   "metadata": {},
   "source": [
    "**Каковы средние значения и среднеквадратичные отклонения возраста тех, кто страдают болезнью сердца?**"
   ]
  },
  {
   "cell_type": "code",
   "execution_count": 46,
   "metadata": {},
   "outputs": [
    {
     "name": "stdout",
     "output_type": "stream",
     "text": [
      "52\n",
      "9.6\n"
     ]
    }
   ],
   "source": [
    "## Ваш код\n",
    "print('%.0f' %data[data.target == 1].age.mean())\n",
    "print('%.1f' %data[data.target == 1].age.std())"
   ]
  },
  {
   "cell_type": "markdown",
   "metadata": {},
   "source": [
    "## Ваш ответ:\n",
    "Средние значения возраста тех, кто страдают болезнью сердца: 52 года\n",
    "\n",
    "Среднеквадратичные отклонения возраста тех, кто страдают болезнью сердца: 9.6 лет"
   ]
  },
  {
   "cell_type": "markdown",
   "metadata": {},
   "source": [
    "** Правда ли, что люди не болеющие болезнью сердца имеют уровня холестерина меньше среднего? (chol) **"
   ]
  },
  {
   "cell_type": "code",
   "execution_count": 254,
   "metadata": {},
   "outputs": [
    {
     "name": "stdout",
     "output_type": "stream",
     "text": [
      "Уровня холестерина:                   246\n",
      "Уровня холестерина среди не болеющих: 251\n"
     ]
    },
    {
     "data": {
      "text/plain": [
       "<matplotlib.axes._subplots.AxesSubplot at 0x221666cdb00>"
      ]
     },
     "execution_count": 254,
     "metadata": {},
     "output_type": "execute_result"
    },
    {
     "data": {
      "image/png": "[encoded data removed]",
      "text/plain": [
       "<Figure size 432x288 with 1 Axes>"
      ]
     },
     "metadata": {
      "needs_background": "light"
     },
     "output_type": "display_data"
    }
   ],
   "source": [
    "## Ваш код\n",
    "print('Уровня холестерина:                   %.0f'\n",
    "      %data.cholesterol.mean())\n",
    "print('Уровня холестерина среди не болеющих: %.0f' \n",
    "      %data[data.target != 1].cholesterol.mean())\n",
    "data[data.target != 1].cholesterol.plot(kind=\"hist\")"
   ]
  },
  {
   "cell_type": "code",
   "execution_count": 255,
   "metadata": {},
   "outputs": [
    {
     "name": "stdout",
     "output_type": "stream",
     "text": [
      "Уровня холестерина среди болеющих: 242\n"
     ]
    },
    {
     "data": {
      "text/plain": [
       "<matplotlib.axes._subplots.AxesSubplot at 0x2216673cc18>"
      ]
     },
     "execution_count": 255,
     "metadata": {},
     "output_type": "execute_result"
    },
    {
     "data": {
      "image/png": "[encoded data removed]",
      "text/plain": [
       "<Figure size 432x288 with 1 Axes>"
      ]
     },
     "metadata": {
      "needs_background": "light"
     },
     "output_type": "display_data"
    }
   ],
   "source": [
    "print('Уровня холестерина среди болеющих: %.0f'\n",
    "      %data[data.target == 1].cholesterol.mean())\n",
    "data[data.target == 1].cholesterol.plot(kind=\"hist\")"
   ]
  },
  {
   "cell_type": "markdown",
   "metadata": {},
   "source": [
    "## Ваш ответ:\n",
    "Не правда! \n",
    "\n",
    "Верное утверждение, что люди болеющие болезнью сердца имеют уровня холестерина меньше среднего."
   ]
  },
  {
   "cell_type": "markdown",
   "metadata": {},
   "source": [
    "**Выведите статистику rest_ecg для все числовых признаков, его максимально и среднее значение (используйте groupby(), решите в одну строчку)**"
   ]
  },
  {
   "cell_type": "code",
   "execution_count": 194,
   "metadata": {},
   "outputs": [
    {
     "data": {
      "text/html": [
       "<div>\n",
       "<style scoped>\n",
       "    .dataframe tbody tr th:only-of-type {\n",
       "        vertical-align: middle;\n",
       "    }\n",
       "\n",
       "    .dataframe tbody tr th {\n",
       "        vertical-align: top;\n",
       "    }\n",
       "\n",
       "    .dataframe thead th {\n",
       "        text-align: right;\n",
       "    }\n",
       "</style>\n",
       "<table border=\"1\" class=\"dataframe\">\n",
       "  <thead>\n",
       "    <tr style=\"text-align: right;\">\n",
       "      <th></th>\n",
       "      <th>rest_ecg</th>\n",
       "      <th>ST-T wave abnormality</th>\n",
       "      <th>left ventricular hypertrophy</th>\n",
       "      <th>normal</th>\n",
       "    </tr>\n",
       "  </thead>\n",
       "  <tbody>\n",
       "    <tr>\n",
       "      <th rowspan=\"2\" valign=\"top\">age</th>\n",
       "      <th>max</th>\n",
       "      <td>71.000000</td>\n",
       "      <td>76.000</td>\n",
       "      <td>77.000000</td>\n",
       "    </tr>\n",
       "    <tr>\n",
       "      <th>mean</th>\n",
       "      <td>52.914474</td>\n",
       "      <td>61.000</td>\n",
       "      <td>55.687075</td>\n",
       "    </tr>\n",
       "    <tr>\n",
       "      <th rowspan=\"2\" valign=\"top\">resting_blood_pressure</th>\n",
       "      <th>max</th>\n",
       "      <td>180.000000</td>\n",
       "      <td>180.000</td>\n",
       "      <td>200.000000</td>\n",
       "    </tr>\n",
       "    <tr>\n",
       "      <th>mean</th>\n",
       "      <td>129.065789</td>\n",
       "      <td>140.500</td>\n",
       "      <td>134.027211</td>\n",
       "    </tr>\n",
       "    <tr>\n",
       "      <th rowspan=\"2\" valign=\"top\">cholesterol</th>\n",
       "      <th>max</th>\n",
       "      <td>354.000000</td>\n",
       "      <td>327.000</td>\n",
       "      <td>564.000000</td>\n",
       "    </tr>\n",
       "    <tr>\n",
       "      <th>mean</th>\n",
       "      <td>237.269737</td>\n",
       "      <td>261.750</td>\n",
       "      <td>255.142857</td>\n",
       "    </tr>\n",
       "    <tr>\n",
       "      <th rowspan=\"2\" valign=\"top\">max_heart_rate_achieved</th>\n",
       "      <th>max</th>\n",
       "      <td>194.000000</td>\n",
       "      <td>140.000</td>\n",
       "      <td>202.000000</td>\n",
       "    </tr>\n",
       "    <tr>\n",
       "      <th>mean</th>\n",
       "      <td>151.960526</td>\n",
       "      <td>125.750</td>\n",
       "      <td>147.904762</td>\n",
       "    </tr>\n",
       "    <tr>\n",
       "      <th rowspan=\"2\" valign=\"top\">st_depression</th>\n",
       "      <th>max</th>\n",
       "      <td>5.600000</td>\n",
       "      <td>4.400</td>\n",
       "      <td>6.200000</td>\n",
       "    </tr>\n",
       "    <tr>\n",
       "      <th>mean</th>\n",
       "      <td>0.879605</td>\n",
       "      <td>2.725</td>\n",
       "      <td>1.159184</td>\n",
       "    </tr>\n",
       "    <tr>\n",
       "      <th rowspan=\"2\" valign=\"top\">num_major_vessels</th>\n",
       "      <th>max</th>\n",
       "      <td>4.000000</td>\n",
       "      <td>3.000</td>\n",
       "      <td>4.000000</td>\n",
       "    </tr>\n",
       "    <tr>\n",
       "      <th>mean</th>\n",
       "      <td>0.638158</td>\n",
       "      <td>1.000</td>\n",
       "      <td>0.816327</td>\n",
       "    </tr>\n",
       "    <tr>\n",
       "      <th rowspan=\"2\" valign=\"top\">target</th>\n",
       "      <th>max</th>\n",
       "      <td>1.000000</td>\n",
       "      <td>1.000</td>\n",
       "      <td>1.000000</td>\n",
       "    </tr>\n",
       "    <tr>\n",
       "      <th>mean</th>\n",
       "      <td>0.631579</td>\n",
       "      <td>0.250</td>\n",
       "      <td>0.462585</td>\n",
       "    </tr>\n",
       "  </tbody>\n",
       "</table>\n",
       "</div>"
      ],
      "text/plain": [
       "rest_ecg                      ST-T wave abnormality  \\\n",
       "age                     max               71.000000   \n",
       "                        mean              52.914474   \n",
       "resting_blood_pressure  max              180.000000   \n",
       "                        mean             129.065789   \n",
       "cholesterol             max              354.000000   \n",
       "                        mean             237.269737   \n",
       "max_heart_rate_achieved max              194.000000   \n",
       "                        mean             151.960526   \n",
       "st_depression           max                5.600000   \n",
       "                        mean               0.879605   \n",
       "num_major_vessels       max                4.000000   \n",
       "                        mean               0.638158   \n",
       "target                  max                1.000000   \n",
       "                        mean               0.631579   \n",
       "\n",
       "rest_ecg                      left ventricular hypertrophy      normal  \n",
       "age                     max                         76.000   77.000000  \n",
       "                        mean                        61.000   55.687075  \n",
       "resting_blood_pressure  max                        180.000  200.000000  \n",
       "                        mean                       140.500  134.027211  \n",
       "cholesterol             max                        327.000  564.000000  \n",
       "                        mean                       261.750  255.142857  \n",
       "max_heart_rate_achieved max                        140.000  202.000000  \n",
       "                        mean                       125.750  147.904762  \n",
       "st_depression           max                          4.400    6.200000  \n",
       "                        mean                         2.725    1.159184  \n",
       "num_major_vessels       max                          3.000    4.000000  \n",
       "                        mean                         1.000    0.816327  \n",
       "target                  max                          1.000    1.000000  \n",
       "                        mean                         0.250    0.462585  "
      ]
     },
     "execution_count": 194,
     "metadata": {},
     "output_type": "execute_result"
    }
   ],
   "source": [
    "## Ваш код\n",
    "data.groupby('rest_ecg').agg(['max','mean']).T"
   ]
  },
  {
   "cell_type": "markdown",
   "metadata": {},
   "source": [
    "## Ваш ответ:\n",
    "data.groupby('rest_ecg').agg(['max','mean']).T"
   ]
  },
  {
   "cell_type": "markdown",
   "metadata": {},
   "source": [
    "**Посчитайте у кого уровень депрессии при физический нагрузке выше (в среднем), среди мужчин страдающих болезнью сердца или среди женщин не страдающих болезнью сердца (st_depression)**"
   ]
  },
  {
   "cell_type": "code",
   "execution_count": 261,
   "metadata": {},
   "outputs": [
    {
     "name": "stdout",
     "output_type": "stream",
     "text": [
      "Показания уровеня депрессии среди мужчин страдающих болезнью сердца:    0.61\n",
      "Показания уровеня депрессии среди женщин не страдающих болезнью сердца :1.84\n"
     ]
    }
   ],
   "source": [
    "## Ваш код\n",
    "print('Показания уровеня депрессии среди мужчин страдающих болезнью сердца:',\n",
    "      '   %.2f' %data[(data.sex == 'male')&(data.target == 1)].\n",
    "      st_depression.mean())\n",
    "print('Показания уровеня депрессии среди женщин не страдающих болезнью сердца',\n",
    "      ':%.2f' %data[(data.sex != 'male')&(data.target != 1)].\n",
    "      st_depression.mean())"
   ]
  },
  {
   "cell_type": "markdown",
   "metadata": {},
   "source": [
    "## Ваш ответ:\n",
    "Уровень депрессии при физический нагрузке выше (в среднем), среди женщин не страдающих болезнью сердца."
   ]
  },
  {
   "cell_type": "markdown",
   "metadata": {},
   "source": [
    "**Посчтитайте максимальный и минимальный уровень холестерина для каждого типа chest_pain_type, rest_ecg, thalassemia. Пишите код оптимально, можно использовать циклы**"
   ]
  },
  {
   "cell_type": "code",
   "execution_count": 222,
   "metadata": {},
   "outputs": [
    {
     "name": "stdout",
     "output_type": "stream",
     "text": [
      "--------------------------------------------------\n",
      "                  max  min\n",
      "chest_pain_type           \n",
      "atypical angina   564  126\n",
      "non-anginal pain  298  182\n",
      "typical angina    409  131\n",
      "--------------------------------------------------\n",
      "                              max  min\n",
      "rest_ecg                              \n",
      "ST-T wave abnormality         354  126\n",
      "left ventricular hypertrophy  327  197\n",
      "normal                        564  149\n",
      "--------------------------------------------------\n",
      "                   max  min\n",
      "thalassemia                \n",
      "fixed defect       417  141\n",
      "normal             318  169\n",
      "reversable defect  564  126\n"
     ]
    }
   ],
   "source": [
    "## Ваш код\n",
    "for_list = ['chest_pain_type','rest_ecg','thalassemia']\n",
    "for i in for_list:\n",
    "    print('-----'*10)\n",
    "    print(data.groupby(i)['cholesterol'].agg(['max','min']))"
   ]
  },
  {
   "cell_type": "code",
   "execution_count": null,
   "metadata": {},
   "outputs": [],
   "source": [
    "## Ваш ответ:"
   ]
  },
  {
   "cell_type": "markdown",
   "metadata": {},
   "source": [
    "**Сколько значений может принимать каждый из категориальных признаков?**"
   ]
  },
  {
   "cell_type": "code",
   "execution_count": 265,
   "metadata": {},
   "outputs": [
    {
     "name": "stdout",
     "output_type": "stream",
     "text": [
      "sex 2\n",
      "chest_pain_type 3\n",
      "fasting_blood_sugar 2\n",
      "rest_ecg 3\n",
      "exercise_induced_angina 2\n",
      "st_slope 2\n",
      "thalassemia 3\n",
      "num_major_vessels 5\n",
      "target 2\n"
     ]
    }
   ],
   "source": [
    "## Ваш код\n",
    "columns_list = ['sex','chest_pain_type','fasting_blood_sugar','rest_ecg',\n",
    "                'exercise_induced_angina','st_slope','thalassemia',\n",
    "                'num_major_vessels','target']\n",
    "for i in columns_list:\n",
    "    print(i, len(data[i].value_counts()))"
   ]
  },
  {
   "cell_type": "markdown",
   "metadata": {},
   "source": [
    "## Ваш ответ:\n",
    "Показывате сколько значений может принимать каждый из категориальных признаков:\n",
    "\n",
    "sex:-----------------------------------2\n",
    "\n",
    "chest_pain_type:------------------3\n",
    "\n",
    "fasting_blood_sugar:-------------2\n",
    "\n",
    "rest_ecg:-----------------------------3\n",
    "\n",
    "exercise_induced_angina:------2\n",
    "\n",
    "st_slope:-----------------------------2\n",
    "\n",
    "thalassemia:------------------------3\n",
    "\n",
    "num_major_vessels:--------------5\n",
    "\n",
    "target:---------------------------------2\n"
   ]
  },
  {
   "cell_type": "markdown",
   "metadata": {},
   "source": [
    "**У какого категориального признака наблюдается самый сильный дизбаланс классов?**"
   ]
  },
  {
   "cell_type": "code",
   "execution_count": 264,
   "metadata": {},
   "outputs": [
    {
     "name": "stdout",
     "output_type": "stream",
     "text": [
      "sex \n",
      "male      207\n",
      "female     96\n",
      "Name: sex, dtype: int64 \n",
      "\n",
      "chest_pain_type \n",
      "typical angina      193\n",
      "atypical angina      87\n",
      "non-anginal pain     23\n",
      "Name: chest_pain_type, dtype: int64 \n",
      "\n",
      "fasting_blood_sugar \n",
      "lower than 120mg/ml      258\n",
      "greater than 120mg/ml     45\n",
      "Name: fasting_blood_sugar, dtype: int64 \n",
      "\n",
      "rest_ecg \n",
      "ST-T wave abnormality           152\n",
      "normal                          147\n",
      "left ventricular hypertrophy      4\n",
      "Name: rest_ecg, dtype: int64 \n",
      "\n",
      "exercise_induced_angina \n",
      "no     204\n",
      "yes     99\n",
      "Name: exercise_induced_angina, dtype: int64 \n",
      "\n",
      "st_slope \n",
      "upsloping    161\n",
      "flat         142\n",
      "Name: st_slope, dtype: int64 \n",
      "\n",
      "thalassemia \n",
      "fixed defect         166\n",
      "reversable defect    117\n",
      "normal                20\n",
      "Name: thalassemia, dtype: int64 \n",
      "\n",
      "num_major_vessels \n",
      "0    175\n",
      "1     65\n",
      "2     38\n",
      "3     20\n",
      "4      5\n",
      "Name: num_major_vessels, dtype: int64 \n",
      "\n",
      "target \n",
      "1    165\n",
      "0    138\n",
      "Name: target, dtype: int64 \n",
      "\n"
     ]
    }
   ],
   "source": [
    "## Ваш код\n",
    "columns_list = ['sex','chest_pain_type','fasting_blood_sugar','rest_ecg',\n",
    "                'exercise_induced_angina','st_slope','thalassemia',\n",
    "                'num_major_vessels','target']\n",
    "for i in columns_list:\n",
    "    print(i,'\\n'+ str(data[i].value_counts()),'\\n')"
   ]
  },
  {
   "cell_type": "markdown",
   "metadata": {},
   "source": [
    "## Ваш ответ:\n",
    "Самый сильный дизбаланс классов среди 2-х значений fasting_blood_sugar\n",
    "\n",
    "Самый сильный дизбаланс классов среди 3-х значений rest_ecg (left ventricular hypertrophy      4)"
   ]
  },
  {
   "cell_type": "markdown",
   "metadata": {},
   "source": [
    "---"
   ]
  }
 ],
 "metadata": {
  "kernelspec": {
   "display_name": "Python 3",
   "language": "python",
   "name": "python3"
  },
  "language_info": {
   "codemirror_mode": {
    "name": "ipython",
    "version": 3
   },
   "file_extension": ".py",
   "mimetype": "text/x-python",
   "name": "python",
   "nbconvert_exporter": "python",
   "pygments_lexer": "ipython3",
   "version": "3.7.0"
  }
 },
 "nbformat": 4,
 "nbformat_minor": 2
}
